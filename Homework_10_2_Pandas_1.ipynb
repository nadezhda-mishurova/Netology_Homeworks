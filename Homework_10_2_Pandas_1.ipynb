{
 "cells": [
  {
   "cell_type": "markdown",
   "id": "ec2020f7",
   "metadata": {},
   "source": [
    "Задание 2\n",
    "По данным файла power.csv посчитайте суммарное потребление стран Прибалтики (Латвия, Литва и Эстония) категорий 4, 12 и 21 за период с 2005 по 2010 года. Не учитывайте в расчетах отрицательные значения quantity."
   ]
  },
  {
   "cell_type": "code",
   "execution_count": 2,
   "id": "0ca7f4a8",
   "metadata": {},
   "outputs": [
    {
     "data": {
      "text/plain": [
       "240580.0"
      ]
     },
     "execution_count": 2,
     "metadata": {},
     "output_type": "execute_result"
    }
   ],
   "source": [
    "import pandas as pd\n",
    "\n",
    "data = pd.read_csv('power.csv')\n",
    "# создаем фильтр на страны\n",
    "baltic_countries = data[(data['country'] == 'Latvia')|(data['country'] == 'Lithuania')|(data['country'] == 'Estonia')]\n",
    "# создаем фильтр на категории\n",
    "category_info = baltic_countries[(baltic_countries['category'] == 4)|\n",
    "                                 (baltic_countries['category'] == 12)|\n",
    "                                 (baltic_countries['category'] == 21)]\n",
    "# создаем фильтр на год\n",
    "category_and_year_info = category_info[(category_info['year'] >= 2005)&\n",
    "                                                         (category_info['year'] <= 2010)]\n",
    "# создаем фильтр на значения quantity > 0\n",
    "quantity_info = category_and_year_info[(category_and_year_info['quantity'] >= 0)]\n",
    "#selected_quantity_info.head(30)\n",
    "# считаем сумму значений столбца quantity (т.е.суммарное потребление стран Прибалтики)\n",
    "quantity_info['quantity'].sum()"
   ]
  }
 ],
 "metadata": {
  "kernelspec": {
   "display_name": "Python 3",
   "language": "python",
   "name": "python3"
  },
  "language_info": {
   "codemirror_mode": {
    "name": "ipython",
    "version": 3
   },
   "file_extension": ".py",
   "mimetype": "text/x-python",
   "name": "python",
   "nbconvert_exporter": "python",
   "pygments_lexer": "ipython3",
   "version": "3.8.8"
  }
 },
 "nbformat": 4,
 "nbformat_minor": 5
}
