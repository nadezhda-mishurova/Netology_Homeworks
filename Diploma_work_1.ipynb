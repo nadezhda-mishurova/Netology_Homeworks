{
 "cells": [
  {
   "cell_type": "markdown",
   "id": "d1e2cc49",
   "metadata": {},
   "source": [
    "Задание\n",
    "\n",
    "Дан файл HR.csv с данными по опросу уровня удовлетворенности сотрудниками работой.Файл доступен тут -https://drive.google.com/file/d/1INgo03nal-vwFJe7Lec5vOUtOwfJdUr1/view?usp=sharingПризнаки:1.satisfaction_level\n",
    "\n",
    "1.Satisfaction_level- Уровень удовлетворенности работой \n",
    "\n",
    "2.Last_evaluation - Время с момента последней оценки в годах \n",
    "\n",
    "3.number_projects - Количество проектов, выполненных за время работы \n",
    "\n",
    "4.average_monthly_hours - Среднее количество часов на рабочем месте в месяц \n",
    "\n",
    "5.time_spend_company - Стаж работы в компании в годах \n",
    "\n",
    "6.work_accident - Происходили ли несчастные случаи на рабочем месте с сотрудником \n",
    "\n",
    "7.left - уволился ли сотрудник \n",
    "\n",
    "8.promotion_last_5years - повышался ли сотрудник за последние пять лет\n",
    "\n",
    "9.department - отдел в котором работает сотрудник \n",
    "\n",
    "10.salary - относительный уровень зарплаты\n"
   ]
  },
  {
   "cell_type": "markdown",
   "id": "a554992e",
   "metadata": {},
   "source": [
    "Требуется выполнить следующее задание:\n",
    "\n",
    "# Задание\n",
    "\n",
    "#1. Загрузите файл HR.csv в pandas dataframe (5)\n",
    "\n",
    "#2. Рассчитайте основные статистики для переменных(среднее,медиана,мода,мин/макс,сред.отклонение) (10)\n",
    "\n",
    "#3. Рассчитайте и визуализируйте корреляционную матрицу для количественных переменных.\n",
    "Определите две самые скоррелированные и две наименеескоррелированные переменные (10)\n",
    "\n",
    "#4. Рассчитайте сколько сотрудников работает в каждом департаменте (5)\n",
    "\n",
    "#5. Показать распределение сотрудников по зарплатам (5)\n",
    "\n",
    "#6. Показать распределение сотрудников по зарплатам в каждом департаменте по отдельности (5)\n",
    "\n",
    "#7. Проверить гипотезу, что сотрудники с высоким окладомпроводят на работе больше времени, чем сотрудники с низкимокладом (10)\n",
    "\n",
    "#8. Рассчитать следующие показатели среди уволившихся и неуволившихся сотрудников (по отдельности) (10):\n",
    "    ● Доля сотрудников с повышением за последние 5 лет\n",
    "    ● Средняя степень удовлетворенности\n",
    "    ● Среднее количество проектов\n",
    "    \n",
    "#9. Разделить данные на тестовую и обучающую выборкиПостроить модель LDA, предсказывающую уволился ли сотрудник на основе имеющихся факторов (кроме department и salary) Оценить качество модели на тестовой выборки (20)\n",
    "\n",
    "#10. Загрузить jupyter notebook с решение на github и прислать ссылку (5)\n",
    "\n",
    "\n",
    "Итого - максимум #85 баллов\n",
    "\n",
    "Для зачета необходимо набрать минимум #55"
   ]
  },
  {
   "cell_type": "code",
   "execution_count": 2,
   "id": "b43c66b4",
   "metadata": {},
   "outputs": [],
   "source": [
    "import pandas as pd\n",
    "import numpy as np\n",
    "import matplotlib as mpl\n",
    "import matplotlib.pyplot as plt\n",
    "import seaborn as sns"
   ]
  },
  {
   "cell_type": "markdown",
   "id": "97a24e43",
   "metadata": {},
   "source": [
    "# Загружаем файл HR.csv в pandas dataframe (5 баллов)"
   ]
  },
  {
   "cell_type": "code",
   "execution_count": 3,
   "id": "88f65127",
   "metadata": {},
   "outputs": [
    {
     "data": {
      "text/html": [
       "<div>\n",
       "<style scoped>\n",
       "    .dataframe tbody tr th:only-of-type {\n",
       "        vertical-align: middle;\n",
       "    }\n",
       "\n",
       "    .dataframe tbody tr th {\n",
       "        vertical-align: top;\n",
       "    }\n",
       "\n",
       "    .dataframe thead th {\n",
       "        text-align: right;\n",
       "    }\n",
       "</style>\n",
       "<table border=\"1\" class=\"dataframe\">\n",
       "  <thead>\n",
       "    <tr style=\"text-align: right;\">\n",
       "      <th></th>\n",
       "      <th>satisfaction_level</th>\n",
       "      <th>last_evaluation</th>\n",
       "      <th>number_project</th>\n",
       "      <th>average_montly_hours</th>\n",
       "      <th>time_spend_company</th>\n",
       "      <th>Work_accident</th>\n",
       "      <th>left</th>\n",
       "      <th>promotion_last_5years</th>\n",
       "      <th>department</th>\n",
       "      <th>salary</th>\n",
       "    </tr>\n",
       "  </thead>\n",
       "  <tbody>\n",
       "    <tr>\n",
       "      <th>0</th>\n",
       "      <td>0.38</td>\n",
       "      <td>0.53</td>\n",
       "      <td>2</td>\n",
       "      <td>157</td>\n",
       "      <td>3</td>\n",
       "      <td>0</td>\n",
       "      <td>1</td>\n",
       "      <td>0</td>\n",
       "      <td>sales</td>\n",
       "      <td>low</td>\n",
       "    </tr>\n",
       "    <tr>\n",
       "      <th>1</th>\n",
       "      <td>0.80</td>\n",
       "      <td>0.86</td>\n",
       "      <td>5</td>\n",
       "      <td>262</td>\n",
       "      <td>6</td>\n",
       "      <td>0</td>\n",
       "      <td>1</td>\n",
       "      <td>0</td>\n",
       "      <td>sales</td>\n",
       "      <td>medium</td>\n",
       "    </tr>\n",
       "    <tr>\n",
       "      <th>2</th>\n",
       "      <td>0.11</td>\n",
       "      <td>0.88</td>\n",
       "      <td>7</td>\n",
       "      <td>272</td>\n",
       "      <td>4</td>\n",
       "      <td>0</td>\n",
       "      <td>1</td>\n",
       "      <td>0</td>\n",
       "      <td>sales</td>\n",
       "      <td>medium</td>\n",
       "    </tr>\n",
       "    <tr>\n",
       "      <th>3</th>\n",
       "      <td>0.72</td>\n",
       "      <td>0.87</td>\n",
       "      <td>5</td>\n",
       "      <td>223</td>\n",
       "      <td>5</td>\n",
       "      <td>0</td>\n",
       "      <td>1</td>\n",
       "      <td>0</td>\n",
       "      <td>sales</td>\n",
       "      <td>low</td>\n",
       "    </tr>\n",
       "    <tr>\n",
       "      <th>4</th>\n",
       "      <td>0.37</td>\n",
       "      <td>0.52</td>\n",
       "      <td>2</td>\n",
       "      <td>159</td>\n",
       "      <td>3</td>\n",
       "      <td>0</td>\n",
       "      <td>1</td>\n",
       "      <td>0</td>\n",
       "      <td>sales</td>\n",
       "      <td>low</td>\n",
       "    </tr>\n",
       "  </tbody>\n",
       "</table>\n",
       "</div>"
      ],
      "text/plain": [
       "   satisfaction_level  last_evaluation  number_project  average_montly_hours  \\\n",
       "0                0.38             0.53               2                   157   \n",
       "1                0.80             0.86               5                   262   \n",
       "2                0.11             0.88               7                   272   \n",
       "3                0.72             0.87               5                   223   \n",
       "4                0.37             0.52               2                   159   \n",
       "\n",
       "   time_spend_company  Work_accident  left  promotion_last_5years department  \\\n",
       "0                   3              0     1                      0      sales   \n",
       "1                   6              0     1                      0      sales   \n",
       "2                   4              0     1                      0      sales   \n",
       "3                   5              0     1                      0      sales   \n",
       "4                   3              0     1                      0      sales   \n",
       "\n",
       "   salary  \n",
       "0     low  \n",
       "1  medium  \n",
       "2  medium  \n",
       "3     low  \n",
       "4     low  "
      ]
     },
     "execution_count": 3,
     "metadata": {},
     "output_type": "execute_result"
    }
   ],
   "source": [
    "# Загружаем файл HR.csv в pandas dataframe (5 баллов)\n",
    "df_HR = pd.read_csv('HR.csv', sep=',')\n",
    "df_HR.head()"
   ]
  },
  {
   "cell_type": "code",
   "execution_count": 4,
   "id": "eda755c9",
   "metadata": {},
   "outputs": [
    {
     "name": "stdout",
     "output_type": "stream",
     "text": [
      "<class 'pandas.core.frame.DataFrame'>\n",
      "RangeIndex: 14999 entries, 0 to 14998\n",
      "Data columns (total 10 columns):\n",
      " #   Column                 Non-Null Count  Dtype  \n",
      "---  ------                 --------------  -----  \n",
      " 0   satisfaction_level     14999 non-null  float64\n",
      " 1   last_evaluation        14999 non-null  float64\n",
      " 2   number_project         14999 non-null  int64  \n",
      " 3   average_montly_hours   14999 non-null  int64  \n",
      " 4   time_spend_company     14999 non-null  int64  \n",
      " 5   Work_accident          14999 non-null  int64  \n",
      " 6   left                   14999 non-null  int64  \n",
      " 7   promotion_last_5years  14999 non-null  int64  \n",
      " 8   department             14999 non-null  object \n",
      " 9   salary                 14999 non-null  object \n",
      "dtypes: float64(2), int64(6), object(2)\n",
      "memory usage: 1.1+ MB\n"
     ]
    }
   ],
   "source": [
    "# Сначала получим некоторую информацию о датафрейме HR благодаря методу info:\n",
    "df_HR.info()"
   ]
  },
  {
   "cell_type": "markdown",
   "id": "e3002fa9",
   "metadata": {},
   "source": [
    " # Рассчитываем основные статистики для переменных: (10 баллов)"
   ]
  },
  {
   "cell_type": "code",
   "execution_count": 5,
   "id": "78aa82d2",
   "metadata": {},
   "outputs": [],
   "source": [
    "# Рассчитываем основные статистики для переменных: (10 баллов)\n",
    "# После ознакомления с датафреймом, делаем выводы, \n",
    "# что основние статистики мы будем считать для всех метрик кроме:\n",
    "# 6.Work_accident, 7.Left, 8.Promotion_last_5years, 9.Department и 10.Salary\n"
   ]
  },
  {
   "cell_type": "code",
   "execution_count": 6,
   "id": "0e12e848",
   "metadata": {},
   "outputs": [],
   "source": [
    "# cреднее, медиана, мода,  мин/макс, сред.отклонение\n",
    "\n",
    "# 1.Satisfaction_level- Уровень удовлетворенности работой \n",
    "\n",
    "# 2.Last_evaluation - Время с момента последней оценки в годах \n",
    "\n",
    "# 3.Number_projects - Количество проектов, выполненных за время работы\n",
    "\n",
    "# 4.Average_monthly_hours - Среднее количество часов на рабочем месте в месяц \n",
    "\n",
    "# 5.Time_spend_company - Стаж работы в компании в годах \n"
   ]
  },
  {
   "cell_type": "markdown",
   "id": "028b29a0",
   "metadata": {},
   "source": [
    "### 1.Satisfaction_level - Уровень удовлетворенности работой "
   ]
  },
  {
   "cell_type": "code",
   "execution_count": 7,
   "id": "9bc83780",
   "metadata": {},
   "outputs": [
    {
     "name": "stdout",
     "output_type": "stream",
     "text": [
      "Максимальный уровень удовлетворенности: 1.0\n",
      "Минимальный уровень удовлетворенности: 0.09\n",
      "Размах в уровне удовлетворенности: 0.91\n",
      "Среднеарифметический уровень удовлетворенности: 0.6128335222348166\n",
      "Мода по уровню удовлетворенности: 0.1\n",
      "Медиана уровню удовлетворенности: 0.64\n",
      "СКО по уровню удовлетворенности: 0.2486306510611418\n",
      "Дисперсия по уровню удовлетворенности: 0.061817200647087255\n",
      "Первый и третий квартили о уровню удовлетворенности:\n",
      "0.25    0.44\n",
      "0.75    0.82\n",
      "Name: satisfaction_level, dtype: float64\n"
     ]
    }
   ],
   "source": [
    "print('Максимальный уровень удовлетворенности:', df_HR['satisfaction_level'].max())\n",
    "print('Минимальный уровень удовлетворенности:', df_HR['satisfaction_level'].min())\n",
    "satisfaction_range = df_HR['satisfaction_level'].max() - df_HR['satisfaction_level'].min()\n",
    "print('Размах в уровне удовлетворенности:', satisfaction_range)\n",
    "print('Среднеарифметический уровень удовлетворенности:', df_HR['satisfaction_level'].mean())\n",
    "print('Мода по уровню удовлетворенности:', df_HR['satisfaction_level'].mode()[0])\n",
    "print('Медиана уровню удовлетворенности:', df_HR['satisfaction_level'].median())\n",
    "print('СКО по уровню удовлетворенности:',  df_HR['satisfaction_level'].std())\n",
    "print('Дисперсия по уровню удовлетворенности:', df_HR['satisfaction_level'].var())\n",
    "\n",
    "print('Первый и третий квартили о уровню удовлетворенности:')\n",
    "print(df_HR['satisfaction_level'].quantile([0.25, 0.75]))"
   ]
  },
  {
   "cell_type": "markdown",
   "id": "140f7994",
   "metadata": {},
   "source": [
    "### 2.Last_evaluation - Время с момента последней оценки в годах "
   ]
  },
  {
   "cell_type": "code",
   "execution_count": 8,
   "id": "e97c9ba9",
   "metadata": {},
   "outputs": [
    {
     "name": "stdout",
     "output_type": "stream",
     "text": [
      "Максимальное время с момента последней оценки (в годах):  1.0\n",
      "Минимальное время с момента последней оценки (в годах): 0.36\n",
      "Размах во времени с момента последней оценки (в годах): 0.64\n",
      "Среднеарифметическое время с момента последней оценки (в годах): 0.7161017401159978\n",
      "Мода по времени с момента последней оценки (в годах): 0.55\n",
      "Медиана по времени с момента последней оценки (в годах): 0.72\n",
      "СКО по времени с момента последней оценки (в годах): 0.17116911062327592\n",
      "Дисперсия по времени с момента последней оценки (в годах): 0.02929886443156327\n",
      "Первый и третий квартили по времени с момента последней оценки (в годах):\n",
      "0.25    0.56\n",
      "0.75    0.87\n",
      "Name: last_evaluation, dtype: float64\n"
     ]
    }
   ],
   "source": [
    "print('Максимальное время с момента последней оценки (в годах): ', df_HR['last_evaluation'].max())\n",
    "print('Минимальное время с момента последней оценки (в годах):', df_HR['last_evaluation'].min())\n",
    "last_evaluation_range = df_HR['last_evaluation'].max() - df_HR['last_evaluation'].min()\n",
    "print('Размах во времени с момента последней оценки (в годах):', last_evaluation_range)\n",
    "print('Среднеарифметическое время с момента последней оценки (в годах):', df_HR['last_evaluation'].mean())\n",
    "print('Мода по времени с момента последней оценки (в годах):', df_HR['last_evaluation'].mode()[0])\n",
    "print('Медиана по времени с момента последней оценки (в годах):', df_HR['last_evaluation'].median())\n",
    "print('СКО по времени с момента последней оценки (в годах):',  df_HR['last_evaluation'].std())\n",
    "print('Дисперсия по времени с момента последней оценки (в годах):', df_HR['last_evaluation'].var())\n",
    "\n",
    "print('Первый и третий квартили по времени с момента последней оценки (в годах):')\n",
    "print(df_HR['last_evaluation'].quantile([0.25, 0.75]))"
   ]
  },
  {
   "cell_type": "markdown",
   "id": "f674ad3d",
   "metadata": {},
   "source": [
    "### 3.Number_projects - Количество проектов, выполненных за время работы"
   ]
  },
  {
   "cell_type": "code",
   "execution_count": 9,
   "id": "99f0cfc3",
   "metadata": {},
   "outputs": [
    {
     "name": "stdout",
     "output_type": "stream",
     "text": [
      "Максимальное количество проектов, выполненных за время работы:  7\n",
      "Минимальное количество проектов, выполненных за время работы: 2\n",
      "Размах в количестве проектов, выполненных за время работы: 5\n",
      "Среднеарифметическое количество проектов, выполненных за время работы: 3.80305353690246\n",
      "Мода по количеству проектов, выполненных за время работы: 4\n",
      "Медиана по количеству проектов, выполненных за время работы: 4.0\n",
      "СКО по количеству проектов, выполненных за время работы: 1.2325923553183857\n",
      "Дисперсия по количеству проектов, выполненных за время работы: 1.5192839143893255\n",
      "Первый и третий квартили по количеству проектов, выполненных за время работы:\n",
      "0.25    3.0\n",
      "0.75    5.0\n",
      "Name: number_project, dtype: float64\n"
     ]
    }
   ],
   "source": [
    "print('Максимальное количество проектов, выполненных за время работы: ', df_HR['number_project'].max())\n",
    "print('Минимальное количество проектов, выполненных за время работы:', df_HR['number_project'].min())\n",
    "number_project_range = df_HR['number_project'].max() - df_HR['number_project'].min()\n",
    "print('Размах в количестве проектов, выполненных за время работы:', number_project_range)\n",
    "print('Среднеарифметическое количество проектов, выполненных за время работы:', df_HR['number_project'].mean())\n",
    "print('Мода по количеству проектов, выполненных за время работы:', df_HR['number_project'].mode()[0])\n",
    "print('Медиана по количеству проектов, выполненных за время работы:', df_HR['number_project'].median())\n",
    "print('СКО по количеству проектов, выполненных за время работы:',  df_HR['number_project'].std())\n",
    "print('Дисперсия по количеству проектов, выполненных за время работы:', df_HR['number_project'].var())\n",
    "\n",
    "print('Первый и третий квартили по количеству проектов, выполненных за время работы:')\n",
    "print(df_HR['number_project'].quantile([0.25, 0.75]))"
   ]
  },
  {
   "cell_type": "markdown",
   "id": "d37f2ed8",
   "metadata": {},
   "source": [
    "### 4.Average_monthly_hours - Среднее количество часов на рабочем месте в месяц"
   ]
  },
  {
   "cell_type": "code",
   "execution_count": 10,
   "id": "4b059096",
   "metadata": {},
   "outputs": [
    {
     "name": "stdout",
     "output_type": "stream",
     "text": [
      "Максимальное количество часов на рабочем месте в месяц (по среднему показателю на человека): 310\n",
      "Минимальное количество часов на рабочем месте в месяц (по среднему показателю на человека): 96\n",
      "Размах в количестве часов на рабочем месте в месяц (по среднему показателю на человека): 214\n",
      "Среднеарифметическое количество часов на рабочем месте в месяц (по среднему показателю на человека): 201.0503366891126\n",
      "Мода по количеству часов на рабочем месте в месяц (по среднему показателю на человека): 135\n",
      "Медиана по количеству часов на рабочем месте в месяц (по среднему показателю на человека): 200.0\n",
      "СКО по количеству часов на рабочем месте в месяц (по среднему показателю на человека): 49.943099371284305\n",
      "Дисперсия по количеству часов на рабочем месте в месяц (по среднему показателю на человека): 2494.313174809979\n",
      "Первый и третий квартили по часов на рабочем месте в месяц (по среднему показателю на человека):\n",
      "0.25    156.0\n",
      "0.75    245.0\n",
      "Name: average_montly_hours, dtype: float64\n"
     ]
    }
   ],
   "source": [
    "print('Максимальное количество часов на рабочем месте в месяц (по среднему показателю на человека):', df_HR['average_montly_hours'].max())\n",
    "print('Минимальное количество часов на рабочем месте в месяц (по среднему показателю на человека):', df_HR['average_montly_hours'].min())\n",
    "average_montly_hours_range = df_HR['average_montly_hours'].max() - df_HR['average_montly_hours'].min()\n",
    "print('Размах в количестве часов на рабочем месте в месяц (по среднему показателю на человека):', average_montly_hours_range)\n",
    "print('Среднеарифметическое количество часов на рабочем месте в месяц (по среднему показателю на человека):', df_HR['average_montly_hours'].mean())\n",
    "print('Мода по количеству часов на рабочем месте в месяц (по среднему показателю на человека):', df_HR['average_montly_hours'].mode()[0])\n",
    "print('Медиана по количеству часов на рабочем месте в месяц (по среднему показателю на человека):', df_HR['average_montly_hours'].median())\n",
    "print('СКО по количеству часов на рабочем месте в месяц (по среднему показателю на человека):',  df_HR['average_montly_hours'].std())\n",
    "print('Дисперсия по количеству часов на рабочем месте в месяц (по среднему показателю на человека):', df_HR['average_montly_hours'].var())\n",
    "\n",
    "print('Первый и третий квартили по часов на рабочем месте в месяц (по среднему показателю на человека):')\n",
    "print(df_HR['average_montly_hours'].quantile([0.25, 0.75]))"
   ]
  },
  {
   "cell_type": "markdown",
   "id": "8a046d78",
   "metadata": {},
   "source": [
    "### 5.Time_spend_company - Стаж работы в компании в годах "
   ]
  },
  {
   "cell_type": "code",
   "execution_count": 11,
   "id": "354a913a",
   "metadata": {},
   "outputs": [
    {
     "name": "stdout",
     "output_type": "stream",
     "text": [
      "Максимальный стаж работы в компании (в годах): 10\n",
      "Минимальный стаж работы в компании (в годах): 2\n",
      "Размах по стажу работы в компании (в годах): 8\n",
      "Среднеарифметический стаж работы в компании (в годах): 3.498233215547703\n",
      "Мода по стажу работы в компании (в годах): 3\n",
      "Медиана по стажу работы в компании (в годах): 3.0\n",
      "СКО по стажу работы в компании (в годах): 1.4601362305354546\n",
      "Дисперсия по стажу работы в компании (в годах): 2.1319978117222864\n",
      "Первый и третий квартили по стажу работы в компании (в годах):\n",
      "0.25    3.0\n",
      "0.75    4.0\n",
      "Name: time_spend_company, dtype: float64\n"
     ]
    }
   ],
   "source": [
    "print('Максимальный стаж работы в компании (в годах):', df_HR['time_spend_company'].max())\n",
    "print('Минимальный стаж работы в компании (в годах):', df_HR['time_spend_company'].min())\n",
    "time_spend_company_range = df_HR['time_spend_company'].max() - df_HR['time_spend_company'].min()\n",
    "print('Размах по стажу работы в компании (в годах):', time_spend_company_range)\n",
    "print('Среднеарифметический стаж работы в компании (в годах):', df_HR['time_spend_company'].mean())\n",
    "print('Мода по стажу работы в компании (в годах):', df_HR['time_spend_company'].mode()[0])\n",
    "print('Медиана по стажу работы в компании (в годах):', df_HR['time_spend_company'].median())\n",
    "print('СКО по стажу работы в компании (в годах):',  df_HR['time_spend_company'].std())\n",
    "print('Дисперсия по стажу работы в компании (в годах):', df_HR['time_spend_company'].var())\n",
    "\n",
    "print('Первый и третий квартили по стажу работы в компании (в годах):')\n",
    "print(df_HR['time_spend_company'].quantile([0.25, 0.75]))"
   ]
  },
  {
   "cell_type": "markdown",
   "id": "064f4d78",
   "metadata": {},
   "source": [
    "# Рассчитываем и визуализируем корреляционную матрицу для количественных переменных. Определите две самые скоррелированные и две наименеескоррелированные переменные (10)"
   ]
  },
  {
   "cell_type": "code",
   "execution_count": 12,
   "id": "1ef892bf",
   "metadata": {},
   "outputs": [
    {
     "data": {
      "text/html": [
       "<div>\n",
       "<style scoped>\n",
       "    .dataframe tbody tr th:only-of-type {\n",
       "        vertical-align: middle;\n",
       "    }\n",
       "\n",
       "    .dataframe tbody tr th {\n",
       "        vertical-align: top;\n",
       "    }\n",
       "\n",
       "    .dataframe thead th {\n",
       "        text-align: right;\n",
       "    }\n",
       "</style>\n",
       "<table border=\"1\" class=\"dataframe\">\n",
       "  <thead>\n",
       "    <tr style=\"text-align: right;\">\n",
       "      <th></th>\n",
       "      <th>satisfaction_level</th>\n",
       "      <th>last_evaluation</th>\n",
       "      <th>number_project</th>\n",
       "      <th>average_montly_hours</th>\n",
       "      <th>time_spend_company</th>\n",
       "    </tr>\n",
       "  </thead>\n",
       "  <tbody>\n",
       "    <tr>\n",
       "      <th>0</th>\n",
       "      <td>0.38</td>\n",
       "      <td>0.53</td>\n",
       "      <td>2</td>\n",
       "      <td>157</td>\n",
       "      <td>3</td>\n",
       "    </tr>\n",
       "    <tr>\n",
       "      <th>1</th>\n",
       "      <td>0.80</td>\n",
       "      <td>0.86</td>\n",
       "      <td>5</td>\n",
       "      <td>262</td>\n",
       "      <td>6</td>\n",
       "    </tr>\n",
       "    <tr>\n",
       "      <th>2</th>\n",
       "      <td>0.11</td>\n",
       "      <td>0.88</td>\n",
       "      <td>7</td>\n",
       "      <td>272</td>\n",
       "      <td>4</td>\n",
       "    </tr>\n",
       "    <tr>\n",
       "      <th>3</th>\n",
       "      <td>0.72</td>\n",
       "      <td>0.87</td>\n",
       "      <td>5</td>\n",
       "      <td>223</td>\n",
       "      <td>5</td>\n",
       "    </tr>\n",
       "    <tr>\n",
       "      <th>4</th>\n",
       "      <td>0.37</td>\n",
       "      <td>0.52</td>\n",
       "      <td>2</td>\n",
       "      <td>159</td>\n",
       "      <td>3</td>\n",
       "    </tr>\n",
       "  </tbody>\n",
       "</table>\n",
       "</div>"
      ],
      "text/plain": [
       "   satisfaction_level  last_evaluation  number_project  average_montly_hours  \\\n",
       "0                0.38             0.53               2                   157   \n",
       "1                0.80             0.86               5                   262   \n",
       "2                0.11             0.88               7                   272   \n",
       "3                0.72             0.87               5                   223   \n",
       "4                0.37             0.52               2                   159   \n",
       "\n",
       "   time_spend_company  \n",
       "0                   3  \n",
       "1                   6  \n",
       "2                   4  \n",
       "3                   5  \n",
       "4                   3  "
      ]
     },
     "execution_count": 12,
     "metadata": {},
     "output_type": "execute_result"
    }
   ],
   "source": [
    "# Создаем новый датафрейм исключительно с колличественными переменными:\n",
    "df_HR_short =df_HR.filter(items=['satisfaction_level','last_evaluation','number_project','average_montly_hours','time_spend_company'])\n",
    "df_HR_short.head()"
   ]
  },
  {
   "cell_type": "code",
   "execution_count": 13,
   "id": "7e5e0378",
   "metadata": {},
   "outputs": [
    {
     "data": {
      "text/html": [
       "<style  type=\"text/css\" >\n",
       "#T_4db68_row0_col0,#T_4db68_row1_col1,#T_4db68_row2_col2,#T_4db68_row3_col3,#T_4db68_row4_col4{\n",
       "            background-color:  #b40426;\n",
       "            color:  #f1f1f1;\n",
       "        }#T_4db68_row0_col1,#T_4db68_row0_col2,#T_4db68_row0_col3,#T_4db68_row0_col4,#T_4db68_row2_col0{\n",
       "            background-color:  #3b4cc0;\n",
       "            color:  #f1f1f1;\n",
       "        }#T_4db68_row1_col0{\n",
       "            background-color:  #81a4fb;\n",
       "            color:  #000000;\n",
       "        }#T_4db68_row1_col2{\n",
       "            background-color:  #cad8ef;\n",
       "            color:  #000000;\n",
       "        }#T_4db68_row1_col3{\n",
       "            background-color:  #b1cbfc;\n",
       "            color:  #000000;\n",
       "        }#T_4db68_row1_col4{\n",
       "            background-color:  #80a3fa;\n",
       "            color:  #000000;\n",
       "        }#T_4db68_row2_col1,#T_4db68_row2_col4{\n",
       "            background-color:  #94b6ff;\n",
       "            color:  #000000;\n",
       "        }#T_4db68_row2_col3{\n",
       "            background-color:  #c9d7f0;\n",
       "            color:  #000000;\n",
       "        }#T_4db68_row3_col0{\n",
       "            background-color:  #5b7ae5;\n",
       "            color:  #000000;\n",
       "        }#T_4db68_row3_col1{\n",
       "            background-color:  #92b4fe;\n",
       "            color:  #000000;\n",
       "        }#T_4db68_row3_col2{\n",
       "            background-color:  #dadce0;\n",
       "            color:  #000000;\n",
       "        }#T_4db68_row3_col4{\n",
       "            background-color:  #7ea1fa;\n",
       "            color:  #000000;\n",
       "        }#T_4db68_row4_col0{\n",
       "            background-color:  #455cce;\n",
       "            color:  #f1f1f1;\n",
       "        }#T_4db68_row4_col1{\n",
       "            background-color:  #4358cb;\n",
       "            color:  #f1f1f1;\n",
       "        }#T_4db68_row4_col2{\n",
       "            background-color:  #9ebeff;\n",
       "            color:  #000000;\n",
       "        }#T_4db68_row4_col3{\n",
       "            background-color:  #688aef;\n",
       "            color:  #000000;\n",
       "        }</style><table id=\"T_4db68_\" ><thead>    <tr>        <th class=\"blank level0\" ></th>        <th class=\"col_heading level0 col0\" >satisfaction_level</th>        <th class=\"col_heading level0 col1\" >last_evaluation</th>        <th class=\"col_heading level0 col2\" >number_project</th>        <th class=\"col_heading level0 col3\" >average_montly_hours</th>        <th class=\"col_heading level0 col4\" >time_spend_company</th>    </tr></thead><tbody>\n",
       "                <tr>\n",
       "                        <th id=\"T_4db68_level0_row0\" class=\"row_heading level0 row0\" >satisfaction_level</th>\n",
       "                        <td id=\"T_4db68_row0_col0\" class=\"data row0 col0\" >1.000000</td>\n",
       "                        <td id=\"T_4db68_row0_col1\" class=\"data row0 col1\" >0.105021</td>\n",
       "                        <td id=\"T_4db68_row0_col2\" class=\"data row0 col2\" >-0.142970</td>\n",
       "                        <td id=\"T_4db68_row0_col3\" class=\"data row0 col3\" >-0.020048</td>\n",
       "                        <td id=\"T_4db68_row0_col4\" class=\"data row0 col4\" >-0.100866</td>\n",
       "            </tr>\n",
       "            <tr>\n",
       "                        <th id=\"T_4db68_level0_row1\" class=\"row_heading level0 row1\" >last_evaluation</th>\n",
       "                        <td id=\"T_4db68_row1_col0\" class=\"data row1 col0\" >0.105021</td>\n",
       "                        <td id=\"T_4db68_row1_col1\" class=\"data row1 col1\" >1.000000</td>\n",
       "                        <td id=\"T_4db68_row1_col2\" class=\"data row1 col2\" >0.349333</td>\n",
       "                        <td id=\"T_4db68_row1_col3\" class=\"data row1 col3\" >0.339742</td>\n",
       "                        <td id=\"T_4db68_row1_col4\" class=\"data row1 col4\" >0.131591</td>\n",
       "            </tr>\n",
       "            <tr>\n",
       "                        <th id=\"T_4db68_level0_row2\" class=\"row_heading level0 row2\" >number_project</th>\n",
       "                        <td id=\"T_4db68_row2_col0\" class=\"data row2 col0\" >-0.142970</td>\n",
       "                        <td id=\"T_4db68_row2_col1\" class=\"data row2 col1\" >0.349333</td>\n",
       "                        <td id=\"T_4db68_row2_col2\" class=\"data row2 col2\" >1.000000</td>\n",
       "                        <td id=\"T_4db68_row2_col3\" class=\"data row2 col3\" >0.417211</td>\n",
       "                        <td id=\"T_4db68_row2_col4\" class=\"data row2 col4\" >0.196786</td>\n",
       "            </tr>\n",
       "            <tr>\n",
       "                        <th id=\"T_4db68_level0_row3\" class=\"row_heading level0 row3\" >average_montly_hours</th>\n",
       "                        <td id=\"T_4db68_row3_col0\" class=\"data row3 col0\" >-0.020048</td>\n",
       "                        <td id=\"T_4db68_row3_col1\" class=\"data row3 col1\" >0.339742</td>\n",
       "                        <td id=\"T_4db68_row3_col2\" class=\"data row3 col2\" >0.417211</td>\n",
       "                        <td id=\"T_4db68_row3_col3\" class=\"data row3 col3\" >1.000000</td>\n",
       "                        <td id=\"T_4db68_row3_col4\" class=\"data row3 col4\" >0.127755</td>\n",
       "            </tr>\n",
       "            <tr>\n",
       "                        <th id=\"T_4db68_level0_row4\" class=\"row_heading level0 row4\" >time_spend_company</th>\n",
       "                        <td id=\"T_4db68_row4_col0\" class=\"data row4 col0\" >-0.100866</td>\n",
       "                        <td id=\"T_4db68_row4_col1\" class=\"data row4 col1\" >0.131591</td>\n",
       "                        <td id=\"T_4db68_row4_col2\" class=\"data row4 col2\" >0.196786</td>\n",
       "                        <td id=\"T_4db68_row4_col3\" class=\"data row4 col3\" >0.127755</td>\n",
       "                        <td id=\"T_4db68_row4_col4\" class=\"data row4 col4\" >1.000000</td>\n",
       "            </tr>\n",
       "    </tbody></table>"
      ],
      "text/plain": [
       "<pandas.io.formats.style.Styler at 0x244783a2880>"
      ]
     },
     "execution_count": 13,
     "metadata": {},
     "output_type": "execute_result"
    }
   ],
   "source": [
    "#Строим корреляционную матрицу\n",
    "df_HR_corr = df_HR_short.corr()\n",
    "df_HR_corr.style.background_gradient(cmap='coolwarm')"
   ]
  },
  {
   "cell_type": "code",
   "execution_count": 14,
   "id": "64d371ce",
   "metadata": {},
   "outputs": [],
   "source": [
    "# Мы видим 2 САМЫЕ БОЛЬШЫЕ в датасете, но тем не менее средние корреляции таких метрик как: \n",
    "# 1) average_montly_hours и number_project - те.е среднего количества времени работы и количества завершенных проектов(0.417211)\n",
    "# 2) last_evaluation и number_project - т.е. время с последней оценки и количеством проектов (0.34933)\n",
    "\n",
    "# есть небольшая корреляция таких метрик как время с последней оценки и среднего количества времени работы: \n",
    "# 3) last_evaluation и average_montly_hours (0.339742)\n",
    "# вижу также совсем слабую корреляцию таких метрик как стаж и количество проектов: \n",
    "# 4) time_spend_company и number_project (0.196786)\n",
    "\n",
    "# НАИМЕНЕЕ скорелированными метриками мы можем считать:\n",
    "# 5) satisfaction_level и time_spend_company - т.е. удовлетваренность со стажем работы (-0.100866)\n",
    "# 6) satisfaction_level и average_montly_hours - т.е. удовлетворенность с количеством часов работы в месяц (среднее на каждого сотрудника) (-0.020048)"
   ]
  },
  {
   "cell_type": "code",
   "execution_count": 15,
   "id": "32207ac3",
   "metadata": {},
   "outputs": [
    {
     "data": {
      "text/plain": [
       "<Figure size 200x1000 with 0 Axes>"
      ]
     },
     "metadata": {},
     "output_type": "display_data"
    },
    {
     "data": {
      "image/png": "[encoded data removed]",
      "text/plain": [
       "<Figure size 900x900 with 30 Axes>"
      ]
     },
     "metadata": {
      "needs_background": "light"
     },
     "output_type": "display_data"
    }
   ],
   "source": [
    "#Визуализируем показания корреляции\n",
    "plt.figure(figsize=(20,100), dpi= 10)\n",
    "sns.pairplot(df_HR_corr, kind=\"scatter\", plot_kws=dict(s=50, edgecolor=\"blue\", linewidth=2.0))\n",
    "plt.show()"
   ]
  },
  {
   "cell_type": "markdown",
   "id": "56268c82",
   "metadata": {},
   "source": [
    "# Рассчитайте сколько сотрудников работает в каждом департаменте (5 баллов)"
   ]
  },
  {
   "cell_type": "code",
   "execution_count": 16,
   "id": "1fb90394",
   "metadata": {},
   "outputs": [
    {
     "data": {
      "text/html": [
       "<div>\n",
       "<style scoped>\n",
       "    .dataframe tbody tr th:only-of-type {\n",
       "        vertical-align: middle;\n",
       "    }\n",
       "\n",
       "    .dataframe tbody tr th {\n",
       "        vertical-align: top;\n",
       "    }\n",
       "\n",
       "    .dataframe thead th {\n",
       "        text-align: right;\n",
       "    }\n",
       "</style>\n",
       "<table border=\"1\" class=\"dataframe\">\n",
       "  <thead>\n",
       "    <tr style=\"text-align: right;\">\n",
       "      <th></th>\n",
       "      <th>satisfaction_level</th>\n",
       "      <th>last_evaluation</th>\n",
       "      <th>number_project</th>\n",
       "      <th>average_montly_hours</th>\n",
       "      <th>time_spend_company</th>\n",
       "      <th>Work_accident</th>\n",
       "      <th>left</th>\n",
       "      <th>promotion_last_5years</th>\n",
       "      <th>department</th>\n",
       "      <th>salary</th>\n",
       "      <th>collegue</th>\n",
       "    </tr>\n",
       "  </thead>\n",
       "  <tbody>\n",
       "    <tr>\n",
       "      <th>0</th>\n",
       "      <td>0.38</td>\n",
       "      <td>0.53</td>\n",
       "      <td>2</td>\n",
       "      <td>157</td>\n",
       "      <td>3</td>\n",
       "      <td>0</td>\n",
       "      <td>1</td>\n",
       "      <td>0</td>\n",
       "      <td>sales</td>\n",
       "      <td>low</td>\n",
       "      <td>1</td>\n",
       "    </tr>\n",
       "    <tr>\n",
       "      <th>1</th>\n",
       "      <td>0.80</td>\n",
       "      <td>0.86</td>\n",
       "      <td>5</td>\n",
       "      <td>262</td>\n",
       "      <td>6</td>\n",
       "      <td>0</td>\n",
       "      <td>1</td>\n",
       "      <td>0</td>\n",
       "      <td>sales</td>\n",
       "      <td>medium</td>\n",
       "      <td>1</td>\n",
       "    </tr>\n",
       "    <tr>\n",
       "      <th>2</th>\n",
       "      <td>0.11</td>\n",
       "      <td>0.88</td>\n",
       "      <td>7</td>\n",
       "      <td>272</td>\n",
       "      <td>4</td>\n",
       "      <td>0</td>\n",
       "      <td>1</td>\n",
       "      <td>0</td>\n",
       "      <td>sales</td>\n",
       "      <td>medium</td>\n",
       "      <td>1</td>\n",
       "    </tr>\n",
       "    <tr>\n",
       "      <th>3</th>\n",
       "      <td>0.72</td>\n",
       "      <td>0.87</td>\n",
       "      <td>5</td>\n",
       "      <td>223</td>\n",
       "      <td>5</td>\n",
       "      <td>0</td>\n",
       "      <td>1</td>\n",
       "      <td>0</td>\n",
       "      <td>sales</td>\n",
       "      <td>low</td>\n",
       "      <td>1</td>\n",
       "    </tr>\n",
       "    <tr>\n",
       "      <th>4</th>\n",
       "      <td>0.37</td>\n",
       "      <td>0.52</td>\n",
       "      <td>2</td>\n",
       "      <td>159</td>\n",
       "      <td>3</td>\n",
       "      <td>0</td>\n",
       "      <td>1</td>\n",
       "      <td>0</td>\n",
       "      <td>sales</td>\n",
       "      <td>low</td>\n",
       "      <td>1</td>\n",
       "    </tr>\n",
       "  </tbody>\n",
       "</table>\n",
       "</div>"
      ],
      "text/plain": [
       "   satisfaction_level  last_evaluation  number_project  average_montly_hours  \\\n",
       "0                0.38             0.53               2                   157   \n",
       "1                0.80             0.86               5                   262   \n",
       "2                0.11             0.88               7                   272   \n",
       "3                0.72             0.87               5                   223   \n",
       "4                0.37             0.52               2                   159   \n",
       "\n",
       "   time_spend_company  Work_accident  left  promotion_last_5years department  \\\n",
       "0                   3              0     1                      0      sales   \n",
       "1                   6              0     1                      0      sales   \n",
       "2                   4              0     1                      0      sales   \n",
       "3                   5              0     1                      0      sales   \n",
       "4                   3              0     1                      0      sales   \n",
       "\n",
       "   salary  collegue  \n",
       "0     low         1  \n",
       "1  medium         1  \n",
       "2  medium         1  \n",
       "3     low         1  \n",
       "4     low         1  "
      ]
     },
     "execution_count": 16,
     "metadata": {},
     "output_type": "execute_result"
    }
   ],
   "source": [
    "#Создаем счетчик сотрудников в отдельном столбце датасета, чтобы упростить подсчет их количества \n",
    "df_HR['collegue']= 1\n",
    "df_HR.head()"
   ]
  },
  {
   "cell_type": "code",
   "execution_count": 17,
   "id": "dcc9ce16",
   "metadata": {},
   "outputs": [
    {
     "data": {
      "text/html": [
       "<div>\n",
       "<style scoped>\n",
       "    .dataframe tbody tr th:only-of-type {\n",
       "        vertical-align: middle;\n",
       "    }\n",
       "\n",
       "    .dataframe tbody tr th {\n",
       "        vertical-align: top;\n",
       "    }\n",
       "\n",
       "    .dataframe thead th {\n",
       "        text-align: right;\n",
       "    }\n",
       "</style>\n",
       "<table border=\"1\" class=\"dataframe\">\n",
       "  <thead>\n",
       "    <tr style=\"text-align: right;\">\n",
       "      <th></th>\n",
       "      <th>department</th>\n",
       "      <th>collegue</th>\n",
       "      <th>salary</th>\n",
       "    </tr>\n",
       "  </thead>\n",
       "  <tbody>\n",
       "    <tr>\n",
       "      <th>0</th>\n",
       "      <td>sales</td>\n",
       "      <td>1</td>\n",
       "      <td>low</td>\n",
       "    </tr>\n",
       "    <tr>\n",
       "      <th>1</th>\n",
       "      <td>sales</td>\n",
       "      <td>1</td>\n",
       "      <td>medium</td>\n",
       "    </tr>\n",
       "    <tr>\n",
       "      <th>2</th>\n",
       "      <td>sales</td>\n",
       "      <td>1</td>\n",
       "      <td>medium</td>\n",
       "    </tr>\n",
       "    <tr>\n",
       "      <th>3</th>\n",
       "      <td>sales</td>\n",
       "      <td>1</td>\n",
       "      <td>low</td>\n",
       "    </tr>\n",
       "    <tr>\n",
       "      <th>4</th>\n",
       "      <td>sales</td>\n",
       "      <td>1</td>\n",
       "      <td>low</td>\n",
       "    </tr>\n",
       "    <tr>\n",
       "      <th>...</th>\n",
       "      <td>...</td>\n",
       "      <td>...</td>\n",
       "      <td>...</td>\n",
       "    </tr>\n",
       "    <tr>\n",
       "      <th>14994</th>\n",
       "      <td>support</td>\n",
       "      <td>1</td>\n",
       "      <td>low</td>\n",
       "    </tr>\n",
       "    <tr>\n",
       "      <th>14995</th>\n",
       "      <td>support</td>\n",
       "      <td>1</td>\n",
       "      <td>low</td>\n",
       "    </tr>\n",
       "    <tr>\n",
       "      <th>14996</th>\n",
       "      <td>support</td>\n",
       "      <td>1</td>\n",
       "      <td>low</td>\n",
       "    </tr>\n",
       "    <tr>\n",
       "      <th>14997</th>\n",
       "      <td>support</td>\n",
       "      <td>1</td>\n",
       "      <td>low</td>\n",
       "    </tr>\n",
       "    <tr>\n",
       "      <th>14998</th>\n",
       "      <td>support</td>\n",
       "      <td>1</td>\n",
       "      <td>low</td>\n",
       "    </tr>\n",
       "  </tbody>\n",
       "</table>\n",
       "<p>14999 rows × 3 columns</p>\n",
       "</div>"
      ],
      "text/plain": [
       "      department  collegue  salary\n",
       "0          sales         1     low\n",
       "1          sales         1  medium\n",
       "2          sales         1  medium\n",
       "3          sales         1     low\n",
       "4          sales         1     low\n",
       "...          ...       ...     ...\n",
       "14994    support         1     low\n",
       "14995    support         1     low\n",
       "14996    support         1     low\n",
       "14997    support         1     low\n",
       "14998    support         1     low\n",
       "\n",
       "[14999 rows x 3 columns]"
      ]
     },
     "execution_count": 17,
     "metadata": {},
     "output_type": "execute_result"
    }
   ],
   "source": [
    "# Для простоты сократим датасет\n",
    "df_HR_departments = df_HR.filter(items=['department','collegue','salary'])\n",
    "df_HR_departments"
   ]
  },
  {
   "cell_type": "code",
   "execution_count": 18,
   "id": "b93e5ece",
   "metadata": {},
   "outputs": [
    {
     "data": {
      "text/html": [
       "<div>\n",
       "<style scoped>\n",
       "    .dataframe tbody tr th:only-of-type {\n",
       "        vertical-align: middle;\n",
       "    }\n",
       "\n",
       "    .dataframe tbody tr th {\n",
       "        vertical-align: top;\n",
       "    }\n",
       "\n",
       "    .dataframe thead tr th {\n",
       "        text-align: left;\n",
       "    }\n",
       "\n",
       "    .dataframe thead tr:last-of-type th {\n",
       "        text-align: right;\n",
       "    }\n",
       "</style>\n",
       "<table border=\"1\" class=\"dataframe\">\n",
       "  <thead>\n",
       "    <tr>\n",
       "      <th></th>\n",
       "      <th colspan=\"3\" halign=\"left\">collegue</th>\n",
       "    </tr>\n",
       "    <tr>\n",
       "      <th>salary</th>\n",
       "      <th>high</th>\n",
       "      <th>low</th>\n",
       "      <th>medium</th>\n",
       "    </tr>\n",
       "    <tr>\n",
       "      <th>department</th>\n",
       "      <th></th>\n",
       "      <th></th>\n",
       "      <th></th>\n",
       "    </tr>\n",
       "  </thead>\n",
       "  <tbody>\n",
       "    <tr>\n",
       "      <th>IT</th>\n",
       "      <td>83</td>\n",
       "      <td>609</td>\n",
       "      <td>535</td>\n",
       "    </tr>\n",
       "    <tr>\n",
       "      <th>RandD</th>\n",
       "      <td>51</td>\n",
       "      <td>364</td>\n",
       "      <td>372</td>\n",
       "    </tr>\n",
       "    <tr>\n",
       "      <th>accounting</th>\n",
       "      <td>74</td>\n",
       "      <td>358</td>\n",
       "      <td>335</td>\n",
       "    </tr>\n",
       "    <tr>\n",
       "      <th>hr</th>\n",
       "      <td>45</td>\n",
       "      <td>335</td>\n",
       "      <td>359</td>\n",
       "    </tr>\n",
       "    <tr>\n",
       "      <th>management</th>\n",
       "      <td>225</td>\n",
       "      <td>180</td>\n",
       "      <td>225</td>\n",
       "    </tr>\n",
       "    <tr>\n",
       "      <th>marketing</th>\n",
       "      <td>80</td>\n",
       "      <td>402</td>\n",
       "      <td>376</td>\n",
       "    </tr>\n",
       "    <tr>\n",
       "      <th>product_mng</th>\n",
       "      <td>68</td>\n",
       "      <td>451</td>\n",
       "      <td>383</td>\n",
       "    </tr>\n",
       "    <tr>\n",
       "      <th>sales</th>\n",
       "      <td>269</td>\n",
       "      <td>2099</td>\n",
       "      <td>1772</td>\n",
       "    </tr>\n",
       "    <tr>\n",
       "      <th>support</th>\n",
       "      <td>141</td>\n",
       "      <td>1146</td>\n",
       "      <td>942</td>\n",
       "    </tr>\n",
       "    <tr>\n",
       "      <th>technical</th>\n",
       "      <td>201</td>\n",
       "      <td>1372</td>\n",
       "      <td>1147</td>\n",
       "    </tr>\n",
       "  </tbody>\n",
       "</table>\n",
       "</div>"
      ],
      "text/plain": [
       "            collegue             \n",
       "salary          high   low medium\n",
       "department                       \n",
       "IT                83   609    535\n",
       "RandD             51   364    372\n",
       "accounting        74   358    335\n",
       "hr                45   335    359\n",
       "management       225   180    225\n",
       "marketing         80   402    376\n",
       "product_mng       68   451    383\n",
       "sales            269  2099   1772\n",
       "support          141  1146    942\n",
       "technical        201  1372   1147"
      ]
     },
     "execution_count": 18,
     "metadata": {},
     "output_type": "execute_result"
    }
   ],
   "source": [
    "# Посмотрим, сколько человек работает в каждом департаменете и заодно посмотрим на разбиение по зарплатам этих сотрудников\n",
    "df_HR_counter_department = df_HR_departments.pivot_table(index='department', columns='salary', aggfunc='sum').fillna(0)\n",
    "df_HR_counter_department.head(10)"
   ]
  },
  {
   "cell_type": "code",
   "execution_count": 19,
   "id": "36bda1d4",
   "metadata": {},
   "outputs": [
    {
     "data": {
      "text/html": [
       "<div>\n",
       "<style scoped>\n",
       "    .dataframe tbody tr th:only-of-type {\n",
       "        vertical-align: middle;\n",
       "    }\n",
       "\n",
       "    .dataframe tbody tr th {\n",
       "        vertical-align: top;\n",
       "    }\n",
       "\n",
       "    .dataframe thead tr th {\n",
       "        text-align: left;\n",
       "    }\n",
       "\n",
       "    .dataframe thead tr:last-of-type th {\n",
       "        text-align: right;\n",
       "    }\n",
       "</style>\n",
       "<table border=\"1\" class=\"dataframe\">\n",
       "  <thead>\n",
       "    <tr>\n",
       "      <th></th>\n",
       "      <th colspan=\"3\" halign=\"left\">collegue</th>\n",
       "      <th>counter</th>\n",
       "    </tr>\n",
       "    <tr>\n",
       "      <th>salary</th>\n",
       "      <th>high</th>\n",
       "      <th>low</th>\n",
       "      <th>medium</th>\n",
       "      <th></th>\n",
       "    </tr>\n",
       "    <tr>\n",
       "      <th>department</th>\n",
       "      <th></th>\n",
       "      <th></th>\n",
       "      <th></th>\n",
       "      <th></th>\n",
       "    </tr>\n",
       "  </thead>\n",
       "  <tbody>\n",
       "    <tr>\n",
       "      <th>IT</th>\n",
       "      <td>83</td>\n",
       "      <td>609</td>\n",
       "      <td>535</td>\n",
       "      <td>1227</td>\n",
       "    </tr>\n",
       "    <tr>\n",
       "      <th>RandD</th>\n",
       "      <td>51</td>\n",
       "      <td>364</td>\n",
       "      <td>372</td>\n",
       "      <td>787</td>\n",
       "    </tr>\n",
       "    <tr>\n",
       "      <th>accounting</th>\n",
       "      <td>74</td>\n",
       "      <td>358</td>\n",
       "      <td>335</td>\n",
       "      <td>767</td>\n",
       "    </tr>\n",
       "    <tr>\n",
       "      <th>hr</th>\n",
       "      <td>45</td>\n",
       "      <td>335</td>\n",
       "      <td>359</td>\n",
       "      <td>739</td>\n",
       "    </tr>\n",
       "    <tr>\n",
       "      <th>management</th>\n",
       "      <td>225</td>\n",
       "      <td>180</td>\n",
       "      <td>225</td>\n",
       "      <td>630</td>\n",
       "    </tr>\n",
       "    <tr>\n",
       "      <th>marketing</th>\n",
       "      <td>80</td>\n",
       "      <td>402</td>\n",
       "      <td>376</td>\n",
       "      <td>858</td>\n",
       "    </tr>\n",
       "    <tr>\n",
       "      <th>product_mng</th>\n",
       "      <td>68</td>\n",
       "      <td>451</td>\n",
       "      <td>383</td>\n",
       "      <td>902</td>\n",
       "    </tr>\n",
       "    <tr>\n",
       "      <th>sales</th>\n",
       "      <td>269</td>\n",
       "      <td>2099</td>\n",
       "      <td>1772</td>\n",
       "      <td>4140</td>\n",
       "    </tr>\n",
       "    <tr>\n",
       "      <th>support</th>\n",
       "      <td>141</td>\n",
       "      <td>1146</td>\n",
       "      <td>942</td>\n",
       "      <td>2229</td>\n",
       "    </tr>\n",
       "    <tr>\n",
       "      <th>technical</th>\n",
       "      <td>201</td>\n",
       "      <td>1372</td>\n",
       "      <td>1147</td>\n",
       "      <td>2720</td>\n",
       "    </tr>\n",
       "  </tbody>\n",
       "</table>\n",
       "</div>"
      ],
      "text/plain": [
       "            collegue              counter\n",
       "salary          high   low medium        \n",
       "department                               \n",
       "IT                83   609    535    1227\n",
       "RandD             51   364    372     787\n",
       "accounting        74   358    335     767\n",
       "hr                45   335    359     739\n",
       "management       225   180    225     630\n",
       "marketing         80   402    376     858\n",
       "product_mng       68   451    383     902\n",
       "sales            269  2099   1772    4140\n",
       "support          141  1146    942    2229\n",
       "technical        201  1372   1147    2720"
      ]
     },
     "execution_count": 19,
     "metadata": {},
     "output_type": "execute_result"
    }
   ],
   "source": [
    "# Создадим счетчик counter, который и будет показывать нам сколько сотрудников работает в каждом отделе.\n",
    "df_HR_counter_department['counter']=df_HR_counter_department.sum(axis=1)\n",
    "df_HR_counter_department.head(10)"
   ]
  },
  {
   "cell_type": "markdown",
   "id": "898be8f2",
   "metadata": {},
   "source": [
    "# Показать распределение сотрудников по зарплатам (5 баллов)\n"
   ]
  },
  {
   "cell_type": "code",
   "execution_count": 20,
   "id": "d045f1c6",
   "metadata": {},
   "outputs": [
    {
     "data": {
      "text/html": [
       "<div>\n",
       "<style scoped>\n",
       "    .dataframe tbody tr th:only-of-type {\n",
       "        vertical-align: middle;\n",
       "    }\n",
       "\n",
       "    .dataframe tbody tr th {\n",
       "        vertical-align: top;\n",
       "    }\n",
       "\n",
       "    .dataframe thead th {\n",
       "        text-align: right;\n",
       "    }\n",
       "</style>\n",
       "<table border=\"1\" class=\"dataframe\">\n",
       "  <thead>\n",
       "    <tr style=\"text-align: right;\">\n",
       "      <th></th>\n",
       "      <th>collegue</th>\n",
       "    </tr>\n",
       "    <tr>\n",
       "      <th>salary</th>\n",
       "      <th></th>\n",
       "    </tr>\n",
       "  </thead>\n",
       "  <tbody>\n",
       "    <tr>\n",
       "      <th>high</th>\n",
       "      <td>1237</td>\n",
       "    </tr>\n",
       "    <tr>\n",
       "      <th>low</th>\n",
       "      <td>7316</td>\n",
       "    </tr>\n",
       "    <tr>\n",
       "      <th>medium</th>\n",
       "      <td>6446</td>\n",
       "    </tr>\n",
       "  </tbody>\n",
       "</table>\n",
       "</div>"
      ],
      "text/plain": [
       "        collegue\n",
       "salary          \n",
       "high        1237\n",
       "low         7316\n",
       "medium      6446"
      ]
     },
     "execution_count": 20,
     "metadata": {},
     "output_type": "execute_result"
    }
   ],
   "source": [
    "# Визуализируем распределение по зарплатам между сотрудниками\n",
    "df_HR_salary = df_HR.filter(items=['collegue','salary']).groupby('salary').sum()\n",
    "df_HR_salary"
   ]
  },
  {
   "cell_type": "code",
   "execution_count": 21,
   "id": "f99b5c08",
   "metadata": {},
   "outputs": [
    {
     "data": {
      "text/plain": [
       "<AxesSubplot:title={'center':'Распределение зарплат по сотрудникам'}, ylabel='Уровень зарплаты'>"
      ]
     },
     "execution_count": 21,
     "metadata": {},
     "output_type": "execute_result"
    },
    {
     "data": {
      "image/png": "[encoded data removed]",
      "text/plain": [
       "<Figure size 432x288 with 1 Axes>"
      ]
     },
     "metadata": {
      "needs_background": "light"
     },
     "output_type": "display_data"
    }
   ],
   "source": [
    "# Мы наблюдаем не совсем нормальное распределение зарплаты из которого следует, что:\n",
    "# большинство сотрудников получет зарплату низкую, у чуть меньшего числа зарплата средняя и у совсем небольшого числа людей зарплата высокая. \n",
    "df_HR_salary.plot(kind='barh', title='Распределение зарплат по сотрудникам',ylabel='Сотрудники', xlabel='Уровень зарплаты')"
   ]
  },
  {
   "cell_type": "markdown",
   "id": "6583f147",
   "metadata": {},
   "source": [
    "# Показать распределение сотрудников по зарплатам в каждом департаменте по отдельности (5 баллов)"
   ]
  },
  {
   "cell_type": "code",
   "execution_count": 22,
   "id": "1e9543db",
   "metadata": {},
   "outputs": [
    {
     "data": {
      "text/plain": [
       "<AxesSubplot:title={'center':'Распределение зарплат по сотрудникам'}, xlabel='Уровень зарплаты', ylabel='Сотрудники'>"
      ]
     },
     "execution_count": 22,
     "metadata": {},
     "output_type": "execute_result"
    },
    {
     "data": {
      "image/png": "[encoded data removed]",
      "text/plain": [
       "<Figure size 432x288 with 1 Axes>"
      ]
     },
     "metadata": {
      "needs_background": "light"
     },
     "output_type": "display_data"
    }
   ],
   "source": [
    "# Рассмотрим распределение зарплат в каждом из департаментов с помощью барчарта\n",
    "df_HR_counter_department.plot(kind='bar', title='Распределение зарплат по сотрудникам',ylabel='Сотрудники', xlabel='Уровень зарплаты')\n"
   ]
  },
  {
   "cell_type": "code",
   "execution_count": 23,
   "id": "1e1b893f",
   "metadata": {},
   "outputs": [],
   "source": [
    "#Из барчарта выше мы видим, что больше всего зарплат/сотрудников сосредоточено в департаменте продаж (sales), а меньше всего в менеджменте (management), однако в менеджменте больше всего высоких зраплат и меньше всего низких.\n"
   ]
  },
  {
   "cell_type": "markdown",
   "id": "5a472107",
   "metadata": {},
   "source": [
    "# Проверим гипотезу, что сотрудники с высоким окладом проводят на работе больше времени, чем сотрудники с низким окладом (10 баллов)"
   ]
  },
  {
   "cell_type": "code",
   "execution_count": 24,
   "id": "064f3212",
   "metadata": {},
   "outputs": [
    {
     "data": {
      "text/html": [
       "<div>\n",
       "<style scoped>\n",
       "    .dataframe tbody tr th:only-of-type {\n",
       "        vertical-align: middle;\n",
       "    }\n",
       "\n",
       "    .dataframe tbody tr th {\n",
       "        vertical-align: top;\n",
       "    }\n",
       "\n",
       "    .dataframe thead th {\n",
       "        text-align: right;\n",
       "    }\n",
       "</style>\n",
       "<table border=\"1\" class=\"dataframe\">\n",
       "  <thead>\n",
       "    <tr style=\"text-align: right;\">\n",
       "      <th></th>\n",
       "      <th>collegue</th>\n",
       "      <th>salary</th>\n",
       "      <th>average_montly_hours</th>\n",
       "    </tr>\n",
       "  </thead>\n",
       "  <tbody>\n",
       "    <tr>\n",
       "      <th>0</th>\n",
       "      <td>1</td>\n",
       "      <td>low</td>\n",
       "      <td>157</td>\n",
       "    </tr>\n",
       "    <tr>\n",
       "      <th>1</th>\n",
       "      <td>1</td>\n",
       "      <td>medium</td>\n",
       "      <td>262</td>\n",
       "    </tr>\n",
       "    <tr>\n",
       "      <th>2</th>\n",
       "      <td>1</td>\n",
       "      <td>medium</td>\n",
       "      <td>272</td>\n",
       "    </tr>\n",
       "    <tr>\n",
       "      <th>3</th>\n",
       "      <td>1</td>\n",
       "      <td>low</td>\n",
       "      <td>223</td>\n",
       "    </tr>\n",
       "    <tr>\n",
       "      <th>4</th>\n",
       "      <td>1</td>\n",
       "      <td>low</td>\n",
       "      <td>159</td>\n",
       "    </tr>\n",
       "  </tbody>\n",
       "</table>\n",
       "</div>"
      ],
      "text/plain": [
       "   collegue  salary  average_montly_hours\n",
       "0         1     low                   157\n",
       "1         1  medium                   262\n",
       "2         1  medium                   272\n",
       "3         1     low                   223\n",
       "4         1     low                   159"
      ]
     },
     "execution_count": 24,
     "metadata": {},
     "output_type": "execute_result"
    }
   ],
   "source": [
    "df_HR_salary_and_hours = df_HR.filter(items=['collegue','salary','average_montly_hours'])\n",
    "df_HR_salary_and_hours.head()"
   ]
  },
  {
   "cell_type": "code",
   "execution_count": 25,
   "id": "e613fb02",
   "metadata": {},
   "outputs": [
    {
     "data": {
      "image/png": "[encoded data removed]",
      "text/plain": [
       "<Figure size 432x288 with 1 Axes>"
      ]
     },
     "metadata": {
      "needs_background": "light"
     },
     "output_type": "display_data"
    }
   ],
   "source": [
    "#Проверим, зависит ли зарплата от проведенных на работе часов\n",
    "df_HR_salary_and_hours.plot(kind='scatter', \n",
    "        x='salary', \n",
    "        y='average_montly_hours', \n",
    "        title='Корреляция между зарплатой и временем, проведенным на работе')\n",
    "plt.show()"
   ]
  },
  {
   "cell_type": "markdown",
   "id": "31b18e22",
   "metadata": {},
   "source": [
    "### По данным нашего скаттерплота выше мы можем сказать, что время проведенное на работе в случае высокой зарплаты чаще ниже, чем в случае с низкой и средней зарплатой.\n",
    "### То есть гипотезу уже на начальном этапе можно отклонить."
   ]
  },
  {
   "cell_type": "markdown",
   "id": "d201a5b4",
   "metadata": {},
   "source": [
    "# Рассчитать следующие показатели среди уволившихся и неуволившихся сотрудников (по отдельности) (10 баллов):\n",
    "    ● Доля сотрудников с повышением за последние 5 лет\n",
    "    ● Средняя степень удовлетворенности\n",
    "    ● Среднее количество проектов"
   ]
  },
  {
   "cell_type": "code",
   "execution_count": 77,
   "id": "b676ef65",
   "metadata": {},
   "outputs": [
    {
     "data": {
      "text/html": [
       "<div>\n",
       "<style scoped>\n",
       "    .dataframe tbody tr th:only-of-type {\n",
       "        vertical-align: middle;\n",
       "    }\n",
       "\n",
       "    .dataframe tbody tr th {\n",
       "        vertical-align: top;\n",
       "    }\n",
       "\n",
       "    .dataframe thead th {\n",
       "        text-align: right;\n",
       "    }\n",
       "</style>\n",
       "<table border=\"1\" class=\"dataframe\">\n",
       "  <thead>\n",
       "    <tr style=\"text-align: right;\">\n",
       "      <th></th>\n",
       "      <th>satisfaction_level</th>\n",
       "      <th>left</th>\n",
       "      <th>promotion_last_5years</th>\n",
       "    </tr>\n",
       "  </thead>\n",
       "  <tbody>\n",
       "    <tr>\n",
       "      <th>0</th>\n",
       "      <td>0.38</td>\n",
       "      <td>1</td>\n",
       "      <td>0</td>\n",
       "    </tr>\n",
       "    <tr>\n",
       "      <th>1</th>\n",
       "      <td>0.80</td>\n",
       "      <td>1</td>\n",
       "      <td>0</td>\n",
       "    </tr>\n",
       "    <tr>\n",
       "      <th>2</th>\n",
       "      <td>0.11</td>\n",
       "      <td>1</td>\n",
       "      <td>0</td>\n",
       "    </tr>\n",
       "    <tr>\n",
       "      <th>3</th>\n",
       "      <td>0.72</td>\n",
       "      <td>1</td>\n",
       "      <td>0</td>\n",
       "    </tr>\n",
       "    <tr>\n",
       "      <th>4</th>\n",
       "      <td>0.37</td>\n",
       "      <td>1</td>\n",
       "      <td>0</td>\n",
       "    </tr>\n",
       "  </tbody>\n",
       "</table>\n",
       "</div>"
      ],
      "text/plain": [
       "   satisfaction_level  left  promotion_last_5years\n",
       "0                0.38     1                      0\n",
       "1                0.80     1                      0\n",
       "2                0.11     1                      0\n",
       "3                0.72     1                      0\n",
       "4                0.37     1                      0"
      ]
     },
     "execution_count": 77,
     "metadata": {},
     "output_type": "execute_result"
    }
   ],
   "source": [
    "df_HR_left = df_HR.filter(items=['satisfaction_level','left','promotion_last_5years'])\n",
    "df_HR_left.head()"
   ]
  },
  {
   "cell_type": "code",
   "execution_count": 78,
   "id": "f69f54f7",
   "metadata": {},
   "outputs": [
    {
     "data": {
      "text/plain": [
       "promotion_last_5years\n",
       "0    97.873192\n",
       "1     2.126808\n",
       "dtype: float64"
      ]
     },
     "execution_count": 78,
     "metadata": {},
     "output_type": "execute_result"
    }
   ],
   "source": [
    "# Рассчитаем длю сотрудников с повышением за последние 5 лет\n",
    "df_HR_promotion_percentage = (df_HR_left.groupby('promotion_last_5years').size() / len(df_HR_left))*100 \n",
    "df_HR_promotion_percentage.head()"
   ]
  },
  {
   "cell_type": "code",
   "execution_count": 79,
   "id": "7b85e95f",
   "metadata": {},
   "outputs": [],
   "source": [
    "# Доля сотрудников с повышением за последние 5 лет равна: 2.12 % "
   ]
  },
  {
   "cell_type": "code",
   "execution_count": 80,
   "id": "24efb147",
   "metadata": {},
   "outputs": [
    {
     "data": {
      "text/plain": [
       "promotion_last_5years  left\n",
       "0                      0       74.191613\n",
       "                       1       23.681579\n",
       "1                      0        2.000133\n",
       "                       1        0.126675\n",
       "dtype: float64"
      ]
     },
     "execution_count": 80,
     "metadata": {},
     "output_type": "execute_result"
    }
   ],
   "source": [
    "# Рассчитаем уволившихся (с повышением за последние 5 лет) и не уволившихся (с повышением за последние 5 лет)\n",
    "df_HR_promotion_left = (df_HR_left.groupby(['promotion_last_5years', 'left' ]).size() / len(df_HR_left))*100 \n",
    "df_HR_promotion_left.head()"
   ]
  },
  {
   "cell_type": "markdown",
   "id": "c47631c0",
   "metadata": {},
   "source": [
    "### Доля сотрудников УВОЛИВШИХСЯ с повышением за последние 5 лет равна: 0.12 % \n",
    "### Доля сотрудников НЕ УВОЛИВШИХСЯ с повышением за последние 5 лет равна: 2 % "
   ]
  },
  {
   "cell_type": "code",
   "execution_count": 147,
   "id": "41cccbf7",
   "metadata": {},
   "outputs": [],
   "source": [
    "df_HR_left['counter_satisfaction'] = 1"
   ]
  },
  {
   "cell_type": "code",
   "execution_count": 148,
   "id": "73905d52",
   "metadata": {},
   "outputs": [
    {
     "data": {
      "text/html": [
       "<div>\n",
       "<style scoped>\n",
       "    .dataframe tbody tr th:only-of-type {\n",
       "        vertical-align: middle;\n",
       "    }\n",
       "\n",
       "    .dataframe tbody tr th {\n",
       "        vertical-align: top;\n",
       "    }\n",
       "\n",
       "    .dataframe thead th {\n",
       "        text-align: right;\n",
       "    }\n",
       "</style>\n",
       "<table border=\"1\" class=\"dataframe\">\n",
       "  <thead>\n",
       "    <tr style=\"text-align: right;\">\n",
       "      <th>counter_satisfaction</th>\n",
       "      <th>1</th>\n",
       "    </tr>\n",
       "    <tr>\n",
       "      <th>left</th>\n",
       "      <th></th>\n",
       "    </tr>\n",
       "  </thead>\n",
       "  <tbody>\n",
       "    <tr>\n",
       "      <th>0</th>\n",
       "      <td>7620.30</td>\n",
       "    </tr>\n",
       "    <tr>\n",
       "      <th>1</th>\n",
       "      <td>1571.59</td>\n",
       "    </tr>\n",
       "  </tbody>\n",
       "</table>\n",
       "</div>"
      ],
      "text/plain": [
       "counter_satisfaction        1\n",
       "left                         \n",
       "0                     7620.30\n",
       "1                     1571.59"
      ]
     },
     "execution_count": 148,
     "metadata": {},
     "output_type": "execute_result"
    }
   ],
   "source": [
    "# Посчитаем общие данные удолетворенностью по уволившимся и не уволившимся сотрудникам, все, что будет идти ниже \n",
    "# понадобится нам для расчетов\n",
    "df_HR_left_pivot = df_HR_left.pivot_table(index='left', columns='counter_satisfaction', values='satisfaction_level', aggfunc='sum').fillna(0)\n",
    "df_HR_left_pivot.head(5)\n",
    "# Далее мы рассчитываем общее количество удовлетворенности в разрезе уволившихся (1) и не уволившихся(1) \n",
    "# - нам это пригодится для дальнейших рассчетов"
   ]
  },
  {
   "cell_type": "code",
   "execution_count": 189,
   "id": "454f71e1",
   "metadata": {},
   "outputs": [
    {
     "data": {
      "text/html": [
       "<div>\n",
       "<style scoped>\n",
       "    .dataframe tbody tr th:only-of-type {\n",
       "        vertical-align: middle;\n",
       "    }\n",
       "\n",
       "    .dataframe tbody tr th {\n",
       "        vertical-align: top;\n",
       "    }\n",
       "\n",
       "    .dataframe thead th {\n",
       "        text-align: right;\n",
       "    }\n",
       "</style>\n",
       "<table border=\"1\" class=\"dataframe\">\n",
       "  <thead>\n",
       "    <tr style=\"text-align: right;\">\n",
       "      <th>satisfaction_level</th>\n",
       "      <th>0.09</th>\n",
       "      <th>0.1</th>\n",
       "      <th>0.11</th>\n",
       "      <th>0.12</th>\n",
       "      <th>0.13</th>\n",
       "      <th>0.14</th>\n",
       "      <th>0.15</th>\n",
       "      <th>0.16</th>\n",
       "      <th>0.17</th>\n",
       "      <th>0.18</th>\n",
       "      <th>...</th>\n",
       "      <th>0.92</th>\n",
       "      <th>0.93</th>\n",
       "      <th>0.94</th>\n",
       "      <th>0.95</th>\n",
       "      <th>0.96</th>\n",
       "      <th>0.97</th>\n",
       "      <th>0.98</th>\n",
       "      <th>0.99</th>\n",
       "      <th>1.0</th>\n",
       "      <th>number_of_people</th>\n",
       "    </tr>\n",
       "    <tr>\n",
       "      <th>left</th>\n",
       "      <th></th>\n",
       "      <th></th>\n",
       "      <th></th>\n",
       "      <th></th>\n",
       "      <th></th>\n",
       "      <th></th>\n",
       "      <th></th>\n",
       "      <th></th>\n",
       "      <th></th>\n",
       "      <th></th>\n",
       "      <th></th>\n",
       "      <th></th>\n",
       "      <th></th>\n",
       "      <th></th>\n",
       "      <th></th>\n",
       "      <th></th>\n",
       "      <th></th>\n",
       "      <th></th>\n",
       "      <th></th>\n",
       "      <th></th>\n",
       "      <th></th>\n",
       "    </tr>\n",
       "  </thead>\n",
       "  <tbody>\n",
       "    <tr>\n",
       "      <th>0</th>\n",
       "      <td>0.0</td>\n",
       "      <td>0.0</td>\n",
       "      <td>0.0</td>\n",
       "      <td>26.0</td>\n",
       "      <td>51.0</td>\n",
       "      <td>63.0</td>\n",
       "      <td>73.0</td>\n",
       "      <td>78.0</td>\n",
       "      <td>67.0</td>\n",
       "      <td>63.0</td>\n",
       "      <td>...</td>\n",
       "      <td>178.0</td>\n",
       "      <td>169.0</td>\n",
       "      <td>167.0</td>\n",
       "      <td>181.0</td>\n",
       "      <td>203.0</td>\n",
       "      <td>176.0</td>\n",
       "      <td>183.0</td>\n",
       "      <td>172.0</td>\n",
       "      <td>111.0</td>\n",
       "      <td>11428.0</td>\n",
       "    </tr>\n",
       "    <tr>\n",
       "      <th>1</th>\n",
       "      <td>195.0</td>\n",
       "      <td>358.0</td>\n",
       "      <td>335.0</td>\n",
       "      <td>4.0</td>\n",
       "      <td>3.0</td>\n",
       "      <td>10.0</td>\n",
       "      <td>3.0</td>\n",
       "      <td>1.0</td>\n",
       "      <td>5.0</td>\n",
       "      <td>0.0</td>\n",
       "      <td>...</td>\n",
       "      <td>20.0</td>\n",
       "      <td>0.0</td>\n",
       "      <td>0.0</td>\n",
       "      <td>0.0</td>\n",
       "      <td>0.0</td>\n",
       "      <td>0.0</td>\n",
       "      <td>0.0</td>\n",
       "      <td>0.0</td>\n",
       "      <td>0.0</td>\n",
       "      <td>3571.0</td>\n",
       "    </tr>\n",
       "  </tbody>\n",
       "</table>\n",
       "<p>2 rows × 93 columns</p>\n",
       "</div>"
      ],
      "text/plain": [
       "satisfaction_level   0.09    0.1   0.11  0.12  0.13  0.14  0.15  0.16  0.17  \\\n",
       "left                                                                          \n",
       "0                     0.0    0.0    0.0  26.0  51.0  63.0  73.0  78.0  67.0   \n",
       "1                   195.0  358.0  335.0   4.0   3.0  10.0   3.0   1.0   5.0   \n",
       "\n",
       "satisfaction_level  0.18  ...   0.92   0.93   0.94   0.95   0.96   0.97  \\\n",
       "left                      ...                                             \n",
       "0                   63.0  ...  178.0  169.0  167.0  181.0  203.0  176.0   \n",
       "1                    0.0  ...   20.0    0.0    0.0    0.0    0.0    0.0   \n",
       "\n",
       "satisfaction_level   0.98   0.99    1.0  number_of_people  \n",
       "left                                                       \n",
       "0                   183.0  172.0  111.0           11428.0  \n",
       "1                     0.0    0.0    0.0            3571.0  \n",
       "\n",
       "[2 rows x 93 columns]"
      ]
     },
     "execution_count": 189,
     "metadata": {},
     "output_type": "execute_result"
    }
   ],
   "source": [
    "# Далее мы рассчитываем датафоейм по общему количеству людей в разрезе удовлетворенности на уволившихся и не уволившихся \n",
    "# - делаем это с помощью расчетов в датафрейме (столбец number)\n",
    "df_HR_left_satisfied_pivot = df_HR_left.pivot_table(index='left', columns='satisfaction_level', values='counter_satisfaction', aggfunc='sum').fillna(0)\n",
    "df_HR_left_satisfied_pivot['number_of_people']=df_HR_left_satisfied_pivot.sum(axis=1)\n",
    "df_HR_left_satisfied_pivot"
   ]
  },
  {
   "cell_type": "code",
   "execution_count": 227,
   "id": "89c6c524",
   "metadata": {},
   "outputs": [
    {
     "data": {
      "text/html": [
       "<div>\n",
       "<style scoped>\n",
       "    .dataframe tbody tr th:only-of-type {\n",
       "        vertical-align: middle;\n",
       "    }\n",
       "\n",
       "    .dataframe tbody tr th {\n",
       "        vertical-align: top;\n",
       "    }\n",
       "\n",
       "    .dataframe thead th {\n",
       "        text-align: right;\n",
       "    }\n",
       "</style>\n",
       "<table border=\"1\" class=\"dataframe\">\n",
       "  <thead>\n",
       "    <tr style=\"text-align: right;\">\n",
       "      <th>satisfaction_level</th>\n",
       "      <th>number_of_people</th>\n",
       "    </tr>\n",
       "    <tr>\n",
       "      <th>left</th>\n",
       "      <th></th>\n",
       "    </tr>\n",
       "  </thead>\n",
       "  <tbody>\n",
       "    <tr>\n",
       "      <th>0</th>\n",
       "      <td>11428.0</td>\n",
       "    </tr>\n",
       "    <tr>\n",
       "      <th>1</th>\n",
       "      <td>3571.0</td>\n",
       "    </tr>\n",
       "  </tbody>\n",
       "</table>\n",
       "</div>"
      ],
      "text/plain": [
       "satisfaction_level  number_of_people\n",
       "left                                \n",
       "0                            11428.0\n",
       "1                             3571.0"
      ]
     },
     "execution_count": 227,
     "metadata": {},
     "output_type": "execute_result"
    }
   ],
   "source": [
    "# Для наглядности уменьшаем наш датафрейм, оставляя только количество людей в разрезе условия (уволился (1) или не уволился(0))\n",
    "df_HR_left_satisfied_pivot_filtered = df_HR_left_satisfied_pivot.filter(items=['left','number_of_people'])\n",
    "df_HR_left_satisfied_pivot_filtered"
   ]
  },
  {
   "cell_type": "code",
   "execution_count": 191,
   "id": "f9ad3387",
   "metadata": {},
   "outputs": [
    {
     "data": {
      "text/html": [
       "<div>\n",
       "<style scoped>\n",
       "    .dataframe tbody tr th:only-of-type {\n",
       "        vertical-align: middle;\n",
       "    }\n",
       "\n",
       "    .dataframe tbody tr th {\n",
       "        vertical-align: top;\n",
       "    }\n",
       "\n",
       "    .dataframe thead th {\n",
       "        text-align: right;\n",
       "    }\n",
       "</style>\n",
       "<table border=\"1\" class=\"dataframe\">\n",
       "  <thead>\n",
       "    <tr style=\"text-align: right;\">\n",
       "      <th></th>\n",
       "      <th>1</th>\n",
       "      <th>number_of_people</th>\n",
       "    </tr>\n",
       "    <tr>\n",
       "      <th>left</th>\n",
       "      <th></th>\n",
       "      <th></th>\n",
       "    </tr>\n",
       "  </thead>\n",
       "  <tbody>\n",
       "    <tr>\n",
       "      <th>0</th>\n",
       "      <td>7620.30</td>\n",
       "      <td>11428.0</td>\n",
       "    </tr>\n",
       "    <tr>\n",
       "      <th>1</th>\n",
       "      <td>1571.59</td>\n",
       "      <td>3571.0</td>\n",
       "    </tr>\n",
       "  </tbody>\n",
       "</table>\n",
       "</div>"
      ],
      "text/plain": [
       "            1  number_of_people\n",
       "left                           \n",
       "0     7620.30           11428.0\n",
       "1     1571.59            3571.0"
      ]
     },
     "execution_count": 191,
     "metadata": {},
     "output_type": "execute_result"
    }
   ],
   "source": [
    "# Объединяем 2 получившихся датафрейма\n",
    "df_HR_left_satisfied_all= df_HR_left_pivot.merge(df_HR_left_satisfied_pivot_filtered, how ='left', on ='left')\n",
    "df_HR_left_satisfied_all"
   ]
  },
  {
   "cell_type": "code",
   "execution_count": 168,
   "id": "12168621",
   "metadata": {},
   "outputs": [
    {
     "data": {
      "text/html": [
       "<div>\n",
       "<style scoped>\n",
       "    .dataframe tbody tr th:only-of-type {\n",
       "        vertical-align: middle;\n",
       "    }\n",
       "\n",
       "    .dataframe tbody tr th {\n",
       "        vertical-align: top;\n",
       "    }\n",
       "\n",
       "    .dataframe thead th {\n",
       "        text-align: right;\n",
       "    }\n",
       "</style>\n",
       "<table border=\"1\" class=\"dataframe\">\n",
       "  <thead>\n",
       "    <tr style=\"text-align: right;\">\n",
       "      <th></th>\n",
       "      <th>number</th>\n",
       "      <th>number_of_people</th>\n",
       "    </tr>\n",
       "    <tr>\n",
       "      <th>left</th>\n",
       "      <th></th>\n",
       "      <th></th>\n",
       "    </tr>\n",
       "  </thead>\n",
       "  <tbody>\n",
       "    <tr>\n",
       "      <th>0</th>\n",
       "      <td>7620.30</td>\n",
       "      <td>11428.0</td>\n",
       "    </tr>\n",
       "    <tr>\n",
       "      <th>1</th>\n",
       "      <td>1571.59</td>\n",
       "      <td>3571.0</td>\n",
       "    </tr>\n",
       "  </tbody>\n",
       "</table>\n",
       "</div>"
      ],
      "text/plain": [
       "       number  number_of_people\n",
       "left                           \n",
       "0     7620.30           11428.0\n",
       "1     1571.59            3571.0"
      ]
     },
     "execution_count": 168,
     "metadata": {},
     "output_type": "execute_result"
    }
   ],
   "source": [
    "# Для облегчения восприятия меняем название столбцов\n",
    "df_HR_left_satisfied_all_2 = df_HR_left_satisfied_all.set_axis(['number','number_of_people' ], axis='columns', inplace=False)\n",
    "df_HR_left_satisfied_all_2"
   ]
  },
  {
   "cell_type": "code",
   "execution_count": 171,
   "id": "eaa01f53",
   "metadata": {},
   "outputs": [],
   "source": [
    "# Разрабатываем простую функцию применимую к 2-м столбцам датафрейма, используем apply\n",
    "def satisfaction_left_or_stayed(row):\n",
    "    return row['number']/row['number_of_people']"
   ]
  },
  {
   "cell_type": "code",
   "execution_count": 172,
   "id": "1f33a750",
   "metadata": {},
   "outputs": [
    {
     "data": {
      "text/html": [
       "<div>\n",
       "<style scoped>\n",
       "    .dataframe tbody tr th:only-of-type {\n",
       "        vertical-align: middle;\n",
       "    }\n",
       "\n",
       "    .dataframe tbody tr th {\n",
       "        vertical-align: top;\n",
       "    }\n",
       "\n",
       "    .dataframe thead th {\n",
       "        text-align: right;\n",
       "    }\n",
       "</style>\n",
       "<table border=\"1\" class=\"dataframe\">\n",
       "  <thead>\n",
       "    <tr style=\"text-align: right;\">\n",
       "      <th></th>\n",
       "      <th>number</th>\n",
       "      <th>number_of_people</th>\n",
       "      <th>satisfaction_percentage</th>\n",
       "    </tr>\n",
       "    <tr>\n",
       "      <th>left</th>\n",
       "      <th></th>\n",
       "      <th></th>\n",
       "      <th></th>\n",
       "    </tr>\n",
       "  </thead>\n",
       "  <tbody>\n",
       "    <tr>\n",
       "      <th>0</th>\n",
       "      <td>7620.30</td>\n",
       "      <td>11428.0</td>\n",
       "      <td>0.666810</td>\n",
       "    </tr>\n",
       "    <tr>\n",
       "      <th>1</th>\n",
       "      <td>1571.59</td>\n",
       "      <td>3571.0</td>\n",
       "      <td>0.440098</td>\n",
       "    </tr>\n",
       "  </tbody>\n",
       "</table>\n",
       "</div>"
      ],
      "text/plain": [
       "       number  number_of_people  satisfaction_percentage\n",
       "left                                                    \n",
       "0     7620.30           11428.0                 0.666810\n",
       "1     1571.59            3571.0                 0.440098"
      ]
     },
     "execution_count": 172,
     "metadata": {},
     "output_type": "execute_result"
    }
   ],
   "source": [
    "# Применяем функцию к датафрейму и получаем необходимые нам данные удовлетворенность в разрезе уводившихся и не уволившихся.\n",
    "df_HR_left_satisfied_all_2['satisfaction_percentage']=df_HR_left_satisfied_all_2.apply(satisfaction_left_or_stayed, axis=1)\n",
    "df_HR_left_satisfied_all_2.head()"
   ]
  },
  {
   "cell_type": "markdown",
   "id": "3fc65ad8",
   "metadata": {},
   "source": [
    "### ТАКИМ ОБРАЗОМ У НАС ПОЛУЧИЛОСЬ:\n",
    "### НЕ УВОЛИВШИЕСЯ: средняя удовлетворенность равна 0.66 (т.е. 66%)\n",
    "### УВОЛИВШИЕСЯ: средняя удовлетворенность равна 0.44 (т.е. 44%)"
   ]
  },
  {
   "cell_type": "code",
   "execution_count": 180,
   "id": "fc87b113",
   "metadata": {},
   "outputs": [
    {
     "data": {
      "text/html": [
       "<div>\n",
       "<style scoped>\n",
       "    .dataframe tbody tr th:only-of-type {\n",
       "        vertical-align: middle;\n",
       "    }\n",
       "\n",
       "    .dataframe tbody tr th {\n",
       "        vertical-align: top;\n",
       "    }\n",
       "\n",
       "    .dataframe thead th {\n",
       "        text-align: right;\n",
       "    }\n",
       "</style>\n",
       "<table border=\"1\" class=\"dataframe\">\n",
       "  <thead>\n",
       "    <tr style=\"text-align: right;\">\n",
       "      <th></th>\n",
       "      <th>satisfaction_level</th>\n",
       "      <th>number_project</th>\n",
       "      <th>left</th>\n",
       "    </tr>\n",
       "  </thead>\n",
       "  <tbody>\n",
       "    <tr>\n",
       "      <th>0</th>\n",
       "      <td>0.38</td>\n",
       "      <td>2</td>\n",
       "      <td>1</td>\n",
       "    </tr>\n",
       "    <tr>\n",
       "      <th>1</th>\n",
       "      <td>0.80</td>\n",
       "      <td>5</td>\n",
       "      <td>1</td>\n",
       "    </tr>\n",
       "    <tr>\n",
       "      <th>2</th>\n",
       "      <td>0.11</td>\n",
       "      <td>7</td>\n",
       "      <td>1</td>\n",
       "    </tr>\n",
       "    <tr>\n",
       "      <th>3</th>\n",
       "      <td>0.72</td>\n",
       "      <td>5</td>\n",
       "      <td>1</td>\n",
       "    </tr>\n",
       "    <tr>\n",
       "      <th>4</th>\n",
       "      <td>0.37</td>\n",
       "      <td>2</td>\n",
       "      <td>1</td>\n",
       "    </tr>\n",
       "  </tbody>\n",
       "</table>\n",
       "</div>"
      ],
      "text/plain": [
       "   satisfaction_level  number_project  left\n",
       "0                0.38               2     1\n",
       "1                0.80               5     1\n",
       "2                0.11               7     1\n",
       "3                0.72               5     1\n",
       "4                0.37               2     1"
      ]
     },
     "execution_count": 180,
     "metadata": {},
     "output_type": "execute_result"
    }
   ],
   "source": [
    "#Чтобы вычислить среднее количество проекто в разрезе уволившихся и не уволившихся надо отобрать необходимые столбцы\n",
    "\n",
    "df_HR_left_projects = df_HR.filter(items=['satisfaction_level','number_project','left'])\n",
    "df_HR_left_projects.head()"
   ]
  },
  {
   "cell_type": "code",
   "execution_count": 257,
   "id": "fda94ca7",
   "metadata": {},
   "outputs": [
    {
     "data": {
      "text/plain": [
       "number_project  left\n",
       "2               0        821\n",
       "                1       1567\n",
       "3               0       3983\n",
       "                1         72\n",
       "4               0       3956\n",
       "                1        409\n",
       "5               0       2149\n",
       "                1        612\n",
       "6               0        519\n",
       "                1        655\n",
       "7               1        256\n",
       "dtype: int64"
      ]
     },
     "execution_count": 257,
     "metadata": {},
     "output_type": "execute_result"
    }
   ],
   "source": [
    "# Среднее количество проектов\n",
    "# Рассчитаем сотрудников по количеству проектов\n",
    "df_HR_left_projects_quantity= df_HR_left_projects.groupby(['number_project','left']).size() \n",
    "df_HR_left_projects_quantity.head(30)"
   ]
  },
  {
   "cell_type": "code",
   "execution_count": 220,
   "id": "edff7491",
   "metadata": {},
   "outputs": [
    {
     "data": {
      "text/html": [
       "<div>\n",
       "<style scoped>\n",
       "    .dataframe tbody tr th:only-of-type {\n",
       "        vertical-align: middle;\n",
       "    }\n",
       "\n",
       "    .dataframe tbody tr th {\n",
       "        vertical-align: top;\n",
       "    }\n",
       "\n",
       "    .dataframe thead th {\n",
       "        text-align: right;\n",
       "    }\n",
       "</style>\n",
       "<table border=\"1\" class=\"dataframe\">\n",
       "  <thead>\n",
       "    <tr style=\"text-align: right;\">\n",
       "      <th></th>\n",
       "      <th>satisfaction_level</th>\n",
       "      <th>number_project</th>\n",
       "      <th>left</th>\n",
       "      <th>counter_projects</th>\n",
       "    </tr>\n",
       "  </thead>\n",
       "  <tbody>\n",
       "    <tr>\n",
       "      <th>0</th>\n",
       "      <td>0.38</td>\n",
       "      <td>2</td>\n",
       "      <td>1</td>\n",
       "      <td>1</td>\n",
       "    </tr>\n",
       "    <tr>\n",
       "      <th>1</th>\n",
       "      <td>0.80</td>\n",
       "      <td>5</td>\n",
       "      <td>1</td>\n",
       "      <td>1</td>\n",
       "    </tr>\n",
       "    <tr>\n",
       "      <th>2</th>\n",
       "      <td>0.11</td>\n",
       "      <td>7</td>\n",
       "      <td>1</td>\n",
       "      <td>1</td>\n",
       "    </tr>\n",
       "    <tr>\n",
       "      <th>3</th>\n",
       "      <td>0.72</td>\n",
       "      <td>5</td>\n",
       "      <td>1</td>\n",
       "      <td>1</td>\n",
       "    </tr>\n",
       "    <tr>\n",
       "      <th>4</th>\n",
       "      <td>0.37</td>\n",
       "      <td>2</td>\n",
       "      <td>1</td>\n",
       "      <td>1</td>\n",
       "    </tr>\n",
       "  </tbody>\n",
       "</table>\n",
       "</div>"
      ],
      "text/plain": [
       "   satisfaction_level  number_project  left  counter_projects\n",
       "0                0.38               2     1                 1\n",
       "1                0.80               5     1                 1\n",
       "2                0.11               7     1                 1\n",
       "3                0.72               5     1                 1\n",
       "4                0.37               2     1                 1"
      ]
     },
     "execution_count": 220,
     "metadata": {},
     "output_type": "execute_result"
    }
   ],
   "source": [
    "# Создаем отдельный счетчик проектов в разрезе уволившихся(1) или не уволившихся(0)\n",
    "df_HR_left_projects['counter_projects'] = 1\n",
    "df_HR_left_projects.head()"
   ]
  },
  {
   "cell_type": "code",
   "execution_count": 221,
   "id": "9e7b171b",
   "metadata": {},
   "outputs": [
    {
     "data": {
      "text/html": [
       "<div>\n",
       "<style scoped>\n",
       "    .dataframe tbody tr th:only-of-type {\n",
       "        vertical-align: middle;\n",
       "    }\n",
       "\n",
       "    .dataframe tbody tr th {\n",
       "        vertical-align: top;\n",
       "    }\n",
       "\n",
       "    .dataframe thead th {\n",
       "        text-align: right;\n",
       "    }\n",
       "</style>\n",
       "<table border=\"1\" class=\"dataframe\">\n",
       "  <thead>\n",
       "    <tr style=\"text-align: right;\">\n",
       "      <th>counter_projects</th>\n",
       "      <th>1</th>\n",
       "    </tr>\n",
       "    <tr>\n",
       "      <th>left</th>\n",
       "      <th></th>\n",
       "    </tr>\n",
       "  </thead>\n",
       "  <tbody>\n",
       "    <tr>\n",
       "      <th>0</th>\n",
       "      <td>43274</td>\n",
       "    </tr>\n",
       "    <tr>\n",
       "      <th>1</th>\n",
       "      <td>13768</td>\n",
       "    </tr>\n",
       "  </tbody>\n",
       "</table>\n",
       "</div>"
      ],
      "text/plain": [
       "counter_projects      1\n",
       "left                   \n",
       "0                 43274\n",
       "1                 13768"
      ]
     },
     "execution_count": 221,
     "metadata": {},
     "output_type": "execute_result"
    }
   ],
   "source": [
    "df_HR_left_projects_pivot = df_HR_left_projects.pivot_table(index='left', columns='counter_projects', values='number_project', aggfunc='sum').fillna(0)\n",
    "df_HR_left_projects_pivot.head(5)"
   ]
  },
  {
   "cell_type": "code",
   "execution_count": 248,
   "id": "c6cfd9c4",
   "metadata": {},
   "outputs": [
    {
     "data": {
      "text/plain": [
       "0    11428\n",
       "1     3571\n",
       "Name: left, dtype: int64"
      ]
     },
     "execution_count": 248,
     "metadata": {},
     "output_type": "execute_result"
    }
   ],
   "source": [
    "# Нам уже изсестно, сколько человек уволилось и сколько не уволилось, но можем повторить рассчеты \n",
    "# Это можно проверить посредством value.counts()\n",
    "df_HR_left_projects['left'].value_counts()"
   ]
  },
  {
   "cell_type": "code",
   "execution_count": 254,
   "id": "4acf04a5",
   "metadata": {},
   "outputs": [
    {
     "data": {
      "text/html": [
       "<div>\n",
       "<style scoped>\n",
       "    .dataframe tbody tr th:only-of-type {\n",
       "        vertical-align: middle;\n",
       "    }\n",
       "\n",
       "    .dataframe tbody tr th {\n",
       "        vertical-align: top;\n",
       "    }\n",
       "\n",
       "    .dataframe thead th {\n",
       "        text-align: right;\n",
       "    }\n",
       "</style>\n",
       "<table border=\"1\" class=\"dataframe\">\n",
       "  <thead>\n",
       "    <tr style=\"text-align: right;\">\n",
       "      <th>satisfaction_level</th>\n",
       "      <th>number_of_people</th>\n",
       "    </tr>\n",
       "    <tr>\n",
       "      <th>left</th>\n",
       "      <th></th>\n",
       "    </tr>\n",
       "  </thead>\n",
       "  <tbody>\n",
       "    <tr>\n",
       "      <th>0</th>\n",
       "      <td>11428.0</td>\n",
       "    </tr>\n",
       "    <tr>\n",
       "      <th>1</th>\n",
       "      <td>3571.0</td>\n",
       "    </tr>\n",
       "  </tbody>\n",
       "</table>\n",
       "</div>"
      ],
      "text/plain": [
       "satisfaction_level  number_of_people\n",
       "left                                \n",
       "0                            11428.0\n",
       "1                             3571.0"
      ]
     },
     "execution_count": 254,
     "metadata": {},
     "output_type": "execute_result"
    }
   ],
   "source": [
    "# И у нас даже уже есть мини-датафрейм с этими данными, вот он:\n",
    "df_HR_left_satisfied_pivot_filtered"
   ]
  },
  {
   "cell_type": "code",
   "execution_count": 250,
   "id": "2f1500a8",
   "metadata": {},
   "outputs": [
    {
     "data": {
      "text/html": [
       "<div>\n",
       "<style scoped>\n",
       "    .dataframe tbody tr th:only-of-type {\n",
       "        vertical-align: middle;\n",
       "    }\n",
       "\n",
       "    .dataframe tbody tr th {\n",
       "        vertical-align: top;\n",
       "    }\n",
       "\n",
       "    .dataframe thead th {\n",
       "        text-align: right;\n",
       "    }\n",
       "</style>\n",
       "<table border=\"1\" class=\"dataframe\">\n",
       "  <thead>\n",
       "    <tr style=\"text-align: right;\">\n",
       "      <th></th>\n",
       "      <th>1</th>\n",
       "      <th>number_of_people</th>\n",
       "    </tr>\n",
       "    <tr>\n",
       "      <th>left</th>\n",
       "      <th></th>\n",
       "      <th></th>\n",
       "    </tr>\n",
       "  </thead>\n",
       "  <tbody>\n",
       "    <tr>\n",
       "      <th>0</th>\n",
       "      <td>43274</td>\n",
       "      <td>11428.0</td>\n",
       "    </tr>\n",
       "    <tr>\n",
       "      <th>1</th>\n",
       "      <td>13768</td>\n",
       "      <td>3571.0</td>\n",
       "    </tr>\n",
       "  </tbody>\n",
       "</table>\n",
       "</div>"
      ],
      "text/plain": [
       "          1  number_of_people\n",
       "left                         \n",
       "0     43274           11428.0\n",
       "1     13768            3571.0"
      ]
     },
     "execution_count": 250,
     "metadata": {},
     "output_type": "execute_result"
    }
   ],
   "source": [
    "# Склеиваем датафреймы:\n",
    "df_HR_left_projects_all= df_HR_left_projects_pivot.merge(df_HR_left_satisfied_pivot_filtered, how ='left', on ='left')\n",
    "df_HR_left_projects_all"
   ]
  },
  {
   "cell_type": "code",
   "execution_count": 251,
   "id": "99244ab9",
   "metadata": {},
   "outputs": [
    {
     "data": {
      "text/html": [
       "<div>\n",
       "<style scoped>\n",
       "    .dataframe tbody tr th:only-of-type {\n",
       "        vertical-align: middle;\n",
       "    }\n",
       "\n",
       "    .dataframe tbody tr th {\n",
       "        vertical-align: top;\n",
       "    }\n",
       "\n",
       "    .dataframe thead th {\n",
       "        text-align: right;\n",
       "    }\n",
       "</style>\n",
       "<table border=\"1\" class=\"dataframe\">\n",
       "  <thead>\n",
       "    <tr style=\"text-align: right;\">\n",
       "      <th></th>\n",
       "      <th>number_of_projects</th>\n",
       "      <th>number_of_people_2</th>\n",
       "    </tr>\n",
       "    <tr>\n",
       "      <th>left</th>\n",
       "      <th></th>\n",
       "      <th></th>\n",
       "    </tr>\n",
       "  </thead>\n",
       "  <tbody>\n",
       "    <tr>\n",
       "      <th>0</th>\n",
       "      <td>43274</td>\n",
       "      <td>11428.0</td>\n",
       "    </tr>\n",
       "    <tr>\n",
       "      <th>1</th>\n",
       "      <td>13768</td>\n",
       "      <td>3571.0</td>\n",
       "    </tr>\n",
       "  </tbody>\n",
       "</table>\n",
       "</div>"
      ],
      "text/plain": [
       "      number_of_projects  number_of_people_2\n",
       "left                                        \n",
       "0                  43274             11428.0\n",
       "1                  13768              3571.0"
      ]
     },
     "execution_count": 251,
     "metadata": {},
     "output_type": "execute_result"
    }
   ],
   "source": [
    "# Для облегчения восприятия меняем название столбцов\n",
    "df_HR_left_projects_all_2 = df_HR_left_projects_all.set_axis(['number_of_projects','number_of_people_2' ], axis='columns', inplace=False)\n",
    "df_HR_left_projects_all_2"
   ]
  },
  {
   "cell_type": "code",
   "execution_count": 252,
   "id": "54a9ce54",
   "metadata": {},
   "outputs": [],
   "source": [
    "# Разрабатываем простую функцию применимую к 2-м столбцам датафрейма, используем apply\n",
    "def projects_left_or_stayed(row):\n",
    "    return row['number_of_projects']/row['number_of_people_2']"
   ]
  },
  {
   "cell_type": "code",
   "execution_count": 253,
   "id": "3263640a",
   "metadata": {},
   "outputs": [
    {
     "data": {
      "text/html": [
       "<div>\n",
       "<style scoped>\n",
       "    .dataframe tbody tr th:only-of-type {\n",
       "        vertical-align: middle;\n",
       "    }\n",
       "\n",
       "    .dataframe tbody tr th {\n",
       "        vertical-align: top;\n",
       "    }\n",
       "\n",
       "    .dataframe thead th {\n",
       "        text-align: right;\n",
       "    }\n",
       "</style>\n",
       "<table border=\"1\" class=\"dataframe\">\n",
       "  <thead>\n",
       "    <tr style=\"text-align: right;\">\n",
       "      <th></th>\n",
       "      <th>number_of_projects</th>\n",
       "      <th>number_of_people_2</th>\n",
       "      <th>average_projects</th>\n",
       "    </tr>\n",
       "    <tr>\n",
       "      <th>left</th>\n",
       "      <th></th>\n",
       "      <th></th>\n",
       "      <th></th>\n",
       "    </tr>\n",
       "  </thead>\n",
       "  <tbody>\n",
       "    <tr>\n",
       "      <th>0</th>\n",
       "      <td>43274</td>\n",
       "      <td>11428.0</td>\n",
       "      <td>3.786664</td>\n",
       "    </tr>\n",
       "    <tr>\n",
       "      <th>1</th>\n",
       "      <td>13768</td>\n",
       "      <td>3571.0</td>\n",
       "      <td>3.855503</td>\n",
       "    </tr>\n",
       "  </tbody>\n",
       "</table>\n",
       "</div>"
      ],
      "text/plain": [
       "      number_of_projects  number_of_people_2  average_projects\n",
       "left                                                          \n",
       "0                  43274             11428.0          3.786664\n",
       "1                  13768              3571.0          3.855503"
      ]
     },
     "execution_count": 253,
     "metadata": {},
     "output_type": "execute_result"
    }
   ],
   "source": [
    "# Применяем функцию к датафрейму и получаем необходимые нам данные среднее колличество проектов в разрезе уволившихся и не уволившихся.\n",
    "df_HR_left_projects_all_2['average_projects']=df_HR_left_projects_all_2.apply(projects_left_or_stayed, axis=1)\n",
    "df_HR_left_projects_all_2.head()"
   ]
  },
  {
   "cell_type": "markdown",
   "id": "9c1b9fe8",
   "metadata": {},
   "source": [
    "### ТАКИМ ОБРАЗОМ У НАС ПОЛУЧИЛОСЬ:\n",
    "### НЕ УВОЛИВШИЕСЯ: среднее количество проектов на одного сотрудника равно 3,78 проекта\n",
    "### УВОЛИВШИЕСЯ: среднее количество проектов на одного сотрудника равно 3,85 проекта"
   ]
  },
  {
   "cell_type": "markdown",
   "id": "41bb84e8",
   "metadata": {},
   "source": [
    "# Разделить данные на тестовую и обучающую выборки\n",
    "# Построить модель LDA, предсказывающую уволился ли сотрудник на основе имеющихся факторов (кроме department и salary) \n",
    "# Оценить качество модели на тестовой выборки (20 баллов)"
   ]
  },
  {
   "cell_type": "code",
   "execution_count": 278,
   "id": "d11aa9d5",
   "metadata": {},
   "outputs": [
    {
     "name": "stdout",
     "output_type": "stream",
     "text": [
      "<class 'pandas.core.frame.DataFrame'>\n",
      "RangeIndex: 14999 entries, 0 to 14998\n",
      "Data columns (total 11 columns):\n",
      " #   Column                 Non-Null Count  Dtype  \n",
      "---  ------                 --------------  -----  \n",
      " 0   satisfaction_level     14999 non-null  float64\n",
      " 1   last_evaluation        14999 non-null  float64\n",
      " 2   number_project         14999 non-null  int64  \n",
      " 3   average_montly_hours   14999 non-null  int64  \n",
      " 4   time_spend_company     14999 non-null  int64  \n",
      " 5   Work_accident          14999 non-null  int64  \n",
      " 6   left                   14999 non-null  int64  \n",
      " 7   promotion_last_5years  14999 non-null  int64  \n",
      " 8   department             14999 non-null  object \n",
      " 9   salary                 14999 non-null  object \n",
      " 10  collegue               14999 non-null  int64  \n",
      "dtypes: float64(2), int64(7), object(2)\n",
      "memory usage: 1.3+ MB\n"
     ]
    }
   ],
   "source": [
    "# Еще раз вспомним, какие метрики у нас есть:\n",
    "df_HR.info()"
   ]
  },
  {
   "cell_type": "code",
   "execution_count": 277,
   "id": "57816e7e",
   "metadata": {},
   "outputs": [
    {
     "data": {
      "text/html": [
       "<div>\n",
       "<style scoped>\n",
       "    .dataframe tbody tr th:only-of-type {\n",
       "        vertical-align: middle;\n",
       "    }\n",
       "\n",
       "    .dataframe tbody tr th {\n",
       "        vertical-align: top;\n",
       "    }\n",
       "\n",
       "    .dataframe thead th {\n",
       "        text-align: right;\n",
       "    }\n",
       "</style>\n",
       "<table border=\"1\" class=\"dataframe\">\n",
       "  <thead>\n",
       "    <tr style=\"text-align: right;\">\n",
       "      <th></th>\n",
       "      <th>left</th>\n",
       "      <th>satisfaction_level</th>\n",
       "      <th>last_evaluation</th>\n",
       "      <th>number_project</th>\n",
       "      <th>time_spend_company</th>\n",
       "      <th>Work_accident</th>\n",
       "      <th>average_montly_hours</th>\n",
       "      <th>promotion_last_5years</th>\n",
       "    </tr>\n",
       "  </thead>\n",
       "  <tbody>\n",
       "    <tr>\n",
       "      <th>0</th>\n",
       "      <td>1</td>\n",
       "      <td>0.38</td>\n",
       "      <td>0.53</td>\n",
       "      <td>2</td>\n",
       "      <td>3</td>\n",
       "      <td>0</td>\n",
       "      <td>157</td>\n",
       "      <td>0</td>\n",
       "    </tr>\n",
       "    <tr>\n",
       "      <th>1</th>\n",
       "      <td>1</td>\n",
       "      <td>0.80</td>\n",
       "      <td>0.86</td>\n",
       "      <td>5</td>\n",
       "      <td>6</td>\n",
       "      <td>0</td>\n",
       "      <td>262</td>\n",
       "      <td>0</td>\n",
       "    </tr>\n",
       "    <tr>\n",
       "      <th>2</th>\n",
       "      <td>1</td>\n",
       "      <td>0.11</td>\n",
       "      <td>0.88</td>\n",
       "      <td>7</td>\n",
       "      <td>4</td>\n",
       "      <td>0</td>\n",
       "      <td>272</td>\n",
       "      <td>0</td>\n",
       "    </tr>\n",
       "    <tr>\n",
       "      <th>3</th>\n",
       "      <td>1</td>\n",
       "      <td>0.72</td>\n",
       "      <td>0.87</td>\n",
       "      <td>5</td>\n",
       "      <td>5</td>\n",
       "      <td>0</td>\n",
       "      <td>223</td>\n",
       "      <td>0</td>\n",
       "    </tr>\n",
       "    <tr>\n",
       "      <th>4</th>\n",
       "      <td>1</td>\n",
       "      <td>0.37</td>\n",
       "      <td>0.52</td>\n",
       "      <td>2</td>\n",
       "      <td>3</td>\n",
       "      <td>0</td>\n",
       "      <td>159</td>\n",
       "      <td>0</td>\n",
       "    </tr>\n",
       "  </tbody>\n",
       "</table>\n",
       "</div>"
      ],
      "text/plain": [
       "   left  satisfaction_level  last_evaluation  number_project  \\\n",
       "0     1                0.38             0.53               2   \n",
       "1     1                0.80             0.86               5   \n",
       "2     1                0.11             0.88               7   \n",
       "3     1                0.72             0.87               5   \n",
       "4     1                0.37             0.52               2   \n",
       "\n",
       "   time_spend_company  Work_accident  average_montly_hours  \\\n",
       "0                   3              0                   157   \n",
       "1                   6              0                   262   \n",
       "2                   4              0                   272   \n",
       "3                   5              0                   223   \n",
       "4                   3              0                   159   \n",
       "\n",
       "   promotion_last_5years  \n",
       "0                      0  \n",
       "1                      0  \n",
       "2                      0  \n",
       "3                      0  \n",
       "4                      0  "
      ]
     },
     "execution_count": 277,
     "metadata": {},
     "output_type": "execute_result"
    }
   ],
   "source": [
    "# Отсеиваем необходимые для нас столбцы с помощью фильтра\n",
    "df_HR_LDA = df_HR.filter(items=['left','satisfaction_level','last_evaluation','number_project','time_spend_company','Work_accident','average_montly_hours','promotion_last_5years'])\n",
    "df_HR_LDA.head()"
   ]
  },
  {
   "cell_type": "code",
   "execution_count": 281,
   "id": "06b36112",
   "metadata": {},
   "outputs": [
    {
     "name": "stdout",
     "output_type": "stream",
     "text": [
      "Уникальные значения - уволился или нет: 0 остался, 1 - уволился: [1 0]\n",
      "Уникальные значения - уровень удовлетворенности: [0.38 0.8  0.11 0.72 0.37 0.41 0.1  0.92 0.89 0.42 0.45 0.84 0.36 0.78\n",
      " 0.76 0.09 0.46 0.4  0.82 0.87 0.57 0.43 0.13 0.44 0.39 0.85 0.81 0.9\n",
      " 0.74 0.79 0.17 0.24 0.91 0.71 0.86 0.14 0.75 0.7  0.31 0.73 0.83 0.32\n",
      " 0.54 0.27 0.77 0.88 0.48 0.19 0.6  0.12 0.61 0.33 0.56 0.47 0.28 0.55\n",
      " 0.53 0.59 0.66 0.25 0.34 0.58 0.51 0.35 0.64 0.5  0.23 0.15 0.49 0.3\n",
      " 0.63 0.21 0.62 0.29 0.2  0.16 0.65 0.68 0.67 0.22 0.26 0.99 0.98 1.\n",
      " 0.52 0.93 0.97 0.69 0.94 0.96 0.18 0.95]\n",
      "Уникальные значения - последняя проверка (в годах): [0.53 0.86 0.88 0.87 0.52 0.5  0.77 0.85 1.   0.54 0.81 0.92 0.55 0.56\n",
      " 0.47 0.99 0.51 0.89 0.83 0.95 0.57 0.49 0.46 0.62 0.94 0.48 0.8  0.74\n",
      " 0.7  0.78 0.91 0.93 0.98 0.97 0.79 0.59 0.84 0.45 0.96 0.68 0.82 0.9\n",
      " 0.71 0.6  0.65 0.58 0.72 0.67 0.75 0.73 0.63 0.61 0.76 0.66 0.69 0.37\n",
      " 0.64 0.39 0.41 0.43 0.44 0.36 0.38 0.4  0.42]\n",
      "Уникальные значения - количество проектов на человека: [2 5 7 6 4 3]\n",
      "Уникальные значения - количество лет в компании: [ 3  6  4  5  2  8 10  7]\n",
      "Уникальные значения - 0 не было инцидентов на работе, 1 - были инциденты на работе: [0 1]\n",
      "Уникальные значения - количество рабочих часов в месяц: [157 262 272 223 159 153 247 259 224 142 135 305 234 148 137 143 160 255\n",
      " 282 147 304 139 158 242 239 128 132 294 134 145 140 246 126 306 152 269\n",
      " 127 281 276 182 273 307 309 225 226 308 244 286 161 264 277 275 149 295\n",
      " 151 249 291 232 130 129 155 265 279 284 221 154 150 267 257 177 144 289\n",
      " 258 263 251 133 216 300 138 260 183 250 292 283 245 256 278 240 136 301\n",
      " 243 296 274 164 146 261 285 141 297 156 287 219 254 228 131 252 236 270\n",
      " 298 192 248 266 238 229 233 268 231 253 302 271 290 235 293 241 218 199\n",
      " 180 195 237 227 172 206 181 217 310 214 198 211 222 213 202 184 204 288\n",
      " 220 299 303 212 196 179 205 230 203 280 169 188 178 175 166 163 168 165\n",
      " 189 162 215 193 176 191 174 201 208 171 111 104 106 100 194 209 185 200\n",
      " 207 187 210 186 167 108 122 110 115 197 102 109 190  99 101  97 173 121\n",
      " 170 105 118 119 117 114  96  98 107 123 116 125 113 120 112 124 103]\n",
      "Уникальные значения - 0 не было повышения, 1 - было повышение: [0 1]\n"
     ]
    }
   ],
   "source": [
    "# Знакомлюсь со всеми уникальными значениями столбцов (просто так, для себя):\n",
    "print('Уникальные значения - уволился или нет: 0 остался, 1 - уволился:', df_HR_LDA['left'].unique())\n",
    "print('Уникальные значения - уровень удовлетворенности:',df_HR_LDA['satisfaction_level'].unique())\n",
    "print('Уникальные значения - последняя проверка (в годах):',df_HR_LDA['last_evaluation'].unique())\n",
    "print('Уникальные значения - количество проектов на человека:',df_HR_LDA['number_project'].unique())\n",
    "print('Уникальные значения - количество лет в компании:',df_HR_LDA['time_spend_company'].unique()) \n",
    "print('Уникальные значения - 0 не было инцидентов на работе, 1 - были инциденты на работе:',df_HR_LDA['Work_accident'].unique())\n",
    "print('Уникальные значения - количество рабочих часов в месяц:',df_HR_LDA['average_montly_hours'].unique())\n",
    "print('Уникальные значения - 0 не было повышения, 1 - было повышение:',df_HR_LDA['promotion_last_5years'].unique())"
   ]
  },
  {
   "cell_type": "markdown",
   "id": "5594b5fc",
   "metadata": {},
   "source": [
    "### Строим точечные графики на все, что сможем построить"
   ]
  },
  {
   "cell_type": "code",
   "execution_count": 284,
   "id": "93e42626",
   "metadata": {},
   "outputs": [
    {
     "data": {
      "text/plain": [
       "<AxesSubplot:xlabel='satisfaction_level', ylabel='left'>"
      ]
     },
     "execution_count": 284,
     "metadata": {},
     "output_type": "execute_result"
    },
    {
     "data": {
      "image/png": "[encoded data removed]",
      "text/plain": [
       "<Figure size 432x288 with 1 Axes>"
      ]
     },
     "metadata": {
      "needs_background": "light"
     },
     "output_type": "display_data"
    }
   ],
   "source": [
    "# Отвечаем на вопрос: есть ли связь между увольнением left и удовлетворенностью satisfaction_level?\n",
    "df_HR_LDA.plot(kind='scatter', x='satisfaction_level', y='left')\n",
    "# Построим точечный график\n",
    "# ВЫВОД-ПРЕДПОЛОЖЕНИЕ: ТОТ, КТО НЕ УВОЛЬНЯЛСЯ БЫЛ В СРЕДНЕМ ЧУТЬ-ЧУТЬ БОЛЕЕ УДОВЛЕТВОРЕННЫМ, ЧЕМ ТОТ, КТО УВОЛЬНЯЛСЯ, но не критично"
   ]
  },
  {
   "cell_type": "code",
   "execution_count": 295,
   "id": "3f617657",
   "metadata": {},
   "outputs": [
    {
     "data": {
      "text/html": [
       "<div>\n",
       "<style scoped>\n",
       "    .dataframe tbody tr th:only-of-type {\n",
       "        vertical-align: middle;\n",
       "    }\n",
       "\n",
       "    .dataframe tbody tr th {\n",
       "        vertical-align: top;\n",
       "    }\n",
       "\n",
       "    .dataframe thead th {\n",
       "        text-align: right;\n",
       "    }\n",
       "</style>\n",
       "<table border=\"1\" class=\"dataframe\">\n",
       "  <thead>\n",
       "    <tr style=\"text-align: right;\">\n",
       "      <th></th>\n",
       "      <th>satisfaction_level</th>\n",
       "      <th>left</th>\n",
       "    </tr>\n",
       "  </thead>\n",
       "  <tbody>\n",
       "    <tr>\n",
       "      <th>satisfaction_level</th>\n",
       "      <td>1.000000</td>\n",
       "      <td>-0.365842</td>\n",
       "    </tr>\n",
       "    <tr>\n",
       "      <th>left</th>\n",
       "      <td>-0.365842</td>\n",
       "      <td>1.000000</td>\n",
       "    </tr>\n",
       "  </tbody>\n",
       "</table>\n",
       "</div>"
      ],
      "text/plain": [
       "                    satisfaction_level      left\n",
       "satisfaction_level            1.000000 -0.365842\n",
       "left                         -0.365842  1.000000"
      ]
     },
     "execution_count": 295,
     "metadata": {},
     "output_type": "execute_result"
    }
   ],
   "source": [
    "# Определим, влияет ли один параметр на другой\n",
    "df_HR_LDA[['satisfaction_level', 'left']].corr(method='spearman') # коэффициент Спирмена\n",
    "# Вывод - есть ниже среднего корреляция по Спирмену"
   ]
  },
  {
   "cell_type": "code",
   "execution_count": 285,
   "id": "b7f3f433",
   "metadata": {},
   "outputs": [
    {
     "data": {
      "text/plain": [
       "<AxesSubplot:xlabel='last_evaluation', ylabel='left'>"
      ]
     },
     "execution_count": 285,
     "metadata": {},
     "output_type": "execute_result"
    },
    {
     "data": {
      "image/png": "[encoded data removed]",
      "text/plain": [
       "<Figure size 432x288 with 1 Axes>"
      ]
     },
     "metadata": {
      "needs_background": "light"
     },
     "output_type": "display_data"
    }
   ],
   "source": [
    "# Отвечаем на вопрос: есть ли связь между увольнением left и эвалюацией last_evaluation?\n",
    "df_HR_LDA.plot(kind='scatter', x='last_evaluation', y='left')\n",
    "# Построим точечный график\n",
    "# ВЫВОД-ПРЕДПОЛОЖЕНИЕ: ТЕ, КТО УХОДИЛ НЕМНОГО ДОЛЬШЕ ЖДАЛИ ОЦЕНКИ (ЭВАЛЮАЦИИ), ЧЕМ ТЕ, ЧТО ОСТАЛИСЬ"
   ]
  },
  {
   "cell_type": "code",
   "execution_count": 287,
   "id": "0616ecb0",
   "metadata": {},
   "outputs": [
    {
     "data": {
      "text/plain": [
       "<AxesSubplot:xlabel='number_project', ylabel='left'>"
      ]
     },
     "execution_count": 287,
     "metadata": {},
     "output_type": "execute_result"
    },
    {
     "data": {
      "image/png": "[encoded data removed]",
      "text/plain": [
       "<Figure size 432x288 with 1 Axes>"
      ]
     },
     "metadata": {
      "needs_background": "light"
     },
     "output_type": "display_data"
    }
   ],
   "source": [
    "# Отвечаем на вопрос: есть ли связь между увольнением left и количеством проектов number_project?\n",
    "df_HR_LDA.plot(kind='scatter', x='number_project', y='left')\n",
    "# Построим точечный график\n",
    "# ВЫВОД-ПРЕДПОЛОЖЕНИЕ: ТОТ, КТО УХОДИЛ ИМЕЛ ЧУТЬ БОЛЬШЕ ПРОЕКТОВ, ЧЕМ ТОТ, КТО ОСТАЛСЯ (ЭТОТ ЖЕ ВЫВОД-ПРЕДПОЛОЖЕНИЕ МЫ СДЕЛАЛИ РАНЕЕ\n",
    "# НА ОСНОВЕ СРЕДНЕГО КОЛИЧЕСТВА ПРОЕКТОВ НА 1 УВОЛИВШЕГОСЯ СОТРУДНИКА)"
   ]
  },
  {
   "cell_type": "code",
   "execution_count": 288,
   "id": "7b710b05",
   "metadata": {},
   "outputs": [
    {
     "data": {
      "text/plain": [
       "<AxesSubplot:xlabel='time_spend_company', ylabel='left'>"
      ]
     },
     "execution_count": 288,
     "metadata": {},
     "output_type": "execute_result"
    },
    {
     "data": {
      "image/png": "[encoded data removed]",
      "text/plain": [
       "<Figure size 432x288 with 1 Axes>"
      ]
     },
     "metadata": {
      "needs_background": "light"
     },
     "output_type": "display_data"
    }
   ],
   "source": [
    "# Отвечаем на вопрос: есть ли связь между увольнением left и стажем в компании time_spend_company?\n",
    "df_HR_LDA.plot(kind='scatter', x='time_spend_company', y='left')\n",
    "# Построим точечный график\n",
    "# ВЫВОД-ПРЕДПОЛОЖЕНИЕ: ТОТ, КТО УХОДИЛ ИМЕЛ МЕНЬШИЙ ОПЫТ РАБОТЫ В КОМПАНИИ, ЧЕМ ТОТ, КТО ПРОДОЛЖАЛ РАБОТАТЬ)"
   ]
  },
  {
   "cell_type": "code",
   "execution_count": 299,
   "id": "5a146883",
   "metadata": {},
   "outputs": [
    {
     "data": {
      "text/html": [
       "<div>\n",
       "<style scoped>\n",
       "    .dataframe tbody tr th:only-of-type {\n",
       "        vertical-align: middle;\n",
       "    }\n",
       "\n",
       "    .dataframe tbody tr th {\n",
       "        vertical-align: top;\n",
       "    }\n",
       "\n",
       "    .dataframe thead th {\n",
       "        text-align: right;\n",
       "    }\n",
       "</style>\n",
       "<table border=\"1\" class=\"dataframe\">\n",
       "  <thead>\n",
       "    <tr style=\"text-align: right;\">\n",
       "      <th></th>\n",
       "      <th>time_spend_company</th>\n",
       "      <th>left</th>\n",
       "    </tr>\n",
       "  </thead>\n",
       "  <tbody>\n",
       "    <tr>\n",
       "      <th>time_spend_company</th>\n",
       "      <td>1.000000</td>\n",
       "      <td>0.268876</td>\n",
       "    </tr>\n",
       "    <tr>\n",
       "      <th>left</th>\n",
       "      <td>0.268876</td>\n",
       "      <td>1.000000</td>\n",
       "    </tr>\n",
       "  </tbody>\n",
       "</table>\n",
       "</div>"
      ],
      "text/plain": [
       "                    time_spend_company      left\n",
       "time_spend_company            1.000000  0.268876\n",
       "left                          0.268876  1.000000"
      ]
     },
     "execution_count": 299,
     "metadata": {},
     "output_type": "execute_result"
    }
   ],
   "source": [
    "# Определим, влияет ли один параметр на другой\n",
    "df_HR_LDA[['time_spend_company', 'left']].corr(method='spearman') # коэффициент Спирмена\n",
    "# Вывод - есть совсем небольшая корреляция по Спирмену"
   ]
  },
  {
   "cell_type": "code",
   "execution_count": 289,
   "id": "e89dfdd4",
   "metadata": {},
   "outputs": [
    {
     "data": {
      "text/plain": [
       "<AxesSubplot:xlabel='Work_accident', ylabel='left'>"
      ]
     },
     "execution_count": 289,
     "metadata": {},
     "output_type": "execute_result"
    },
    {
     "data": {
      "image/png": "[encoded data removed]",
      "text/plain": [
       "<Figure size 432x288 with 1 Axes>"
      ]
     },
     "metadata": {
      "needs_background": "light"
     },
     "output_type": "display_data"
    }
   ],
   "source": [
    "# Отвечаем на вопрос: есть ли связь между увольнением left и наличием инцидентов в компании Work_accident?\n",
    "df_HR_LDA.plot(kind='scatter', x='Work_accident', y='left')\n",
    "# Построим точечный график\n",
    "# ВЫВОД-ПРЕДПОЛОЖЕНИЕ: НЕВОЗМОЖНО ТОЧНО ОТВЕТИТЬ НА ЗАДАННЫЙ ВОПРОС ТОЛЬКО С ПОМОЩЬЮ ОДНОЙ ВИЗУАЛИЗАЦИИ."
   ]
  },
  {
   "cell_type": "code",
   "execution_count": 290,
   "id": "aef7945a",
   "metadata": {},
   "outputs": [
    {
     "data": {
      "text/plain": [
       "<AxesSubplot:xlabel='average_montly_hours', ylabel='left'>"
      ]
     },
     "execution_count": 290,
     "metadata": {},
     "output_type": "execute_result"
    },
    {
     "data": {
      "image/png": "[encoded data removed]",
      "text/plain": [
       "<Figure size 432x288 with 1 Axes>"
      ]
     },
     "metadata": {
      "needs_background": "light"
     },
     "output_type": "display_data"
    }
   ],
   "source": [
    "# Отвечаем на вопрос: есть ли связь между увольнением left и количеством часов работы в месяц average_montly_hours?\n",
    "df_HR_LDA.plot(kind='scatter', x='average_montly_hours', y='left')\n",
    "# Построим точечный график\n",
    "# ВЫВОД-ПРЕДПОЛОЖЕНИЕ: ОЧЕВИДНО, ЧТО ТЕ, КТО УВОЛЬНЯЛСЯ РАБОТАЛ БОЛЬШЕ И ПРАКТИЧЕСКИ НЕ ИМЕЛ НЕБОЛЬШОЙ ЗАНЯТОСТИ"
   ]
  },
  {
   "cell_type": "code",
   "execution_count": 291,
   "id": "31641721",
   "metadata": {},
   "outputs": [
    {
     "data": {
      "text/plain": [
       "<AxesSubplot:xlabel='promotion_last_5years', ylabel='left'>"
      ]
     },
     "execution_count": 291,
     "metadata": {},
     "output_type": "execute_result"
    },
    {
     "data": {
      "image/png": "[encoded data removed]",
      "text/plain": [
       "<Figure size 432x288 with 1 Axes>"
      ]
     },
     "metadata": {
      "needs_background": "light"
     },
     "output_type": "display_data"
    }
   ],
   "source": [
    "# Отвечаем на вопрос: есть ли связь между увольнением left и продвижением/отсутствием продвижения по службе promotion_last_5years?\n",
    "df_HR_LDA.plot(kind='scatter', x='promotion_last_5years', y='left')\n",
    "# Построим точечный график\n",
    "# ВЫВОД-ПРЕДПОЛОЖЕНИЕ: НЕВОЗМОЖНО ТОЧНО ОТВЕТИТЬ НА ЗАДАННЫЙ ВОПРОС ТОЛЬКО С ПОМОЩЬЮ ОДНОЙ ВИЗУАЛИЗАЦИИ."
   ]
  },
  {
   "cell_type": "markdown",
   "id": "6b0831ef",
   "metadata": {},
   "source": [
    "### ИТАК, МЫ ОПРЕДЕЛИЛИ НАИБОЛЕЕ ВЛИЯТЕЛЬНУЮ  МЕТРИКУ НА РЕШЕНИЕ УЙТИ: -->\n",
    "### 1) ЭТО общая удовлетворенность (Спирмен 0,36)\n",
    "\n",
    "### 2) ЭТО стаж в компании (чем меньше он был, тем легче сотрудники принимали решение уходить) - (нужно отметить что это вовсе не причинно следственная связь!!!) (Спирмен 0.26)\n",
    "\n",
    "### Остальные МЕТРИКИ менее важные:\n",
    "### 3) количество часов работы \n",
    "### 4) количество проектов (у тех, кто уволился их было в среднем не на много больше)\n",
    "### 5) время ожидания эвалюации(оценки) - те кто увольнялся ждал в среднем немного дольше (предположение)"
   ]
  },
  {
   "cell_type": "code",
   "execution_count": null,
   "id": "0d6b0621",
   "metadata": {},
   "outputs": [],
   "source": [
    "# Разделяем данные на тестовую и обучающую выборки\n",
    "# Проведем тест на общую удовлетворенность и желание покинуть компанию\n"
   ]
  },
  {
   "cell_type": "code",
   "execution_count": 352,
   "id": "61e49c6a",
   "metadata": {},
   "outputs": [],
   "source": [
    "# Строим модель LDA, предсказывающую уволился ли сотрудник на основе фактора удовлетворенности\n",
    "# Строим модель линейной регрессии\n",
    "from sklearn.linear_model import LinearRegression\n",
    "from sklearn.model_selection import train_test_split\n",
    "\n",
    "X = df_HR_LDA[['satisfaction_level']]\n",
    "y = df_HR_LDA['left']\n"
   ]
  },
  {
   "cell_type": "code",
   "execution_count": 360,
   "id": "d7afe524",
   "metadata": {},
   "outputs": [],
   "source": [
    "X_train, X_test, y_train, y_test = train_test_split(X, y, test_size=0.25, random_state=42)"
   ]
  },
  {
   "cell_type": "code",
   "execution_count": 361,
   "id": "41dec283",
   "metadata": {},
   "outputs": [
    {
     "data": {
      "text/plain": [
       "LinearRegression()"
      ]
     },
     "execution_count": 361,
     "metadata": {},
     "output_type": "execute_result"
    }
   ],
   "source": [
    "# Сделаем так, чтобы метод обучился на наших данных и подобрал оптимальные коэффициенты\n",
    "model = LinearRegression()\n",
    "model.fit(X_train, y_train) "
   ]
  },
  {
   "cell_type": "code",
   "execution_count": 362,
   "id": "60a2824b",
   "metadata": {},
   "outputs": [
    {
     "name": "stdout",
     "output_type": "stream",
     "text": [
      "Коэффициент при Х:  [-0.67683508]\n",
      "Коэффициент B:  0.6528892874105267\n"
     ]
    }
   ],
   "source": [
    "print('Коэффициент при Х: ', model.coef_)\n",
    "print('Коэффициент B: ', model.intercept_)"
   ]
  },
  {
   "cell_type": "code",
   "execution_count": 363,
   "id": "4b4a0dfa",
   "metadata": {},
   "outputs": [
    {
     "name": "stdout",
     "output_type": "stream",
     "text": [
      "Коэффициент детерминации:  0.13457110694218488\n"
     ]
    }
   ],
   "source": [
    "# Рассчитываем коэффициент детерминации\n",
    "print('Коэффициент детерминации: ', model.score(X_test, y_test))"
   ]
  },
  {
   "cell_type": "markdown",
   "id": "487de02d",
   "metadata": {},
   "source": [
    "### Коффициент Детерминации показывает, что сила связи слабая, но все же есть (0,134)"
   ]
  },
  {
   "cell_type": "code",
   "execution_count": 365,
   "id": "ba6ddd3b",
   "metadata": {},
   "outputs": [
    {
     "data": {
      "text/plain": [
       "array([0.21294648, 0.05727441, 0.18587308, ..., 0.19940978, 0.50398557,\n",
       "       0.40922866])"
      ]
     },
     "execution_count": 365,
     "metadata": {},
     "output_type": "execute_result"
    }
   ],
   "source": [
    "y_pred = model.predict(X_test)\n",
    "y_pred"
   ]
  },
  {
   "cell_type": "code",
   "execution_count": 366,
   "id": "f2f22aa5",
   "metadata": {},
   "outputs": [
    {
     "data": {
      "text/plain": [
       "[<matplotlib.lines.Line2D at 0x244006cca30>]"
      ]
     },
     "execution_count": 366,
     "metadata": {},
     "output_type": "execute_result"
    },
    {
     "data": {
      "image/png": "[encoded data removed]",
      "text/plain": [
       "<Figure size 432x288 with 1 Axes>"
      ]
     },
     "metadata": {
      "needs_background": "light"
     },
     "output_type": "display_data"
    }
   ],
   "source": [
    "# Оцениваем качество модели на тестовой выборке\n",
    "# Выводим график остатков\n",
    "plt.scatter(X_test, y_test)\n",
    "plt.plot(X_test, y_pred, c='r')"
   ]
  },
  {
   "cell_type": "markdown",
   "id": "f23d6f18",
   "metadata": {},
   "source": [
    "### График остатков показывает, что модель была подобрана правильно\n",
    "### Данных достаточно, для того, чтобы сделать предположение, что низкая удовлетворенность сотрудников компании приводила к большему числу увольнений, нежели этот же показатель на более высоких отметках.\n"
   ]
  },
  {
   "cell_type": "markdown",
   "id": "6802f89b",
   "metadata": {},
   "source": [
    "# Я решила разделить данные на 3 группы и сделать соответствующее разделение по зарплатам (low, medium и high) и проверить LDA модель на этих 3-х выборках:"
   ]
  },
  {
   "cell_type": "code",
   "execution_count": 367,
   "id": "64730bb2",
   "metadata": {},
   "outputs": [
    {
     "data": {
      "text/html": [
       "<div>\n",
       "<style scoped>\n",
       "    .dataframe tbody tr th:only-of-type {\n",
       "        vertical-align: middle;\n",
       "    }\n",
       "\n",
       "    .dataframe tbody tr th {\n",
       "        vertical-align: top;\n",
       "    }\n",
       "\n",
       "    .dataframe thead th {\n",
       "        text-align: right;\n",
       "    }\n",
       "</style>\n",
       "<table border=\"1\" class=\"dataframe\">\n",
       "  <thead>\n",
       "    <tr style=\"text-align: right;\">\n",
       "      <th></th>\n",
       "      <th>left</th>\n",
       "      <th>satisfaction_level</th>\n",
       "      <th>salary</th>\n",
       "    </tr>\n",
       "  </thead>\n",
       "  <tbody>\n",
       "    <tr>\n",
       "      <th>0</th>\n",
       "      <td>1</td>\n",
       "      <td>0.38</td>\n",
       "      <td>low</td>\n",
       "    </tr>\n",
       "    <tr>\n",
       "      <th>1</th>\n",
       "      <td>1</td>\n",
       "      <td>0.80</td>\n",
       "      <td>medium</td>\n",
       "    </tr>\n",
       "    <tr>\n",
       "      <th>2</th>\n",
       "      <td>1</td>\n",
       "      <td>0.11</td>\n",
       "      <td>medium</td>\n",
       "    </tr>\n",
       "    <tr>\n",
       "      <th>3</th>\n",
       "      <td>1</td>\n",
       "      <td>0.72</td>\n",
       "      <td>low</td>\n",
       "    </tr>\n",
       "    <tr>\n",
       "      <th>4</th>\n",
       "      <td>1</td>\n",
       "      <td>0.37</td>\n",
       "      <td>low</td>\n",
       "    </tr>\n",
       "  </tbody>\n",
       "</table>\n",
       "</div>"
      ],
      "text/plain": [
       "   left  satisfaction_level  salary\n",
       "0     1                0.38     low\n",
       "1     1                0.80  medium\n",
       "2     1                0.11  medium\n",
       "3     1                0.72     low\n",
       "4     1                0.37     low"
      ]
     },
     "execution_count": 367,
     "metadata": {},
     "output_type": "execute_result"
    }
   ],
   "source": [
    "\n",
    "df_HR_LDA_salary = df_HR.filter(items=['left','satisfaction_level','salary'])\n",
    "df_HR_LDA_salary.head()"
   ]
  },
  {
   "cell_type": "code",
   "execution_count": 368,
   "id": "f2c79a2f",
   "metadata": {},
   "outputs": [
    {
     "data": {
      "text/html": [
       "<div>\n",
       "<style scoped>\n",
       "    .dataframe tbody tr th:only-of-type {\n",
       "        vertical-align: middle;\n",
       "    }\n",
       "\n",
       "    .dataframe tbody tr th {\n",
       "        vertical-align: top;\n",
       "    }\n",
       "\n",
       "    .dataframe thead th {\n",
       "        text-align: right;\n",
       "    }\n",
       "</style>\n",
       "<table border=\"1\" class=\"dataframe\">\n",
       "  <thead>\n",
       "    <tr style=\"text-align: right;\">\n",
       "      <th></th>\n",
       "      <th>left</th>\n",
       "      <th>satisfaction_level</th>\n",
       "      <th>salary</th>\n",
       "    </tr>\n",
       "  </thead>\n",
       "  <tbody>\n",
       "    <tr>\n",
       "      <th>0</th>\n",
       "      <td>1</td>\n",
       "      <td>0.38</td>\n",
       "      <td>low</td>\n",
       "    </tr>\n",
       "    <tr>\n",
       "      <th>3</th>\n",
       "      <td>1</td>\n",
       "      <td>0.72</td>\n",
       "      <td>low</td>\n",
       "    </tr>\n",
       "    <tr>\n",
       "      <th>4</th>\n",
       "      <td>1</td>\n",
       "      <td>0.37</td>\n",
       "      <td>low</td>\n",
       "    </tr>\n",
       "    <tr>\n",
       "      <th>5</th>\n",
       "      <td>1</td>\n",
       "      <td>0.41</td>\n",
       "      <td>low</td>\n",
       "    </tr>\n",
       "    <tr>\n",
       "      <th>6</th>\n",
       "      <td>1</td>\n",
       "      <td>0.10</td>\n",
       "      <td>low</td>\n",
       "    </tr>\n",
       "    <tr>\n",
       "      <th>7</th>\n",
       "      <td>1</td>\n",
       "      <td>0.92</td>\n",
       "      <td>low</td>\n",
       "    </tr>\n",
       "    <tr>\n",
       "      <th>8</th>\n",
       "      <td>1</td>\n",
       "      <td>0.89</td>\n",
       "      <td>low</td>\n",
       "    </tr>\n",
       "    <tr>\n",
       "      <th>9</th>\n",
       "      <td>1</td>\n",
       "      <td>0.42</td>\n",
       "      <td>low</td>\n",
       "    </tr>\n",
       "    <tr>\n",
       "      <th>10</th>\n",
       "      <td>1</td>\n",
       "      <td>0.45</td>\n",
       "      <td>low</td>\n",
       "    </tr>\n",
       "    <tr>\n",
       "      <th>11</th>\n",
       "      <td>1</td>\n",
       "      <td>0.11</td>\n",
       "      <td>low</td>\n",
       "    </tr>\n",
       "  </tbody>\n",
       "</table>\n",
       "</div>"
      ],
      "text/plain": [
       "    left  satisfaction_level salary\n",
       "0      1                0.38    low\n",
       "3      1                0.72    low\n",
       "4      1                0.37    low\n",
       "5      1                0.41    low\n",
       "6      1                0.10    low\n",
       "7      1                0.92    low\n",
       "8      1                0.89    low\n",
       "9      1                0.42    low\n",
       "10     1                0.45    low\n",
       "11     1                0.11    low"
      ]
     },
     "execution_count": 368,
     "metadata": {},
     "output_type": "execute_result"
    }
   ],
   "source": [
    "# Разделим данные на 3 группы - low, middle, high\n",
    "# Начнем с low\n",
    "df_HR_LDA_salary_low = df_HR_LDA_salary[df_HR_LDA_salary['salary']=='low']\n",
    "df_HR_LDA_salary_low.head(10)"
   ]
  },
  {
   "cell_type": "code",
   "execution_count": 370,
   "id": "6fa7c8b0",
   "metadata": {},
   "outputs": [],
   "source": [
    "# Строим модель LDA_low, предсказывающую уволился ли сотрудник на основе фактора удовлетворенности и низкой зарплаты\n",
    "# Строим модель линейной регрессии\n",
    "from sklearn.linear_model import LinearRegression\n",
    "from sklearn.model_selection import train_test_split\n",
    "\n",
    "X_low = df_HR_LDA_salary[['satisfaction_level']]\n",
    "y_low = df_HR_LDA_salary['left']"
   ]
  },
  {
   "cell_type": "code",
   "execution_count": 385,
   "id": "dc657416",
   "metadata": {},
   "outputs": [],
   "source": [
    "X_train_low, X_test_low, y_train_low, y_test_low = train_test_split(X_low, y_low, test_size=0.25, random_state=43)"
   ]
  },
  {
   "cell_type": "code",
   "execution_count": 397,
   "id": "38091546",
   "metadata": {},
   "outputs": [
    {
     "data": {
      "text/plain": [
       "LinearRegression()"
      ]
     },
     "execution_count": 397,
     "metadata": {},
     "output_type": "execute_result"
    }
   ],
   "source": [
    "# Сделаем так, чтобы метод обучился на наших данных и подобрал оптимальные коэффициенты\n",
    "model_low = LinearRegression()\n",
    "model_low.fit(X_train_low, y_train_low) "
   ]
  },
  {
   "cell_type": "code",
   "execution_count": 398,
   "id": "d6d65d10",
   "metadata": {},
   "outputs": [
    {
     "name": "stdout",
     "output_type": "stream",
     "text": [
      "Коэффициент при Х:  [-0.66705852]\n",
      "Коэффициент B:  0.6459223621270739\n"
     ]
    }
   ],
   "source": [
    "print('Коэффициент при Х: ', model_low.coef_)\n",
    "print('Коэффициент B: ', model_low.intercept_)"
   ]
  },
  {
   "cell_type": "code",
   "execution_count": 399,
   "id": "1b151b47",
   "metadata": {},
   "outputs": [
    {
     "name": "stdout",
     "output_type": "stream",
     "text": [
      "Коэффициент детерминации:  0.14792093368264947\n"
     ]
    }
   ],
   "source": [
    "# Рассчитываем коэффициент детерминации\n",
    "print('Коэффициент детерминации: ', model_low.score(X_test_low, y_test_low))"
   ]
  },
  {
   "cell_type": "markdown",
   "id": "4bbfc03a",
   "metadata": {},
   "source": [
    "### Коффициент Детерминации также как и в общем примере показывает, что сила связи слабая, но все же она чуть выше (0,147) при маленькой зарплате (low) чем при общей выборке."
   ]
  },
  {
   "cell_type": "code",
   "execution_count": 400,
   "id": "0157e746",
   "metadata": {},
   "outputs": [
    {
     "data": {
      "text/plain": [
       "array([0.29905193, 0.5858871 , 0.37242837, ..., 0.05891086, 0.15896964,\n",
       "       0.0855932 ])"
      ]
     },
     "execution_count": 400,
     "metadata": {},
     "output_type": "execute_result"
    }
   ],
   "source": [
    "y_pred_low = model_low.predict(X_test_low)\n",
    "y_pred_low"
   ]
  },
  {
   "cell_type": "code",
   "execution_count": 401,
   "id": "5f5193fa",
   "metadata": {},
   "outputs": [
    {
     "data": {
      "text/plain": [
       "[<matplotlib.lines.Line2D at 0x24403030dc0>]"
      ]
     },
     "execution_count": 401,
     "metadata": {},
     "output_type": "execute_result"
    },
    {
     "data": {
      "image/png": "[encoded data removed]",
      "text/plain": [
       "<Figure size 432x288 with 1 Axes>"
      ]
     },
     "metadata": {
      "needs_background": "light"
     },
     "output_type": "display_data"
    }
   ],
   "source": [
    "# Оцениваем качество модели на тестовой выборке\n",
    "# Выводим график остатков\n",
    "plt.scatter(X_test_low, y_test_low)\n",
    "plt.plot(X_test_low, y_pred_low, c='r')"
   ]
  },
  {
   "cell_type": "code",
   "execution_count": 391,
   "id": "e8fbe027",
   "metadata": {},
   "outputs": [
    {
     "data": {
      "text/html": [
       "<div>\n",
       "<style scoped>\n",
       "    .dataframe tbody tr th:only-of-type {\n",
       "        vertical-align: middle;\n",
       "    }\n",
       "\n",
       "    .dataframe tbody tr th {\n",
       "        vertical-align: top;\n",
       "    }\n",
       "\n",
       "    .dataframe thead th {\n",
       "        text-align: right;\n",
       "    }\n",
       "</style>\n",
       "<table border=\"1\" class=\"dataframe\">\n",
       "  <thead>\n",
       "    <tr style=\"text-align: right;\">\n",
       "      <th></th>\n",
       "      <th>left</th>\n",
       "      <th>satisfaction_level</th>\n",
       "      <th>salary</th>\n",
       "    </tr>\n",
       "  </thead>\n",
       "  <tbody>\n",
       "    <tr>\n",
       "      <th>1</th>\n",
       "      <td>1</td>\n",
       "      <td>0.80</td>\n",
       "      <td>medium</td>\n",
       "    </tr>\n",
       "    <tr>\n",
       "      <th>2</th>\n",
       "      <td>1</td>\n",
       "      <td>0.11</td>\n",
       "      <td>medium</td>\n",
       "    </tr>\n",
       "    <tr>\n",
       "      <th>60</th>\n",
       "      <td>1</td>\n",
       "      <td>0.85</td>\n",
       "      <td>medium</td>\n",
       "    </tr>\n",
       "    <tr>\n",
       "      <th>61</th>\n",
       "      <td>1</td>\n",
       "      <td>0.11</td>\n",
       "      <td>medium</td>\n",
       "    </tr>\n",
       "    <tr>\n",
       "      <th>62</th>\n",
       "      <td>1</td>\n",
       "      <td>0.10</td>\n",
       "      <td>medium</td>\n",
       "    </tr>\n",
       "    <tr>\n",
       "      <th>63</th>\n",
       "      <td>1</td>\n",
       "      <td>0.36</td>\n",
       "      <td>medium</td>\n",
       "    </tr>\n",
       "    <tr>\n",
       "      <th>64</th>\n",
       "      <td>1</td>\n",
       "      <td>0.11</td>\n",
       "      <td>medium</td>\n",
       "    </tr>\n",
       "    <tr>\n",
       "      <th>65</th>\n",
       "      <td>1</td>\n",
       "      <td>0.81</td>\n",
       "      <td>medium</td>\n",
       "    </tr>\n",
       "    <tr>\n",
       "      <th>66</th>\n",
       "      <td>1</td>\n",
       "      <td>0.43</td>\n",
       "      <td>medium</td>\n",
       "    </tr>\n",
       "    <tr>\n",
       "      <th>67</th>\n",
       "      <td>1</td>\n",
       "      <td>0.90</td>\n",
       "      <td>medium</td>\n",
       "    </tr>\n",
       "  </tbody>\n",
       "</table>\n",
       "</div>"
      ],
      "text/plain": [
       "    left  satisfaction_level  salary\n",
       "1      1                0.80  medium\n",
       "2      1                0.11  medium\n",
       "60     1                0.85  medium\n",
       "61     1                0.11  medium\n",
       "62     1                0.10  medium\n",
       "63     1                0.36  medium\n",
       "64     1                0.11  medium\n",
       "65     1                0.81  medium\n",
       "66     1                0.43  medium\n",
       "67     1                0.90  medium"
      ]
     },
     "execution_count": 391,
     "metadata": {},
     "output_type": "execute_result"
    }
   ],
   "source": [
    "# Продолжим с medium\n",
    "df_HR_LDA_salary_medium = df_HR_LDA_salary[df_HR_LDA_salary['salary']=='medium']\n",
    "df_HR_LDA_salary_medium.head(10)"
   ]
  },
  {
   "cell_type": "code",
   "execution_count": 406,
   "id": "6c5b72da",
   "metadata": {},
   "outputs": [],
   "source": [
    "# Строим модель LDA_medium, предсказывающую уволился ли сотрудник на основе фактора удовлетворенности и средней зарплаты\n",
    "# Строим модель линейной регрессии\n",
    "from sklearn.linear_model import LinearRegression\n",
    "from sklearn.model_selection import train_test_split\n",
    "\n",
    "X_medium = df_HR_LDA_salary[['satisfaction_level']]\n",
    "y_medium = df_HR_LDA_salary['left']"
   ]
  },
  {
   "cell_type": "code",
   "execution_count": 429,
   "id": "b63a7591",
   "metadata": {},
   "outputs": [],
   "source": [
    "X_train_medium, X_test_medium, y_train_medium, y_test_medium = train_test_split(X_medium, y_medium, test_size=0.25, random_state=44)"
   ]
  },
  {
   "cell_type": "code",
   "execution_count": 430,
   "id": "b24d1a70",
   "metadata": {},
   "outputs": [
    {
     "data": {
      "text/plain": [
       "LinearRegression()"
      ]
     },
     "execution_count": 430,
     "metadata": {},
     "output_type": "execute_result"
    }
   ],
   "source": [
    "# Сделаем так, чтобы метод обучился на наших данных и подобрал оптимальные коэффициенты\n",
    "model_medium = LinearRegression()\n",
    "model_medium.fit(X_train_medium, y_train_medium) "
   ]
  },
  {
   "cell_type": "code",
   "execution_count": 431,
   "id": "f415aaaa",
   "metadata": {},
   "outputs": [
    {
     "name": "stdout",
     "output_type": "stream",
     "text": [
      "Коэффициент при Х:  [-0.66901555]\n",
      "Коэффициент B:  0.6507104098855245\n"
     ]
    }
   ],
   "source": [
    "print('Коэффициент при Х: ', model_medium.coef_)\n",
    "print('Коэффициент B: ', model_medium.intercept_)"
   ]
  },
  {
   "cell_type": "code",
   "execution_count": 432,
   "id": "8940901a",
   "metadata": {},
   "outputs": [
    {
     "name": "stdout",
     "output_type": "stream",
     "text": [
      "Коэффициент детерминации:  0.14845628521250853\n"
     ]
    }
   ],
   "source": [
    "# Рассчитываем коэффициент детерминации\n",
    "print('Коэффициент детерминации: ', model_medium.score(X_test_medium, y_test_medium))"
   ]
  },
  {
   "cell_type": "markdown",
   "id": "57d95fb2",
   "metadata": {},
   "source": [
    "### Коффициент Детерминации также как и в общем примере показывает, что сила связи слабая, но все же она чуть выше (0,1484) чем при общей выборке и выборке по низкой зарплате (low)"
   ]
  },
  {
   "cell_type": "code",
   "execution_count": 411,
   "id": "2d5e7fd8",
   "metadata": {},
   "outputs": [
    {
     "data": {
      "text/plain": [
       "array([0.25599124, 0.3964845 , 0.36972388, ..., 0.40986481, 0.01514564,\n",
       "       0.20916015])"
      ]
     },
     "execution_count": 411,
     "metadata": {},
     "output_type": "execute_result"
    }
   ],
   "source": [
    "y_pred_medium = model_medium.predict(X_test_medium)\n",
    "y_pred_medium"
   ]
  },
  {
   "cell_type": "code",
   "execution_count": 412,
   "id": "8f971375",
   "metadata": {},
   "outputs": [
    {
     "data": {
      "text/plain": [
       "[<matplotlib.lines.Line2D at 0x244030964f0>]"
      ]
     },
     "execution_count": 412,
     "metadata": {},
     "output_type": "execute_result"
    },
    {
     "data": {
      "image/png": "[encoded data removed]",
      "text/plain": [
       "<Figure size 432x288 with 1 Axes>"
      ]
     },
     "metadata": {
      "needs_background": "light"
     },
     "output_type": "display_data"
    }
   ],
   "source": [
    "# Оцениваем качество модели на тестовой выборке\n",
    "# Выводим график остатков\n",
    "plt.scatter(X_test_medium, y_test_medium)\n",
    "plt.plot(X_test_medium, y_pred_medium, c='r')"
   ]
  },
  {
   "cell_type": "code",
   "execution_count": 434,
   "id": "8cbb8a10",
   "metadata": {},
   "outputs": [],
   "source": [
    "# Строим модель LDA_high, предсказывающую уволился ли сотрудник на основе фактора удовлетворенности и высокой зарплаты\n",
    "# Строим модель линейной регрессии\n",
    "from sklearn.linear_model import LinearRegression\n",
    "from sklearn.model_selection import train_test_split\n",
    "\n",
    "X_high = df_HR_LDA_salary[['satisfaction_level']]\n",
    "y_high = df_HR_LDA_salary['left']"
   ]
  },
  {
   "cell_type": "code",
   "execution_count": 435,
   "id": "4ecbe505",
   "metadata": {},
   "outputs": [],
   "source": [
    "X_train_high, X_test_high, y_train_high, y_test_high = train_test_split(X_high, y_high, test_size=0.25, random_state=45)"
   ]
  },
  {
   "cell_type": "code",
   "execution_count": 436,
   "id": "2b1dced7",
   "metadata": {},
   "outputs": [
    {
     "data": {
      "text/plain": [
       "LinearRegression()"
      ]
     },
     "execution_count": 436,
     "metadata": {},
     "output_type": "execute_result"
    }
   ],
   "source": [
    "# Сделаем так, чтобы метод обучился на наших данных и подобрал оптимальные коэффициенты\n",
    "model_high = LinearRegression()\n",
    "model_high.fit(X_train_high, y_train_high)"
   ]
  },
  {
   "cell_type": "code",
   "execution_count": 437,
   "id": "886ed086",
   "metadata": {},
   "outputs": [
    {
     "name": "stdout",
     "output_type": "stream",
     "text": [
      "Коэффициент при Х:  [-0.67011873]\n",
      "Коэффициент B:  0.6507469689619625\n"
     ]
    }
   ],
   "source": [
    "print('Коэффициент при Х: ', model_high.coef_)\n",
    "print('Коэффициент B: ', model_high.intercept_)"
   ]
  },
  {
   "cell_type": "code",
   "execution_count": 438,
   "id": "5ee4c743",
   "metadata": {},
   "outputs": [
    {
     "name": "stdout",
     "output_type": "stream",
     "text": [
      "Коэффициент детерминации:  0.1478492087906761\n"
     ]
    }
   ],
   "source": [
    "# Рассчитываем коэффициент детерминации\n",
    "print('Коэффициент детерминации: ', model_high.score(X_test_high, y_test_high))"
   ]
  },
  {
   "cell_type": "markdown",
   "id": "20f43544",
   "metadata": {},
   "source": [
    "### Коффициент Детерминации высокого уровня зарплаты high (0,1478) также как и в остальных примерах показывает, что сила связи слабая, но все же она чуть ниже чем по низкой зарплате (low), но выше чем при общей выборке"
   ]
  },
  {
   "cell_type": "code",
   "execution_count": 423,
   "id": "49044da6",
   "metadata": {},
   "outputs": [
    {
     "data": {
      "text/plain": [
       "array([0.30282233, 0.59049901, 0.37641404, ..., 0.06197673, 0.16232906,\n",
       "       0.08873735])"
      ]
     },
     "execution_count": 423,
     "metadata": {},
     "output_type": "execute_result"
    }
   ],
   "source": [
    "y_pred_high = model_medium.predict(X_test_high)\n",
    "y_pred_high"
   ]
  },
  {
   "cell_type": "code",
   "execution_count": 424,
   "id": "96f52ca2",
   "metadata": {},
   "outputs": [
    {
     "data": {
      "text/plain": [
       "[<matplotlib.lines.Line2D at 0x2440411f100>]"
      ]
     },
     "execution_count": 424,
     "metadata": {},
     "output_type": "execute_result"
    },
    {
     "data": {
      "image/png": "[encoded data removed]",
      "text/plain": [
       "<Figure size 432x288 with 1 Axes>"
      ]
     },
     "metadata": {
      "needs_background": "light"
     },
     "output_type": "display_data"
    }
   ],
   "source": [
    "# Оцениваем качество модели на тестовой выборке\n",
    "# Выводим график остатков\n",
    "plt.scatter(X_test_high, y_test_high)\n",
    "plt.plot(X_test_high, y_pred_high, c='r')"
   ]
  },
  {
   "cell_type": "markdown",
   "id": "076ed821",
   "metadata": {},
   "source": [
    "# Загрузить jupyter notebook с решение на github и прислать ссылку (5 баллов)"
   ]
  }
 ],
 "metadata": {
  "kernelspec": {
   "display_name": "Python 3",
   "language": "python",
   "name": "python3"
  },
  "language_info": {
   "codemirror_mode": {
    "name": "ipython",
    "version": 3
   },
   "file_extension": ".py",
   "mimetype": "text/x-python",
   "name": "python",
   "nbconvert_exporter": "python",
   "pygments_lexer": "ipython3",
   "version": "3.8.8"
  }
 },
 "nbformat": 4,
 "nbformat_minor": 5
}
