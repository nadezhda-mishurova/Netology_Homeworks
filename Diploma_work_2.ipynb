{
 "cells": [
  {
   "cell_type": "markdown",
   "id": "d1e2cc49",
   "metadata": {},
   "source": [
    "Задание\n",
    "\n",
    "Дан файл HR.csv с данными по опросу уровня удовлетворенности сотрудниками работой.Файл доступен тут -https://drive.google.com/file/d/1INgo03nal-vwFJe7Lec5vOUtOwfJdUr1/view?usp=sharingПризнаки:1.satisfaction_level\n",
    "\n",
    "1.Satisfaction_level- Уровень удовлетворенности работой \n",
    "\n",
    "2.Last_evaluation - Время с момента последней оценки в годах \n",
    "\n",
    "3.number_projects - Количество проектов, выполненных за время работы \n",
    "\n",
    "4.average_monthly_hours - Среднее количество часов на рабочем месте в месяц \n",
    "\n",
    "5.time_spend_company - Стаж работы в компании в годах \n",
    "\n",
    "6.work_accident - Происходили ли несчастные случаи на рабочем месте с сотрудником \n",
    "\n",
    "7.left - уволился ли сотрудник \n",
    "\n",
    "8.promotion_last_5years - повышался ли сотрудник за последние пять лет\n",
    "\n",
    "9.department - отдел в котором работает сотрудник \n",
    "\n",
    "10.salary - относительный уровень зарплаты\n"
   ]
  },
  {
   "cell_type": "markdown",
   "id": "a554992e",
   "metadata": {},
   "source": [
    "Требуется выполнить следующее задание:\n",
    "\n",
    "# Задание\n",
    "\n",
    "#1. Загрузите файл HR.csv в pandas dataframe (5)\n",
    "\n",
    "#2. Рассчитайте основные статистики для переменных(среднее,медиана,мода,мин/макс,сред.отклонение) (10)\n",
    "\n",
    "#3. Рассчитайте и визуализируйте корреляционную матрицу для количественных переменных.\n",
    "Определите две самые скоррелированные и две наименеескоррелированные переменные (10)\n",
    "\n",
    "#4. Рассчитайте сколько сотрудников работает в каждом департаменте (5)\n",
    "\n",
    "#5. Показать распределение сотрудников по зарплатам (5)\n",
    "\n",
    "#6. Показать распределение сотрудников по зарплатам в каждом департаменте по отдельности (5)\n",
    "\n",
    "#7. Проверить гипотезу, что сотрудники с высоким окладомпроводят на работе больше времени, чем сотрудники с низкимокладом (10)\n",
    "\n",
    "#8. Рассчитать следующие показатели среди уволившихся и неуволившихся сотрудников (по отдельности) (10):\n",
    "    ● Доля сотрудников с повышением за последние 5 лет\n",
    "    ● Средняя степень удовлетворенности\n",
    "    ● Среднее количество проектов\n",
    "    \n",
    "#9. Разделить данные на тестовую и обучающую выборкиПостроить модель LDA, предсказывающую уволился ли сотрудник на основе имеющихся факторов (кроме department и salary) Оценить качество модели на тестовой выборки (20)\n",
    "\n",
    "#10. Загрузить jupyter notebook с решение на github и прислать ссылку (5)\n",
    "\n",
    "\n",
    "Итого - максимум #85 баллов\n",
    "\n",
    "Для зачета необходимо набрать минимум #55"
   ]
  },
  {
   "cell_type": "code",
   "execution_count": 473,
   "id": "b43c66b4",
   "metadata": {},
   "outputs": [],
   "source": [
    "import pandas as pd\n",
    "import numpy as np\n",
    "import matplotlib as mpl\n",
    "import matplotlib.pyplot as plt\n",
    "import seaborn as sns"
   ]
  },
  {
   "cell_type": "markdown",
   "id": "97a24e43",
   "metadata": {},
   "source": [
    "# Загружаем файл HR.csv в pandas dataframe (5 баллов)"
   ]
  },
  {
   "cell_type": "code",
   "execution_count": 474,
   "id": "88f65127",
   "metadata": {},
   "outputs": [
    {
     "data": {
      "text/html": [
       "<div>\n",
       "<style scoped>\n",
       "    .dataframe tbody tr th:only-of-type {\n",
       "        vertical-align: middle;\n",
       "    }\n",
       "\n",
       "    .dataframe tbody tr th {\n",
       "        vertical-align: top;\n",
       "    }\n",
       "\n",
       "    .dataframe thead th {\n",
       "        text-align: right;\n",
       "    }\n",
       "</style>\n",
       "<table border=\"1\" class=\"dataframe\">\n",
       "  <thead>\n",
       "    <tr style=\"text-align: right;\">\n",
       "      <th></th>\n",
       "      <th>satisfaction_level</th>\n",
       "      <th>last_evaluation</th>\n",
       "      <th>number_project</th>\n",
       "      <th>average_montly_hours</th>\n",
       "      <th>time_spend_company</th>\n",
       "      <th>Work_accident</th>\n",
       "      <th>left</th>\n",
       "      <th>promotion_last_5years</th>\n",
       "      <th>department</th>\n",
       "      <th>salary</th>\n",
       "    </tr>\n",
       "  </thead>\n",
       "  <tbody>\n",
       "    <tr>\n",
       "      <th>0</th>\n",
       "      <td>0.38</td>\n",
       "      <td>0.53</td>\n",
       "      <td>2</td>\n",
       "      <td>157</td>\n",
       "      <td>3</td>\n",
       "      <td>0</td>\n",
       "      <td>1</td>\n",
       "      <td>0</td>\n",
       "      <td>sales</td>\n",
       "      <td>low</td>\n",
       "    </tr>\n",
       "    <tr>\n",
       "      <th>1</th>\n",
       "      <td>0.80</td>\n",
       "      <td>0.86</td>\n",
       "      <td>5</td>\n",
       "      <td>262</td>\n",
       "      <td>6</td>\n",
       "      <td>0</td>\n",
       "      <td>1</td>\n",
       "      <td>0</td>\n",
       "      <td>sales</td>\n",
       "      <td>medium</td>\n",
       "    </tr>\n",
       "    <tr>\n",
       "      <th>2</th>\n",
       "      <td>0.11</td>\n",
       "      <td>0.88</td>\n",
       "      <td>7</td>\n",
       "      <td>272</td>\n",
       "      <td>4</td>\n",
       "      <td>0</td>\n",
       "      <td>1</td>\n",
       "      <td>0</td>\n",
       "      <td>sales</td>\n",
       "      <td>medium</td>\n",
       "    </tr>\n",
       "    <tr>\n",
       "      <th>3</th>\n",
       "      <td>0.72</td>\n",
       "      <td>0.87</td>\n",
       "      <td>5</td>\n",
       "      <td>223</td>\n",
       "      <td>5</td>\n",
       "      <td>0</td>\n",
       "      <td>1</td>\n",
       "      <td>0</td>\n",
       "      <td>sales</td>\n",
       "      <td>low</td>\n",
       "    </tr>\n",
       "    <tr>\n",
       "      <th>4</th>\n",
       "      <td>0.37</td>\n",
       "      <td>0.52</td>\n",
       "      <td>2</td>\n",
       "      <td>159</td>\n",
       "      <td>3</td>\n",
       "      <td>0</td>\n",
       "      <td>1</td>\n",
       "      <td>0</td>\n",
       "      <td>sales</td>\n",
       "      <td>low</td>\n",
       "    </tr>\n",
       "  </tbody>\n",
       "</table>\n",
       "</div>"
      ],
      "text/plain": [
       "   satisfaction_level  last_evaluation  number_project  average_montly_hours  \\\n",
       "0                0.38             0.53               2                   157   \n",
       "1                0.80             0.86               5                   262   \n",
       "2                0.11             0.88               7                   272   \n",
       "3                0.72             0.87               5                   223   \n",
       "4                0.37             0.52               2                   159   \n",
       "\n",
       "   time_spend_company  Work_accident  left  promotion_last_5years department  \\\n",
       "0                   3              0     1                      0      sales   \n",
       "1                   6              0     1                      0      sales   \n",
       "2                   4              0     1                      0      sales   \n",
       "3                   5              0     1                      0      sales   \n",
       "4                   3              0     1                      0      sales   \n",
       "\n",
       "   salary  \n",
       "0     low  \n",
       "1  medium  \n",
       "2  medium  \n",
       "3     low  \n",
       "4     low  "
      ]
     },
     "execution_count": 474,
     "metadata": {},
     "output_type": "execute_result"
    }
   ],
   "source": [
    "# Загружаем файл HR.csv в pandas dataframe (5 баллов)\n",
    "df_HR = pd.read_csv('HR.csv', sep=',')\n",
    "df_HR.head()"
   ]
  },
  {
   "cell_type": "code",
   "execution_count": 475,
   "id": "eda755c9",
   "metadata": {},
   "outputs": [
    {
     "name": "stdout",
     "output_type": "stream",
     "text": [
      "<class 'pandas.core.frame.DataFrame'>\n",
      "RangeIndex: 14999 entries, 0 to 14998\n",
      "Data columns (total 10 columns):\n",
      " #   Column                 Non-Null Count  Dtype  \n",
      "---  ------                 --------------  -----  \n",
      " 0   satisfaction_level     14999 non-null  float64\n",
      " 1   last_evaluation        14999 non-null  float64\n",
      " 2   number_project         14999 non-null  int64  \n",
      " 3   average_montly_hours   14999 non-null  int64  \n",
      " 4   time_spend_company     14999 non-null  int64  \n",
      " 5   Work_accident          14999 non-null  int64  \n",
      " 6   left                   14999 non-null  int64  \n",
      " 7   promotion_last_5years  14999 non-null  int64  \n",
      " 8   department             14999 non-null  object \n",
      " 9   salary                 14999 non-null  object \n",
      "dtypes: float64(2), int64(6), object(2)\n",
      "memory usage: 1.1+ MB\n"
     ]
    }
   ],
   "source": [
    "# Сначала получим некоторую информацию о датафрейме HR благодаря методу info:\n",
    "df_HR.info()"
   ]
  },
  {
   "cell_type": "markdown",
   "id": "e3002fa9",
   "metadata": {},
   "source": [
    " # Рассчитываем основные статистики для переменных: (10 баллов)"
   ]
  },
  {
   "cell_type": "code",
   "execution_count": 476,
   "id": "78aa82d2",
   "metadata": {},
   "outputs": [],
   "source": [
    "# Рассчитываем основные статистики для переменных: (10 баллов)\n",
    "# После ознакомления с датафреймом, делаем выводы, \n",
    "# что основние статистики мы будем считать для всех метрик кроме:\n",
    "# 6.Work_accident, 7.Left, 8.Promotion_last_5years, 9.Department и 10.Salary\n"
   ]
  },
  {
   "cell_type": "code",
   "execution_count": 477,
   "id": "0e12e848",
   "metadata": {},
   "outputs": [],
   "source": [
    "# cреднее, медиана, мода,  мин/макс, сред.отклонение\n",
    "\n",
    "# 1.Satisfaction_level- Уровень удовлетворенности работой \n",
    "\n",
    "# 2.Last_evaluation - Время с момента последней оценки в годах \n",
    "\n",
    "# 3.Number_projects - Количество проектов, выполненных за время работы\n",
    "\n",
    "# 4.Average_monthly_hours - Среднее количество часов на рабочем месте в месяц \n",
    "\n",
    "# 5.Time_spend_company - Стаж работы в компании в годах \n"
   ]
  },
  {
   "cell_type": "markdown",
   "id": "028b29a0",
   "metadata": {},
   "source": [
    "### 1.Satisfaction_level - Уровень удовлетворенности работой "
   ]
  },
  {
   "cell_type": "code",
   "execution_count": 478,
   "id": "9bc83780",
   "metadata": {},
   "outputs": [
    {
     "name": "stdout",
     "output_type": "stream",
     "text": [
      "Максимальный уровень удовлетворенности: 1.0\n",
      "Минимальный уровень удовлетворенности: 0.09\n",
      "Размах в уровне удовлетворенности: 0.91\n",
      "Среднеарифметический уровень удовлетворенности: 0.6128335222348166\n",
      "Мода по уровню удовлетворенности: 0.1\n",
      "Медиана уровню удовлетворенности: 0.64\n",
      "СКО по уровню удовлетворенности: 0.2486306510611418\n",
      "Дисперсия по уровню удовлетворенности: 0.061817200647087255\n",
      "Первый и третий квартили о уровню удовлетворенности:\n",
      "0.25    0.44\n",
      "0.75    0.82\n",
      "Name: satisfaction_level, dtype: float64\n"
     ]
    }
   ],
   "source": [
    "print('Максимальный уровень удовлетворенности:', df_HR['satisfaction_level'].max())\n",
    "print('Минимальный уровень удовлетворенности:', df_HR['satisfaction_level'].min())\n",
    "satisfaction_range = df_HR['satisfaction_level'].max() - df_HR['satisfaction_level'].min()\n",
    "print('Размах в уровне удовлетворенности:', satisfaction_range)\n",
    "print('Среднеарифметический уровень удовлетворенности:', df_HR['satisfaction_level'].mean())\n",
    "print('Мода по уровню удовлетворенности:', df_HR['satisfaction_level'].mode()[0])\n",
    "print('Медиана уровню удовлетворенности:', df_HR['satisfaction_level'].median())\n",
    "print('СКО по уровню удовлетворенности:',  df_HR['satisfaction_level'].std())\n",
    "print('Дисперсия по уровню удовлетворенности:', df_HR['satisfaction_level'].var())\n",
    "\n",
    "print('Первый и третий квартили о уровню удовлетворенности:')\n",
    "print(df_HR['satisfaction_level'].quantile([0.25, 0.75]))"
   ]
  },
  {
   "cell_type": "markdown",
   "id": "140f7994",
   "metadata": {},
   "source": [
    "### 2.Last_evaluation - Время с момента последней оценки в годах "
   ]
  },
  {
   "cell_type": "code",
   "execution_count": 479,
   "id": "e97c9ba9",
   "metadata": {},
   "outputs": [
    {
     "name": "stdout",
     "output_type": "stream",
     "text": [
      "Максимальное время с момента последней оценки (в годах):  1.0\n",
      "Минимальное время с момента последней оценки (в годах): 0.36\n",
      "Размах во времени с момента последней оценки (в годах): 0.64\n",
      "Среднеарифметическое время с момента последней оценки (в годах): 0.7161017401159978\n",
      "Мода по времени с момента последней оценки (в годах): 0.55\n",
      "Медиана по времени с момента последней оценки (в годах): 0.72\n",
      "СКО по времени с момента последней оценки (в годах): 0.17116911062327592\n",
      "Дисперсия по времени с момента последней оценки (в годах): 0.02929886443156327\n",
      "Первый и третий квартили по времени с момента последней оценки (в годах):\n",
      "0.25    0.56\n",
      "0.75    0.87\n",
      "Name: last_evaluation, dtype: float64\n"
     ]
    }
   ],
   "source": [
    "print('Максимальное время с момента последней оценки (в годах): ', df_HR['last_evaluation'].max())\n",
    "print('Минимальное время с момента последней оценки (в годах):', df_HR['last_evaluation'].min())\n",
    "last_evaluation_range = df_HR['last_evaluation'].max() - df_HR['last_evaluation'].min()\n",
    "print('Размах во времени с момента последней оценки (в годах):', last_evaluation_range)\n",
    "print('Среднеарифметическое время с момента последней оценки (в годах):', df_HR['last_evaluation'].mean())\n",
    "print('Мода по времени с момента последней оценки (в годах):', df_HR['last_evaluation'].mode()[0])\n",
    "print('Медиана по времени с момента последней оценки (в годах):', df_HR['last_evaluation'].median())\n",
    "print('СКО по времени с момента последней оценки (в годах):',  df_HR['last_evaluation'].std())\n",
    "print('Дисперсия по времени с момента последней оценки (в годах):', df_HR['last_evaluation'].var())\n",
    "\n",
    "print('Первый и третий квартили по времени с момента последней оценки (в годах):')\n",
    "print(df_HR['last_evaluation'].quantile([0.25, 0.75]))"
   ]
  },
  {
   "cell_type": "markdown",
   "id": "f674ad3d",
   "metadata": {},
   "source": [
    "### 3.Number_projects - Количество проектов, выполненных за время работы"
   ]
  },
  {
   "cell_type": "code",
   "execution_count": 480,
   "id": "99f0cfc3",
   "metadata": {},
   "outputs": [
    {
     "name": "stdout",
     "output_type": "stream",
     "text": [
      "Максимальное количество проектов, выполненных за время работы:  7\n",
      "Минимальное количество проектов, выполненных за время работы: 2\n",
      "Размах в количестве проектов, выполненных за время работы: 5\n",
      "Среднеарифметическое количество проектов, выполненных за время работы: 3.80305353690246\n",
      "Мода по количеству проектов, выполненных за время работы: 4\n",
      "Медиана по количеству проектов, выполненных за время работы: 4.0\n",
      "СКО по количеству проектов, выполненных за время работы: 1.2325923553183857\n",
      "Дисперсия по количеству проектов, выполненных за время работы: 1.5192839143893255\n",
      "Первый и третий квартили по количеству проектов, выполненных за время работы:\n",
      "0.25    3.0\n",
      "0.75    5.0\n",
      "Name: number_project, dtype: float64\n"
     ]
    }
   ],
   "source": [
    "print('Максимальное количество проектов, выполненных за время работы: ', df_HR['number_project'].max())\n",
    "print('Минимальное количество проектов, выполненных за время работы:', df_HR['number_project'].min())\n",
    "number_project_range = df_HR['number_project'].max() - df_HR['number_project'].min()\n",
    "print('Размах в количестве проектов, выполненных за время работы:', number_project_range)\n",
    "print('Среднеарифметическое количество проектов, выполненных за время работы:', df_HR['number_project'].mean())\n",
    "print('Мода по количеству проектов, выполненных за время работы:', df_HR['number_project'].mode()[0])\n",
    "print('Медиана по количеству проектов, выполненных за время работы:', df_HR['number_project'].median())\n",
    "print('СКО по количеству проектов, выполненных за время работы:',  df_HR['number_project'].std())\n",
    "print('Дисперсия по количеству проектов, выполненных за время работы:', df_HR['number_project'].var())\n",
    "\n",
    "print('Первый и третий квартили по количеству проектов, выполненных за время работы:')\n",
    "print(df_HR['number_project'].quantile([0.25, 0.75]))"
   ]
  },
  {
   "cell_type": "markdown",
   "id": "d37f2ed8",
   "metadata": {},
   "source": [
    "### 4.Average_monthly_hours - Среднее количество часов на рабочем месте в месяц"
   ]
  },
  {
   "cell_type": "code",
   "execution_count": 481,
   "id": "4b059096",
   "metadata": {},
   "outputs": [
    {
     "name": "stdout",
     "output_type": "stream",
     "text": [
      "Максимальное количество часов на рабочем месте в месяц (по среднему показателю на человека): 310\n",
      "Минимальное количество часов на рабочем месте в месяц (по среднему показателю на человека): 96\n",
      "Размах в количестве часов на рабочем месте в месяц (по среднему показателю на человека): 214\n",
      "Среднеарифметическое количество часов на рабочем месте в месяц (по среднему показателю на человека): 201.0503366891126\n",
      "Мода по количеству часов на рабочем месте в месяц (по среднему показателю на человека): 135\n",
      "Медиана по количеству часов на рабочем месте в месяц (по среднему показателю на человека): 200.0\n",
      "СКО по количеству часов на рабочем месте в месяц (по среднему показателю на человека): 49.943099371284305\n",
      "Дисперсия по количеству часов на рабочем месте в месяц (по среднему показателю на человека): 2494.313174809979\n",
      "Первый и третий квартили по часов на рабочем месте в месяц (по среднему показателю на человека):\n",
      "0.25    156.0\n",
      "0.75    245.0\n",
      "Name: average_montly_hours, dtype: float64\n"
     ]
    }
   ],
   "source": [
    "print('Максимальное количество часов на рабочем месте в месяц (по среднему показателю на человека):', df_HR['average_montly_hours'].max())\n",
    "print('Минимальное количество часов на рабочем месте в месяц (по среднему показателю на человека):', df_HR['average_montly_hours'].min())\n",
    "average_montly_hours_range = df_HR['average_montly_hours'].max() - df_HR['average_montly_hours'].min()\n",
    "print('Размах в количестве часов на рабочем месте в месяц (по среднему показателю на человека):', average_montly_hours_range)\n",
    "print('Среднеарифметическое количество часов на рабочем месте в месяц (по среднему показателю на человека):', df_HR['average_montly_hours'].mean())\n",
    "print('Мода по количеству часов на рабочем месте в месяц (по среднему показателю на человека):', df_HR['average_montly_hours'].mode()[0])\n",
    "print('Медиана по количеству часов на рабочем месте в месяц (по среднему показателю на человека):', df_HR['average_montly_hours'].median())\n",
    "print('СКО по количеству часов на рабочем месте в месяц (по среднему показателю на человека):',  df_HR['average_montly_hours'].std())\n",
    "print('Дисперсия по количеству часов на рабочем месте в месяц (по среднему показателю на человека):', df_HR['average_montly_hours'].var())\n",
    "\n",
    "print('Первый и третий квартили по часов на рабочем месте в месяц (по среднему показателю на человека):')\n",
    "print(df_HR['average_montly_hours'].quantile([0.25, 0.75]))"
   ]
  },
  {
   "cell_type": "markdown",
   "id": "8a046d78",
   "metadata": {},
   "source": [
    "### 5.Time_spend_company - Стаж работы в компании в годах "
   ]
  },
  {
   "cell_type": "code",
   "execution_count": 482,
   "id": "354a913a",
   "metadata": {},
   "outputs": [
    {
     "name": "stdout",
     "output_type": "stream",
     "text": [
      "Максимальный стаж работы в компании (в годах): 10\n",
      "Минимальный стаж работы в компании (в годах): 2\n",
      "Размах по стажу работы в компании (в годах): 8\n",
      "Среднеарифметический стаж работы в компании (в годах): 3.498233215547703\n",
      "Мода по стажу работы в компании (в годах): 3\n",
      "Медиана по стажу работы в компании (в годах): 3.0\n",
      "СКО по стажу работы в компании (в годах): 1.4601362305354546\n",
      "Дисперсия по стажу работы в компании (в годах): 2.1319978117222864\n",
      "Первый и третий квартили по стажу работы в компании (в годах):\n",
      "0.25    3.0\n",
      "0.75    4.0\n",
      "Name: time_spend_company, dtype: float64\n"
     ]
    }
   ],
   "source": [
    "print('Максимальный стаж работы в компании (в годах):', df_HR['time_spend_company'].max())\n",
    "print('Минимальный стаж работы в компании (в годах):', df_HR['time_spend_company'].min())\n",
    "time_spend_company_range = df_HR['time_spend_company'].max() - df_HR['time_spend_company'].min()\n",
    "print('Размах по стажу работы в компании (в годах):', time_spend_company_range)\n",
    "print('Среднеарифметический стаж работы в компании (в годах):', df_HR['time_spend_company'].mean())\n",
    "print('Мода по стажу работы в компании (в годах):', df_HR['time_spend_company'].mode()[0])\n",
    "print('Медиана по стажу работы в компании (в годах):', df_HR['time_spend_company'].median())\n",
    "print('СКО по стажу работы в компании (в годах):',  df_HR['time_spend_company'].std())\n",
    "print('Дисперсия по стажу работы в компании (в годах):', df_HR['time_spend_company'].var())\n",
    "\n",
    "print('Первый и третий квартили по стажу работы в компании (в годах):')\n",
    "print(df_HR['time_spend_company'].quantile([0.25, 0.75]))"
   ]
  },
  {
   "cell_type": "markdown",
   "id": "064f4d78",
   "metadata": {},
   "source": [
    "# Рассчитываем и визуализируем корреляционную матрицу для количественных переменных. Определите две самые скоррелированные и две наименеескоррелированные переменные (10 баллов)"
   ]
  },
  {
   "cell_type": "code",
   "execution_count": 483,
   "id": "1ef892bf",
   "metadata": {},
   "outputs": [
    {
     "data": {
      "text/html": [
       "<div>\n",
       "<style scoped>\n",
       "    .dataframe tbody tr th:only-of-type {\n",
       "        vertical-align: middle;\n",
       "    }\n",
       "\n",
       "    .dataframe tbody tr th {\n",
       "        vertical-align: top;\n",
       "    }\n",
       "\n",
       "    .dataframe thead th {\n",
       "        text-align: right;\n",
       "    }\n",
       "</style>\n",
       "<table border=\"1\" class=\"dataframe\">\n",
       "  <thead>\n",
       "    <tr style=\"text-align: right;\">\n",
       "      <th></th>\n",
       "      <th>satisfaction_level</th>\n",
       "      <th>last_evaluation</th>\n",
       "      <th>number_project</th>\n",
       "      <th>average_montly_hours</th>\n",
       "      <th>time_spend_company</th>\n",
       "    </tr>\n",
       "  </thead>\n",
       "  <tbody>\n",
       "    <tr>\n",
       "      <th>0</th>\n",
       "      <td>0.38</td>\n",
       "      <td>0.53</td>\n",
       "      <td>2</td>\n",
       "      <td>157</td>\n",
       "      <td>3</td>\n",
       "    </tr>\n",
       "    <tr>\n",
       "      <th>1</th>\n",
       "      <td>0.80</td>\n",
       "      <td>0.86</td>\n",
       "      <td>5</td>\n",
       "      <td>262</td>\n",
       "      <td>6</td>\n",
       "    </tr>\n",
       "    <tr>\n",
       "      <th>2</th>\n",
       "      <td>0.11</td>\n",
       "      <td>0.88</td>\n",
       "      <td>7</td>\n",
       "      <td>272</td>\n",
       "      <td>4</td>\n",
       "    </tr>\n",
       "    <tr>\n",
       "      <th>3</th>\n",
       "      <td>0.72</td>\n",
       "      <td>0.87</td>\n",
       "      <td>5</td>\n",
       "      <td>223</td>\n",
       "      <td>5</td>\n",
       "    </tr>\n",
       "    <tr>\n",
       "      <th>4</th>\n",
       "      <td>0.37</td>\n",
       "      <td>0.52</td>\n",
       "      <td>2</td>\n",
       "      <td>159</td>\n",
       "      <td>3</td>\n",
       "    </tr>\n",
       "  </tbody>\n",
       "</table>\n",
       "</div>"
      ],
      "text/plain": [
       "   satisfaction_level  last_evaluation  number_project  average_montly_hours  \\\n",
       "0                0.38             0.53               2                   157   \n",
       "1                0.80             0.86               5                   262   \n",
       "2                0.11             0.88               7                   272   \n",
       "3                0.72             0.87               5                   223   \n",
       "4                0.37             0.52               2                   159   \n",
       "\n",
       "   time_spend_company  \n",
       "0                   3  \n",
       "1                   6  \n",
       "2                   4  \n",
       "3                   5  \n",
       "4                   3  "
      ]
     },
     "execution_count": 483,
     "metadata": {},
     "output_type": "execute_result"
    }
   ],
   "source": [
    "# Создаем новый датафрейм исключительно с количественными переменными:\n",
    "df_HR_short =df_HR.filter(items=['satisfaction_level','last_evaluation','number_project','average_montly_hours','time_spend_company'])\n",
    "df_HR_short.head()"
   ]
  },
  {
   "cell_type": "code",
   "execution_count": 484,
   "id": "7e5e0378",
   "metadata": {},
   "outputs": [
    {
     "data": {
      "text/html": [
       "<style  type=\"text/css\" >\n",
       "#T_2834e_row0_col0,#T_2834e_row1_col1,#T_2834e_row2_col2,#T_2834e_row3_col3,#T_2834e_row4_col4{\n",
       "            background-color:  #b40426;\n",
       "            color:  #f1f1f1;\n",
       "        }#T_2834e_row0_col1,#T_2834e_row0_col2,#T_2834e_row0_col3,#T_2834e_row0_col4,#T_2834e_row2_col0{\n",
       "            background-color:  #3b4cc0;\n",
       "            color:  #f1f1f1;\n",
       "        }#T_2834e_row1_col0{\n",
       "            background-color:  #81a4fb;\n",
       "            color:  #000000;\n",
       "        }#T_2834e_row1_col2{\n",
       "            background-color:  #cad8ef;\n",
       "            color:  #000000;\n",
       "        }#T_2834e_row1_col3{\n",
       "            background-color:  #b1cbfc;\n",
       "            color:  #000000;\n",
       "        }#T_2834e_row1_col4{\n",
       "            background-color:  #80a3fa;\n",
       "            color:  #000000;\n",
       "        }#T_2834e_row2_col1,#T_2834e_row2_col4{\n",
       "            background-color:  #94b6ff;\n",
       "            color:  #000000;\n",
       "        }#T_2834e_row2_col3{\n",
       "            background-color:  #c9d7f0;\n",
       "            color:  #000000;\n",
       "        }#T_2834e_row3_col0{\n",
       "            background-color:  #5b7ae5;\n",
       "            color:  #000000;\n",
       "        }#T_2834e_row3_col1{\n",
       "            background-color:  #92b4fe;\n",
       "            color:  #000000;\n",
       "        }#T_2834e_row3_col2{\n",
       "            background-color:  #dadce0;\n",
       "            color:  #000000;\n",
       "        }#T_2834e_row3_col4{\n",
       "            background-color:  #7ea1fa;\n",
       "            color:  #000000;\n",
       "        }#T_2834e_row4_col0{\n",
       "            background-color:  #455cce;\n",
       "            color:  #f1f1f1;\n",
       "        }#T_2834e_row4_col1{\n",
       "            background-color:  #4358cb;\n",
       "            color:  #f1f1f1;\n",
       "        }#T_2834e_row4_col2{\n",
       "            background-color:  #9ebeff;\n",
       "            color:  #000000;\n",
       "        }#T_2834e_row4_col3{\n",
       "            background-color:  #688aef;\n",
       "            color:  #000000;\n",
       "        }</style><table id=\"T_2834e_\" ><thead>    <tr>        <th class=\"blank level0\" ></th>        <th class=\"col_heading level0 col0\" >satisfaction_level</th>        <th class=\"col_heading level0 col1\" >last_evaluation</th>        <th class=\"col_heading level0 col2\" >number_project</th>        <th class=\"col_heading level0 col3\" >average_montly_hours</th>        <th class=\"col_heading level0 col4\" >time_spend_company</th>    </tr></thead><tbody>\n",
       "                <tr>\n",
       "                        <th id=\"T_2834e_level0_row0\" class=\"row_heading level0 row0\" >satisfaction_level</th>\n",
       "                        <td id=\"T_2834e_row0_col0\" class=\"data row0 col0\" >1.000000</td>\n",
       "                        <td id=\"T_2834e_row0_col1\" class=\"data row0 col1\" >0.105021</td>\n",
       "                        <td id=\"T_2834e_row0_col2\" class=\"data row0 col2\" >-0.142970</td>\n",
       "                        <td id=\"T_2834e_row0_col3\" class=\"data row0 col3\" >-0.020048</td>\n",
       "                        <td id=\"T_2834e_row0_col4\" class=\"data row0 col4\" >-0.100866</td>\n",
       "            </tr>\n",
       "            <tr>\n",
       "                        <th id=\"T_2834e_level0_row1\" class=\"row_heading level0 row1\" >last_evaluation</th>\n",
       "                        <td id=\"T_2834e_row1_col0\" class=\"data row1 col0\" >0.105021</td>\n",
       "                        <td id=\"T_2834e_row1_col1\" class=\"data row1 col1\" >1.000000</td>\n",
       "                        <td id=\"T_2834e_row1_col2\" class=\"data row1 col2\" >0.349333</td>\n",
       "                        <td id=\"T_2834e_row1_col3\" class=\"data row1 col3\" >0.339742</td>\n",
       "                        <td id=\"T_2834e_row1_col4\" class=\"data row1 col4\" >0.131591</td>\n",
       "            </tr>\n",
       "            <tr>\n",
       "                        <th id=\"T_2834e_level0_row2\" class=\"row_heading level0 row2\" >number_project</th>\n",
       "                        <td id=\"T_2834e_row2_col0\" class=\"data row2 col0\" >-0.142970</td>\n",
       "                        <td id=\"T_2834e_row2_col1\" class=\"data row2 col1\" >0.349333</td>\n",
       "                        <td id=\"T_2834e_row2_col2\" class=\"data row2 col2\" >1.000000</td>\n",
       "                        <td id=\"T_2834e_row2_col3\" class=\"data row2 col3\" >0.417211</td>\n",
       "                        <td id=\"T_2834e_row2_col4\" class=\"data row2 col4\" >0.196786</td>\n",
       "            </tr>\n",
       "            <tr>\n",
       "                        <th id=\"T_2834e_level0_row3\" class=\"row_heading level0 row3\" >average_montly_hours</th>\n",
       "                        <td id=\"T_2834e_row3_col0\" class=\"data row3 col0\" >-0.020048</td>\n",
       "                        <td id=\"T_2834e_row3_col1\" class=\"data row3 col1\" >0.339742</td>\n",
       "                        <td id=\"T_2834e_row3_col2\" class=\"data row3 col2\" >0.417211</td>\n",
       "                        <td id=\"T_2834e_row3_col3\" class=\"data row3 col3\" >1.000000</td>\n",
       "                        <td id=\"T_2834e_row3_col4\" class=\"data row3 col4\" >0.127755</td>\n",
       "            </tr>\n",
       "            <tr>\n",
       "                        <th id=\"T_2834e_level0_row4\" class=\"row_heading level0 row4\" >time_spend_company</th>\n",
       "                        <td id=\"T_2834e_row4_col0\" class=\"data row4 col0\" >-0.100866</td>\n",
       "                        <td id=\"T_2834e_row4_col1\" class=\"data row4 col1\" >0.131591</td>\n",
       "                        <td id=\"T_2834e_row4_col2\" class=\"data row4 col2\" >0.196786</td>\n",
       "                        <td id=\"T_2834e_row4_col3\" class=\"data row4 col3\" >0.127755</td>\n",
       "                        <td id=\"T_2834e_row4_col4\" class=\"data row4 col4\" >1.000000</td>\n",
       "            </tr>\n",
       "    </tbody></table>"
      ],
      "text/plain": [
       "<pandas.io.formats.style.Styler at 0x2440305ee50>"
      ]
     },
     "execution_count": 484,
     "metadata": {},
     "output_type": "execute_result"
    }
   ],
   "source": [
    "#Строим корреляционную матрицу\n",
    "df_HR_corr = df_HR_short.corr()\n",
    "df_HR_corr.style.background_gradient(cmap='coolwarm')"
   ]
  },
  {
   "cell_type": "code",
   "execution_count": 485,
   "id": "64d371ce",
   "metadata": {},
   "outputs": [],
   "source": [
    "# Мы видим 2 САМЫЕ БОЛЬШЫЕ в датасете, но тем не менее средние корреляции таких метрик как: \n",
    "# 1) average_montly_hours и number_project - те.е среднего количества времени работы и количества завершенных проектов(0.417211)\n",
    "# 2) last_evaluation и number_project - т.е. время с последней оценки и количеством проектов (0.34933)\n",
    "\n",
    "# есть небольшая корреляция таких метрик как время с последней оценки и среднего количества времени работы: \n",
    "# 3) last_evaluation и average_montly_hours (0.339742)\n",
    "# вижу также совсем слабую корреляцию таких метрик как стаж и количество проектов: \n",
    "# 4) time_spend_company и number_project (0.196786)\n",
    "\n",
    "# НАИМЕНЕЕ скорелированными метриками мы можем считать:\n",
    "# 5) satisfaction_level и time_spend_company - т.е. удовлетваренность со стажем работы (-0.100866)\n",
    "# 6) satisfaction_level и average_montly_hours - т.е. удовлетворенность с количеством часов работы в месяц (среднее на каждого сотрудника) (-0.020048)"
   ]
  },
  {
   "cell_type": "code",
   "execution_count": 487,
   "id": "32207ac3",
   "metadata": {},
   "outputs": [
    {
     "data": {
      "text/plain": [
       "<Figure size 200x1000 with 0 Axes>"
      ]
     },
     "metadata": {},
     "output_type": "display_data"
    },
    {
     "data": {
      "image/png": "[encoded data removed]",
      "text/plain": [
       "<Figure size 900x900 with 30 Axes>"
      ]
     },
     "metadata": {
      "needs_background": "light"
     },
     "output_type": "display_data"
    }
   ],
   "source": [
    "#Визуализируем показания корреляции\n",
    "plt.figure(figsize=(20,100), dpi= 10)\n",
    "sns.pairplot(df_HR_corr, kind=\"scatter\", plot_kws=dict(s=50, edgecolor=\"blue\", linewidth=2.0))\n",
    "plt.show()"
   ]
  },
  {
   "cell_type": "markdown",
   "id": "56268c82",
   "metadata": {},
   "source": [
    "# Рассчитайте сколько сотрудников работает в каждом департаменте (5 баллов)"
   ]
  },
  {
   "cell_type": "code",
   "execution_count": 488,
   "id": "1fb90394",
   "metadata": {},
   "outputs": [
    {
     "data": {
      "text/html": [
       "<div>\n",
       "<style scoped>\n",
       "    .dataframe tbody tr th:only-of-type {\n",
       "        vertical-align: middle;\n",
       "    }\n",
       "\n",
       "    .dataframe tbody tr th {\n",
       "        vertical-align: top;\n",
       "    }\n",
       "\n",
       "    .dataframe thead th {\n",
       "        text-align: right;\n",
       "    }\n",
       "</style>\n",
       "<table border=\"1\" class=\"dataframe\">\n",
       "  <thead>\n",
       "    <tr style=\"text-align: right;\">\n",
       "      <th></th>\n",
       "      <th>satisfaction_level</th>\n",
       "      <th>last_evaluation</th>\n",
       "      <th>number_project</th>\n",
       "      <th>average_montly_hours</th>\n",
       "      <th>time_spend_company</th>\n",
       "      <th>Work_accident</th>\n",
       "      <th>left</th>\n",
       "      <th>promotion_last_5years</th>\n",
       "      <th>department</th>\n",
       "      <th>salary</th>\n",
       "      <th>collegue</th>\n",
       "    </tr>\n",
       "  </thead>\n",
       "  <tbody>\n",
       "    <tr>\n",
       "      <th>0</th>\n",
       "      <td>0.38</td>\n",
       "      <td>0.53</td>\n",
       "      <td>2</td>\n",
       "      <td>157</td>\n",
       "      <td>3</td>\n",
       "      <td>0</td>\n",
       "      <td>1</td>\n",
       "      <td>0</td>\n",
       "      <td>sales</td>\n",
       "      <td>low</td>\n",
       "      <td>1</td>\n",
       "    </tr>\n",
       "    <tr>\n",
       "      <th>1</th>\n",
       "      <td>0.80</td>\n",
       "      <td>0.86</td>\n",
       "      <td>5</td>\n",
       "      <td>262</td>\n",
       "      <td>6</td>\n",
       "      <td>0</td>\n",
       "      <td>1</td>\n",
       "      <td>0</td>\n",
       "      <td>sales</td>\n",
       "      <td>medium</td>\n",
       "      <td>1</td>\n",
       "    </tr>\n",
       "    <tr>\n",
       "      <th>2</th>\n",
       "      <td>0.11</td>\n",
       "      <td>0.88</td>\n",
       "      <td>7</td>\n",
       "      <td>272</td>\n",
       "      <td>4</td>\n",
       "      <td>0</td>\n",
       "      <td>1</td>\n",
       "      <td>0</td>\n",
       "      <td>sales</td>\n",
       "      <td>medium</td>\n",
       "      <td>1</td>\n",
       "    </tr>\n",
       "    <tr>\n",
       "      <th>3</th>\n",
       "      <td>0.72</td>\n",
       "      <td>0.87</td>\n",
       "      <td>5</td>\n",
       "      <td>223</td>\n",
       "      <td>5</td>\n",
       "      <td>0</td>\n",
       "      <td>1</td>\n",
       "      <td>0</td>\n",
       "      <td>sales</td>\n",
       "      <td>low</td>\n",
       "      <td>1</td>\n",
       "    </tr>\n",
       "    <tr>\n",
       "      <th>4</th>\n",
       "      <td>0.37</td>\n",
       "      <td>0.52</td>\n",
       "      <td>2</td>\n",
       "      <td>159</td>\n",
       "      <td>3</td>\n",
       "      <td>0</td>\n",
       "      <td>1</td>\n",
       "      <td>0</td>\n",
       "      <td>sales</td>\n",
       "      <td>low</td>\n",
       "      <td>1</td>\n",
       "    </tr>\n",
       "  </tbody>\n",
       "</table>\n",
       "</div>"
      ],
      "text/plain": [
       "   satisfaction_level  last_evaluation  number_project  average_montly_hours  \\\n",
       "0                0.38             0.53               2                   157   \n",
       "1                0.80             0.86               5                   262   \n",
       "2                0.11             0.88               7                   272   \n",
       "3                0.72             0.87               5                   223   \n",
       "4                0.37             0.52               2                   159   \n",
       "\n",
       "   time_spend_company  Work_accident  left  promotion_last_5years department  \\\n",
       "0                   3              0     1                      0      sales   \n",
       "1                   6              0     1                      0      sales   \n",
       "2                   4              0     1                      0      sales   \n",
       "3                   5              0     1                      0      sales   \n",
       "4                   3              0     1                      0      sales   \n",
       "\n",
       "   salary  collegue  \n",
       "0     low         1  \n",
       "1  medium         1  \n",
       "2  medium         1  \n",
       "3     low         1  \n",
       "4     low         1  "
      ]
     },
     "execution_count": 488,
     "metadata": {},
     "output_type": "execute_result"
    }
   ],
   "source": [
    "#Создаем счетчик сотрудников в отдельном столбце датасета, чтобы упростить подсчет их количества \n",
    "df_HR['collegue']= 1\n",
    "df_HR.head()"
   ]
  },
  {
   "cell_type": "code",
   "execution_count": 489,
   "id": "dcc9ce16",
   "metadata": {},
   "outputs": [
    {
     "data": {
      "text/html": [
       "<div>\n",
       "<style scoped>\n",
       "    .dataframe tbody tr th:only-of-type {\n",
       "        vertical-align: middle;\n",
       "    }\n",
       "\n",
       "    .dataframe tbody tr th {\n",
       "        vertical-align: top;\n",
       "    }\n",
       "\n",
       "    .dataframe thead th {\n",
       "        text-align: right;\n",
       "    }\n",
       "</style>\n",
       "<table border=\"1\" class=\"dataframe\">\n",
       "  <thead>\n",
       "    <tr style=\"text-align: right;\">\n",
       "      <th></th>\n",
       "      <th>department</th>\n",
       "      <th>collegue</th>\n",
       "      <th>salary</th>\n",
       "    </tr>\n",
       "  </thead>\n",
       "  <tbody>\n",
       "    <tr>\n",
       "      <th>0</th>\n",
       "      <td>sales</td>\n",
       "      <td>1</td>\n",
       "      <td>low</td>\n",
       "    </tr>\n",
       "    <tr>\n",
       "      <th>1</th>\n",
       "      <td>sales</td>\n",
       "      <td>1</td>\n",
       "      <td>medium</td>\n",
       "    </tr>\n",
       "    <tr>\n",
       "      <th>2</th>\n",
       "      <td>sales</td>\n",
       "      <td>1</td>\n",
       "      <td>medium</td>\n",
       "    </tr>\n",
       "    <tr>\n",
       "      <th>3</th>\n",
       "      <td>sales</td>\n",
       "      <td>1</td>\n",
       "      <td>low</td>\n",
       "    </tr>\n",
       "    <tr>\n",
       "      <th>4</th>\n",
       "      <td>sales</td>\n",
       "      <td>1</td>\n",
       "      <td>low</td>\n",
       "    </tr>\n",
       "    <tr>\n",
       "      <th>...</th>\n",
       "      <td>...</td>\n",
       "      <td>...</td>\n",
       "      <td>...</td>\n",
       "    </tr>\n",
       "    <tr>\n",
       "      <th>14994</th>\n",
       "      <td>support</td>\n",
       "      <td>1</td>\n",
       "      <td>low</td>\n",
       "    </tr>\n",
       "    <tr>\n",
       "      <th>14995</th>\n",
       "      <td>support</td>\n",
       "      <td>1</td>\n",
       "      <td>low</td>\n",
       "    </tr>\n",
       "    <tr>\n",
       "      <th>14996</th>\n",
       "      <td>support</td>\n",
       "      <td>1</td>\n",
       "      <td>low</td>\n",
       "    </tr>\n",
       "    <tr>\n",
       "      <th>14997</th>\n",
       "      <td>support</td>\n",
       "      <td>1</td>\n",
       "      <td>low</td>\n",
       "    </tr>\n",
       "    <tr>\n",
       "      <th>14998</th>\n",
       "      <td>support</td>\n",
       "      <td>1</td>\n",
       "      <td>low</td>\n",
       "    </tr>\n",
       "  </tbody>\n",
       "</table>\n",
       "<p>14999 rows × 3 columns</p>\n",
       "</div>"
      ],
      "text/plain": [
       "      department  collegue  salary\n",
       "0          sales         1     low\n",
       "1          sales         1  medium\n",
       "2          sales         1  medium\n",
       "3          sales         1     low\n",
       "4          sales         1     low\n",
       "...          ...       ...     ...\n",
       "14994    support         1     low\n",
       "14995    support         1     low\n",
       "14996    support         1     low\n",
       "14997    support         1     low\n",
       "14998    support         1     low\n",
       "\n",
       "[14999 rows x 3 columns]"
      ]
     },
     "execution_count": 489,
     "metadata": {},
     "output_type": "execute_result"
    }
   ],
   "source": [
    "# Для простоты сократим датасет\n",
    "df_HR_departments = df_HR.filter(items=['department','collegue','salary'])\n",
    "df_HR_departments"
   ]
  },
  {
   "cell_type": "code",
   "execution_count": 490,
   "id": "b93e5ece",
   "metadata": {},
   "outputs": [
    {
     "data": {
      "text/html": [
       "<div>\n",
       "<style scoped>\n",
       "    .dataframe tbody tr th:only-of-type {\n",
       "        vertical-align: middle;\n",
       "    }\n",
       "\n",
       "    .dataframe tbody tr th {\n",
       "        vertical-align: top;\n",
       "    }\n",
       "\n",
       "    .dataframe thead tr th {\n",
       "        text-align: left;\n",
       "    }\n",
       "\n",
       "    .dataframe thead tr:last-of-type th {\n",
       "        text-align: right;\n",
       "    }\n",
       "</style>\n",
       "<table border=\"1\" class=\"dataframe\">\n",
       "  <thead>\n",
       "    <tr>\n",
       "      <th></th>\n",
       "      <th colspan=\"3\" halign=\"left\">collegue</th>\n",
       "    </tr>\n",
       "    <tr>\n",
       "      <th>salary</th>\n",
       "      <th>high</th>\n",
       "      <th>low</th>\n",
       "      <th>medium</th>\n",
       "    </tr>\n",
       "    <tr>\n",
       "      <th>department</th>\n",
       "      <th></th>\n",
       "      <th></th>\n",
       "      <th></th>\n",
       "    </tr>\n",
       "  </thead>\n",
       "  <tbody>\n",
       "    <tr>\n",
       "      <th>IT</th>\n",
       "      <td>83</td>\n",
       "      <td>609</td>\n",
       "      <td>535</td>\n",
       "    </tr>\n",
       "    <tr>\n",
       "      <th>RandD</th>\n",
       "      <td>51</td>\n",
       "      <td>364</td>\n",
       "      <td>372</td>\n",
       "    </tr>\n",
       "    <tr>\n",
       "      <th>accounting</th>\n",
       "      <td>74</td>\n",
       "      <td>358</td>\n",
       "      <td>335</td>\n",
       "    </tr>\n",
       "    <tr>\n",
       "      <th>hr</th>\n",
       "      <td>45</td>\n",
       "      <td>335</td>\n",
       "      <td>359</td>\n",
       "    </tr>\n",
       "    <tr>\n",
       "      <th>management</th>\n",
       "      <td>225</td>\n",
       "      <td>180</td>\n",
       "      <td>225</td>\n",
       "    </tr>\n",
       "    <tr>\n",
       "      <th>marketing</th>\n",
       "      <td>80</td>\n",
       "      <td>402</td>\n",
       "      <td>376</td>\n",
       "    </tr>\n",
       "    <tr>\n",
       "      <th>product_mng</th>\n",
       "      <td>68</td>\n",
       "      <td>451</td>\n",
       "      <td>383</td>\n",
       "    </tr>\n",
       "    <tr>\n",
       "      <th>sales</th>\n",
       "      <td>269</td>\n",
       "      <td>2099</td>\n",
       "      <td>1772</td>\n",
       "    </tr>\n",
       "    <tr>\n",
       "      <th>support</th>\n",
       "      <td>141</td>\n",
       "      <td>1146</td>\n",
       "      <td>942</td>\n",
       "    </tr>\n",
       "    <tr>\n",
       "      <th>technical</th>\n",
       "      <td>201</td>\n",
       "      <td>1372</td>\n",
       "      <td>1147</td>\n",
       "    </tr>\n",
       "  </tbody>\n",
       "</table>\n",
       "</div>"
      ],
      "text/plain": [
       "            collegue             \n",
       "salary          high   low medium\n",
       "department                       \n",
       "IT                83   609    535\n",
       "RandD             51   364    372\n",
       "accounting        74   358    335\n",
       "hr                45   335    359\n",
       "management       225   180    225\n",
       "marketing         80   402    376\n",
       "product_mng       68   451    383\n",
       "sales            269  2099   1772\n",
       "support          141  1146    942\n",
       "technical        201  1372   1147"
      ]
     },
     "execution_count": 490,
     "metadata": {},
     "output_type": "execute_result"
    }
   ],
   "source": [
    "# Посмотрим, сколько человек работает в каждом департаменете и заодно посмотрим на разбиение по зарплатам этих сотрудников\n",
    "df_HR_counter_department = df_HR_departments.pivot_table(index='department', columns='salary', aggfunc='sum').fillna(0)\n",
    "df_HR_counter_department.head(10)"
   ]
  },
  {
   "cell_type": "code",
   "execution_count": 491,
   "id": "36bda1d4",
   "metadata": {},
   "outputs": [
    {
     "data": {
      "text/html": [
       "<div>\n",
       "<style scoped>\n",
       "    .dataframe tbody tr th:only-of-type {\n",
       "        vertical-align: middle;\n",
       "    }\n",
       "\n",
       "    .dataframe tbody tr th {\n",
       "        vertical-align: top;\n",
       "    }\n",
       "\n",
       "    .dataframe thead tr th {\n",
       "        text-align: left;\n",
       "    }\n",
       "\n",
       "    .dataframe thead tr:last-of-type th {\n",
       "        text-align: right;\n",
       "    }\n",
       "</style>\n",
       "<table border=\"1\" class=\"dataframe\">\n",
       "  <thead>\n",
       "    <tr>\n",
       "      <th></th>\n",
       "      <th colspan=\"3\" halign=\"left\">collegue</th>\n",
       "      <th>counter</th>\n",
       "    </tr>\n",
       "    <tr>\n",
       "      <th>salary</th>\n",
       "      <th>high</th>\n",
       "      <th>low</th>\n",
       "      <th>medium</th>\n",
       "      <th></th>\n",
       "    </tr>\n",
       "    <tr>\n",
       "      <th>department</th>\n",
       "      <th></th>\n",
       "      <th></th>\n",
       "      <th></th>\n",
       "      <th></th>\n",
       "    </tr>\n",
       "  </thead>\n",
       "  <tbody>\n",
       "    <tr>\n",
       "      <th>IT</th>\n",
       "      <td>83</td>\n",
       "      <td>609</td>\n",
       "      <td>535</td>\n",
       "      <td>1227</td>\n",
       "    </tr>\n",
       "    <tr>\n",
       "      <th>RandD</th>\n",
       "      <td>51</td>\n",
       "      <td>364</td>\n",
       "      <td>372</td>\n",
       "      <td>787</td>\n",
       "    </tr>\n",
       "    <tr>\n",
       "      <th>accounting</th>\n",
       "      <td>74</td>\n",
       "      <td>358</td>\n",
       "      <td>335</td>\n",
       "      <td>767</td>\n",
       "    </tr>\n",
       "    <tr>\n",
       "      <th>hr</th>\n",
       "      <td>45</td>\n",
       "      <td>335</td>\n",
       "      <td>359</td>\n",
       "      <td>739</td>\n",
       "    </tr>\n",
       "    <tr>\n",
       "      <th>management</th>\n",
       "      <td>225</td>\n",
       "      <td>180</td>\n",
       "      <td>225</td>\n",
       "      <td>630</td>\n",
       "    </tr>\n",
       "    <tr>\n",
       "      <th>marketing</th>\n",
       "      <td>80</td>\n",
       "      <td>402</td>\n",
       "      <td>376</td>\n",
       "      <td>858</td>\n",
       "    </tr>\n",
       "    <tr>\n",
       "      <th>product_mng</th>\n",
       "      <td>68</td>\n",
       "      <td>451</td>\n",
       "      <td>383</td>\n",
       "      <td>902</td>\n",
       "    </tr>\n",
       "    <tr>\n",
       "      <th>sales</th>\n",
       "      <td>269</td>\n",
       "      <td>2099</td>\n",
       "      <td>1772</td>\n",
       "      <td>4140</td>\n",
       "    </tr>\n",
       "    <tr>\n",
       "      <th>support</th>\n",
       "      <td>141</td>\n",
       "      <td>1146</td>\n",
       "      <td>942</td>\n",
       "      <td>2229</td>\n",
       "    </tr>\n",
       "    <tr>\n",
       "      <th>technical</th>\n",
       "      <td>201</td>\n",
       "      <td>1372</td>\n",
       "      <td>1147</td>\n",
       "      <td>2720</td>\n",
       "    </tr>\n",
       "  </tbody>\n",
       "</table>\n",
       "</div>"
      ],
      "text/plain": [
       "            collegue              counter\n",
       "salary          high   low medium        \n",
       "department                               \n",
       "IT                83   609    535    1227\n",
       "RandD             51   364    372     787\n",
       "accounting        74   358    335     767\n",
       "hr                45   335    359     739\n",
       "management       225   180    225     630\n",
       "marketing         80   402    376     858\n",
       "product_mng       68   451    383     902\n",
       "sales            269  2099   1772    4140\n",
       "support          141  1146    942    2229\n",
       "technical        201  1372   1147    2720"
      ]
     },
     "execution_count": 491,
     "metadata": {},
     "output_type": "execute_result"
    }
   ],
   "source": [
    "# Создадим счетчик counter, который и будет показывать нам сколько сотрудников работает в каждом отделе.\n",
    "df_HR_counter_department['counter']=df_HR_counter_department.sum(axis=1)\n",
    "df_HR_counter_department.head(10)"
   ]
  },
  {
   "cell_type": "markdown",
   "id": "898be8f2",
   "metadata": {},
   "source": [
    "# Показать распределение сотрудников по зарплатам (5 баллов)\n"
   ]
  },
  {
   "cell_type": "code",
   "execution_count": 492,
   "id": "d045f1c6",
   "metadata": {},
   "outputs": [
    {
     "data": {
      "text/html": [
       "<div>\n",
       "<style scoped>\n",
       "    .dataframe tbody tr th:only-of-type {\n",
       "        vertical-align: middle;\n",
       "    }\n",
       "\n",
       "    .dataframe tbody tr th {\n",
       "        vertical-align: top;\n",
       "    }\n",
       "\n",
       "    .dataframe thead th {\n",
       "        text-align: right;\n",
       "    }\n",
       "</style>\n",
       "<table border=\"1\" class=\"dataframe\">\n",
       "  <thead>\n",
       "    <tr style=\"text-align: right;\">\n",
       "      <th></th>\n",
       "      <th>collegue</th>\n",
       "    </tr>\n",
       "    <tr>\n",
       "      <th>salary</th>\n",
       "      <th></th>\n",
       "    </tr>\n",
       "  </thead>\n",
       "  <tbody>\n",
       "    <tr>\n",
       "      <th>high</th>\n",
       "      <td>1237</td>\n",
       "    </tr>\n",
       "    <tr>\n",
       "      <th>low</th>\n",
       "      <td>7316</td>\n",
       "    </tr>\n",
       "    <tr>\n",
       "      <th>medium</th>\n",
       "      <td>6446</td>\n",
       "    </tr>\n",
       "  </tbody>\n",
       "</table>\n",
       "</div>"
      ],
      "text/plain": [
       "        collegue\n",
       "salary          \n",
       "high        1237\n",
       "low         7316\n",
       "medium      6446"
      ]
     },
     "execution_count": 492,
     "metadata": {},
     "output_type": "execute_result"
    }
   ],
   "source": [
    "# Визуализируем распределение по зарплатам между сотрудниками\n",
    "df_HR_salary = df_HR.filter(items=['collegue','salary']).groupby('salary').sum()\n",
    "df_HR_salary"
   ]
  },
  {
   "cell_type": "code",
   "execution_count": 493,
   "id": "f99b5c08",
   "metadata": {},
   "outputs": [
    {
     "data": {
      "text/plain": [
       "<AxesSubplot:title={'center':'Распределение зарплат по сотрудникам'}, ylabel='Уровень зарплаты'>"
      ]
     },
     "execution_count": 493,
     "metadata": {},
     "output_type": "execute_result"
    },
    {
     "data": {
      "image/png": "[encoded data removed]",
      "text/plain": [
       "<Figure size 432x288 with 1 Axes>"
      ]
     },
     "metadata": {
      "needs_background": "light"
     },
     "output_type": "display_data"
    }
   ],
   "source": [
    "# Мы наблюдаем не совсем нормальное распределение зарплаты из которого следует, что:\n",
    "# большинство сотрудников получет зарплату низкую, у чуть меньшего числа зарплата средняя и у совсем небольшого числа людей зарплата высокая. \n",
    "df_HR_salary.plot(kind='barh', title='Распределение зарплат по сотрудникам',ylabel='Сотрудники', xlabel='Уровень зарплаты')"
   ]
  },
  {
   "cell_type": "markdown",
   "id": "6583f147",
   "metadata": {},
   "source": [
    "# Показать распределение сотрудников по зарплатам в каждом департаменте по отдельности (5 баллов)"
   ]
  },
  {
   "cell_type": "code",
   "execution_count": 494,
   "id": "1e9543db",
   "metadata": {},
   "outputs": [
    {
     "data": {
      "text/plain": [
       "<AxesSubplot:title={'center':'Распределение зарплат по сотрудникам'}, xlabel='Уровень зарплаты', ylabel='Сотрудники'>"
      ]
     },
     "execution_count": 494,
     "metadata": {},
     "output_type": "execute_result"
    },
    {
     "data": {
      "image/png": "[encoded data removed]",
      "text/plain": [
       "<Figure size 432x288 with 1 Axes>"
      ]
     },
     "metadata": {
      "needs_background": "light"
     },
     "output_type": "display_data"
    }
   ],
   "source": [
    "# Рассмотрим распределение зарплат в каждом из департаментов с помощью барчарта\n",
    "df_HR_counter_department.plot(kind='bar', title='Распределение зарплат по сотрудникам',ylabel='Сотрудники', xlabel='Уровень зарплаты')\n"
   ]
  },
  {
   "cell_type": "code",
   "execution_count": 495,
   "id": "1e1b893f",
   "metadata": {},
   "outputs": [],
   "source": [
    "#Из барчарта выше мы видим, что больше всего зарплат/сотрудников сосредоточено в департаменте продаж (sales), а меньше всего в менеджменте (management), однако в менеджменте больше всего высоких зраплат и меньше всего низких.\n"
   ]
  },
  {
   "cell_type": "markdown",
   "id": "5a472107",
   "metadata": {},
   "source": [
    "# Проверим гипотезу, что сотрудники с высоким окладом проводят на работе больше времени, чем сотрудники с низким окладом (10 баллов)"
   ]
  },
  {
   "cell_type": "code",
   "execution_count": 496,
   "id": "064f3212",
   "metadata": {},
   "outputs": [
    {
     "data": {
      "text/html": [
       "<div>\n",
       "<style scoped>\n",
       "    .dataframe tbody tr th:only-of-type {\n",
       "        vertical-align: middle;\n",
       "    }\n",
       "\n",
       "    .dataframe tbody tr th {\n",
       "        vertical-align: top;\n",
       "    }\n",
       "\n",
       "    .dataframe thead th {\n",
       "        text-align: right;\n",
       "    }\n",
       "</style>\n",
       "<table border=\"1\" class=\"dataframe\">\n",
       "  <thead>\n",
       "    <tr style=\"text-align: right;\">\n",
       "      <th></th>\n",
       "      <th>collegue</th>\n",
       "      <th>salary</th>\n",
       "      <th>average_montly_hours</th>\n",
       "    </tr>\n",
       "  </thead>\n",
       "  <tbody>\n",
       "    <tr>\n",
       "      <th>0</th>\n",
       "      <td>1</td>\n",
       "      <td>low</td>\n",
       "      <td>157</td>\n",
       "    </tr>\n",
       "    <tr>\n",
       "      <th>1</th>\n",
       "      <td>1</td>\n",
       "      <td>medium</td>\n",
       "      <td>262</td>\n",
       "    </tr>\n",
       "    <tr>\n",
       "      <th>2</th>\n",
       "      <td>1</td>\n",
       "      <td>medium</td>\n",
       "      <td>272</td>\n",
       "    </tr>\n",
       "    <tr>\n",
       "      <th>3</th>\n",
       "      <td>1</td>\n",
       "      <td>low</td>\n",
       "      <td>223</td>\n",
       "    </tr>\n",
       "    <tr>\n",
       "      <th>4</th>\n",
       "      <td>1</td>\n",
       "      <td>low</td>\n",
       "      <td>159</td>\n",
       "    </tr>\n",
       "  </tbody>\n",
       "</table>\n",
       "</div>"
      ],
      "text/plain": [
       "   collegue  salary  average_montly_hours\n",
       "0         1     low                   157\n",
       "1         1  medium                   262\n",
       "2         1  medium                   272\n",
       "3         1     low                   223\n",
       "4         1     low                   159"
      ]
     },
     "execution_count": 496,
     "metadata": {},
     "output_type": "execute_result"
    }
   ],
   "source": [
    "df_HR_salary_and_hours = df_HR.filter(items=['collegue','salary','average_montly_hours'])\n",
    "df_HR_salary_and_hours.head()"
   ]
  },
  {
   "cell_type": "code",
   "execution_count": 497,
   "id": "e613fb02",
   "metadata": {},
   "outputs": [
    {
     "data": {
      "image/png": "[encoded data removed]",
      "text/plain": [
       "<Figure size 432x288 with 1 Axes>"
      ]
     },
     "metadata": {
      "needs_background": "light"
     },
     "output_type": "display_data"
    }
   ],
   "source": [
    "#Проверим, зависит ли зарплата от проведенных на работе часов\n",
    "df_HR_salary_and_hours.plot(kind='scatter', \n",
    "        x='salary', \n",
    "        y='average_montly_hours', \n",
    "        title='Корреляция между зарплатой и временем, проведенным на работе')\n",
    "plt.show()"
   ]
  },
  {
   "cell_type": "markdown",
   "id": "31b18e22",
   "metadata": {},
   "source": [
    "### По данным нашего скаттерплота выше мы можем сказать, что время проведенное на работе в случае высокой зарплаты чаще ниже, чем в случае с низкой и средней зарплатой.\n",
    "### То есть гипотезу уже на начальном этапе можно отклонить."
   ]
  },
  {
   "cell_type": "markdown",
   "id": "d201a5b4",
   "metadata": {},
   "source": [
    "# Рассчитать следующие показатели среди уволившихся и неуволившихся сотрудников (по отдельности) (10 баллов):\n",
    "    ● Доля сотрудников с повышением за последние 5 лет\n",
    "    ● Средняя степень удовлетворенности\n",
    "    ● Среднее количество проектов"
   ]
  },
  {
   "cell_type": "code",
   "execution_count": 498,
   "id": "b676ef65",
   "metadata": {},
   "outputs": [
    {
     "data": {
      "text/html": [
       "<div>\n",
       "<style scoped>\n",
       "    .dataframe tbody tr th:only-of-type {\n",
       "        vertical-align: middle;\n",
       "    }\n",
       "\n",
       "    .dataframe tbody tr th {\n",
       "        vertical-align: top;\n",
       "    }\n",
       "\n",
       "    .dataframe thead th {\n",
       "        text-align: right;\n",
       "    }\n",
       "</style>\n",
       "<table border=\"1\" class=\"dataframe\">\n",
       "  <thead>\n",
       "    <tr style=\"text-align: right;\">\n",
       "      <th></th>\n",
       "      <th>satisfaction_level</th>\n",
       "      <th>left</th>\n",
       "      <th>promotion_last_5years</th>\n",
       "    </tr>\n",
       "  </thead>\n",
       "  <tbody>\n",
       "    <tr>\n",
       "      <th>0</th>\n",
       "      <td>0.38</td>\n",
       "      <td>1</td>\n",
       "      <td>0</td>\n",
       "    </tr>\n",
       "    <tr>\n",
       "      <th>1</th>\n",
       "      <td>0.80</td>\n",
       "      <td>1</td>\n",
       "      <td>0</td>\n",
       "    </tr>\n",
       "    <tr>\n",
       "      <th>2</th>\n",
       "      <td>0.11</td>\n",
       "      <td>1</td>\n",
       "      <td>0</td>\n",
       "    </tr>\n",
       "    <tr>\n",
       "      <th>3</th>\n",
       "      <td>0.72</td>\n",
       "      <td>1</td>\n",
       "      <td>0</td>\n",
       "    </tr>\n",
       "    <tr>\n",
       "      <th>4</th>\n",
       "      <td>0.37</td>\n",
       "      <td>1</td>\n",
       "      <td>0</td>\n",
       "    </tr>\n",
       "  </tbody>\n",
       "</table>\n",
       "</div>"
      ],
      "text/plain": [
       "   satisfaction_level  left  promotion_last_5years\n",
       "0                0.38     1                      0\n",
       "1                0.80     1                      0\n",
       "2                0.11     1                      0\n",
       "3                0.72     1                      0\n",
       "4                0.37     1                      0"
      ]
     },
     "execution_count": 498,
     "metadata": {},
     "output_type": "execute_result"
    }
   ],
   "source": [
    "df_HR_left = df_HR.filter(items=['satisfaction_level','left','promotion_last_5years'])\n",
    "df_HR_left.head()"
   ]
  },
  {
   "cell_type": "code",
   "execution_count": 499,
   "id": "f69f54f7",
   "metadata": {},
   "outputs": [
    {
     "data": {
      "text/plain": [
       "promotion_last_5years\n",
       "0    97.873192\n",
       "1     2.126808\n",
       "dtype: float64"
      ]
     },
     "execution_count": 499,
     "metadata": {},
     "output_type": "execute_result"
    }
   ],
   "source": [
    "# Рассчитаем длю сотрудников с повышением за последние 5 лет\n",
    "df_HR_promotion_percentage = (df_HR_left.groupby('promotion_last_5years').size() / len(df_HR_left))*100 \n",
    "df_HR_promotion_percentage.head()"
   ]
  },
  {
   "cell_type": "code",
   "execution_count": 500,
   "id": "7b85e95f",
   "metadata": {},
   "outputs": [],
   "source": [
    "# Доля сотрудников с повышением за последние 5 лет равна: 2.12 % "
   ]
  },
  {
   "cell_type": "code",
   "execution_count": 501,
   "id": "24efb147",
   "metadata": {},
   "outputs": [
    {
     "data": {
      "text/plain": [
       "promotion_last_5years  left\n",
       "0                      0       74.191613\n",
       "                       1       23.681579\n",
       "1                      0        2.000133\n",
       "                       1        0.126675\n",
       "dtype: float64"
      ]
     },
     "execution_count": 501,
     "metadata": {},
     "output_type": "execute_result"
    }
   ],
   "source": [
    "# Рассчитаем уволившихся (с повышением за последние 5 лет) и не уволившихся (с повышением за последние 5 лет)\n",
    "df_HR_promotion_left = (df_HR_left.groupby(['promotion_last_5years', 'left' ]).size() / len(df_HR_left))*100 \n",
    "df_HR_promotion_left.head()"
   ]
  },
  {
   "cell_type": "markdown",
   "id": "c47631c0",
   "metadata": {},
   "source": [
    "### Доля сотрудников УВОЛИВШИХСЯ с повышением за последние 5 лет равна: 0.12 % \n",
    "### Доля сотрудников НЕ УВОЛИВШИХСЯ с повышением за последние 5 лет равна: 2 % "
   ]
  },
  {
   "cell_type": "code",
   "execution_count": 502,
   "id": "41cccbf7",
   "metadata": {},
   "outputs": [],
   "source": [
    "df_HR_left['counter_satisfaction'] = 1"
   ]
  },
  {
   "cell_type": "code",
   "execution_count": 503,
   "id": "73905d52",
   "metadata": {},
   "outputs": [
    {
     "data": {
      "text/html": [
       "<div>\n",
       "<style scoped>\n",
       "    .dataframe tbody tr th:only-of-type {\n",
       "        vertical-align: middle;\n",
       "    }\n",
       "\n",
       "    .dataframe tbody tr th {\n",
       "        vertical-align: top;\n",
       "    }\n",
       "\n",
       "    .dataframe thead th {\n",
       "        text-align: right;\n",
       "    }\n",
       "</style>\n",
       "<table border=\"1\" class=\"dataframe\">\n",
       "  <thead>\n",
       "    <tr style=\"text-align: right;\">\n",
       "      <th>counter_satisfaction</th>\n",
       "      <th>1</th>\n",
       "    </tr>\n",
       "    <tr>\n",
       "      <th>left</th>\n",
       "      <th></th>\n",
       "    </tr>\n",
       "  </thead>\n",
       "  <tbody>\n",
       "    <tr>\n",
       "      <th>0</th>\n",
       "      <td>7620.30</td>\n",
       "    </tr>\n",
       "    <tr>\n",
       "      <th>1</th>\n",
       "      <td>1571.59</td>\n",
       "    </tr>\n",
       "  </tbody>\n",
       "</table>\n",
       "</div>"
      ],
      "text/plain": [
       "counter_satisfaction        1\n",
       "left                         \n",
       "0                     7620.30\n",
       "1                     1571.59"
      ]
     },
     "execution_count": 503,
     "metadata": {},
     "output_type": "execute_result"
    }
   ],
   "source": [
    "# Посчитаем общие данные удолетворенностью по уволившимся и не уволившимся сотрудникам, все, что будет идти ниже \n",
    "# понадобится нам для расчетов\n",
    "df_HR_left_pivot = df_HR_left.pivot_table(index='left', columns='counter_satisfaction', values='satisfaction_level', aggfunc='sum').fillna(0)\n",
    "df_HR_left_pivot.head(5)\n",
    "# Далее мы рассчитываем общее количество удовлетворенности в разрезе уволившихся (1) и не уволившихся(1) \n",
    "# - нам это пригодится для дальнейших рассчетов"
   ]
  },
  {
   "cell_type": "code",
   "execution_count": 504,
   "id": "454f71e1",
   "metadata": {},
   "outputs": [
    {
     "data": {
      "text/html": [
       "<div>\n",
       "<style scoped>\n",
       "    .dataframe tbody tr th:only-of-type {\n",
       "        vertical-align: middle;\n",
       "    }\n",
       "\n",
       "    .dataframe tbody tr th {\n",
       "        vertical-align: top;\n",
       "    }\n",
       "\n",
       "    .dataframe thead th {\n",
       "        text-align: right;\n",
       "    }\n",
       "</style>\n",
       "<table border=\"1\" class=\"dataframe\">\n",
       "  <thead>\n",
       "    <tr style=\"text-align: right;\">\n",
       "      <th>satisfaction_level</th>\n",
       "      <th>0.09</th>\n",
       "      <th>0.1</th>\n",
       "      <th>0.11</th>\n",
       "      <th>0.12</th>\n",
       "      <th>0.13</th>\n",
       "      <th>0.14</th>\n",
       "      <th>0.15</th>\n",
       "      <th>0.16</th>\n",
       "      <th>0.17</th>\n",
       "      <th>0.18</th>\n",
       "      <th>...</th>\n",
       "      <th>0.92</th>\n",
       "      <th>0.93</th>\n",
       "      <th>0.94</th>\n",
       "      <th>0.95</th>\n",
       "      <th>0.96</th>\n",
       "      <th>0.97</th>\n",
       "      <th>0.98</th>\n",
       "      <th>0.99</th>\n",
       "      <th>1.0</th>\n",
       "      <th>number_of_people</th>\n",
       "    </tr>\n",
       "    <tr>\n",
       "      <th>left</th>\n",
       "      <th></th>\n",
       "      <th></th>\n",
       "      <th></th>\n",
       "      <th></th>\n",
       "      <th></th>\n",
       "      <th></th>\n",
       "      <th></th>\n",
       "      <th></th>\n",
       "      <th></th>\n",
       "      <th></th>\n",
       "      <th></th>\n",
       "      <th></th>\n",
       "      <th></th>\n",
       "      <th></th>\n",
       "      <th></th>\n",
       "      <th></th>\n",
       "      <th></th>\n",
       "      <th></th>\n",
       "      <th></th>\n",
       "      <th></th>\n",
       "      <th></th>\n",
       "    </tr>\n",
       "  </thead>\n",
       "  <tbody>\n",
       "    <tr>\n",
       "      <th>0</th>\n",
       "      <td>0.0</td>\n",
       "      <td>0.0</td>\n",
       "      <td>0.0</td>\n",
       "      <td>26.0</td>\n",
       "      <td>51.0</td>\n",
       "      <td>63.0</td>\n",
       "      <td>73.0</td>\n",
       "      <td>78.0</td>\n",
       "      <td>67.0</td>\n",
       "      <td>63.0</td>\n",
       "      <td>...</td>\n",
       "      <td>178.0</td>\n",
       "      <td>169.0</td>\n",
       "      <td>167.0</td>\n",
       "      <td>181.0</td>\n",
       "      <td>203.0</td>\n",
       "      <td>176.0</td>\n",
       "      <td>183.0</td>\n",
       "      <td>172.0</td>\n",
       "      <td>111.0</td>\n",
       "      <td>11428.0</td>\n",
       "    </tr>\n",
       "    <tr>\n",
       "      <th>1</th>\n",
       "      <td>195.0</td>\n",
       "      <td>358.0</td>\n",
       "      <td>335.0</td>\n",
       "      <td>4.0</td>\n",
       "      <td>3.0</td>\n",
       "      <td>10.0</td>\n",
       "      <td>3.0</td>\n",
       "      <td>1.0</td>\n",
       "      <td>5.0</td>\n",
       "      <td>0.0</td>\n",
       "      <td>...</td>\n",
       "      <td>20.0</td>\n",
       "      <td>0.0</td>\n",
       "      <td>0.0</td>\n",
       "      <td>0.0</td>\n",
       "      <td>0.0</td>\n",
       "      <td>0.0</td>\n",
       "      <td>0.0</td>\n",
       "      <td>0.0</td>\n",
       "      <td>0.0</td>\n",
       "      <td>3571.0</td>\n",
       "    </tr>\n",
       "  </tbody>\n",
       "</table>\n",
       "<p>2 rows × 93 columns</p>\n",
       "</div>"
      ],
      "text/plain": [
       "satisfaction_level   0.09    0.1   0.11  0.12  0.13  0.14  0.15  0.16  0.17  \\\n",
       "left                                                                          \n",
       "0                     0.0    0.0    0.0  26.0  51.0  63.0  73.0  78.0  67.0   \n",
       "1                   195.0  358.0  335.0   4.0   3.0  10.0   3.0   1.0   5.0   \n",
       "\n",
       "satisfaction_level  0.18  ...   0.92   0.93   0.94   0.95   0.96   0.97  \\\n",
       "left                      ...                                             \n",
       "0                   63.0  ...  178.0  169.0  167.0  181.0  203.0  176.0   \n",
       "1                    0.0  ...   20.0    0.0    0.0    0.0    0.0    0.0   \n",
       "\n",
       "satisfaction_level   0.98   0.99    1.0  number_of_people  \n",
       "left                                                       \n",
       "0                   183.0  172.0  111.0           11428.0  \n",
       "1                     0.0    0.0    0.0            3571.0  \n",
       "\n",
       "[2 rows x 93 columns]"
      ]
     },
     "execution_count": 504,
     "metadata": {},
     "output_type": "execute_result"
    }
   ],
   "source": [
    "# Далее мы рассчитываем датафоейм по общему количеству людей в разрезе удовлетворенности на уволившихся и не уволившихся \n",
    "# - делаем это с помощью расчетов в датафрейме (столбец number)\n",
    "df_HR_left_satisfied_pivot = df_HR_left.pivot_table(index='left', columns='satisfaction_level', values='counter_satisfaction', aggfunc='sum').fillna(0)\n",
    "df_HR_left_satisfied_pivot['number_of_people']=df_HR_left_satisfied_pivot.sum(axis=1)\n",
    "df_HR_left_satisfied_pivot"
   ]
  },
  {
   "cell_type": "code",
   "execution_count": 505,
   "id": "89c6c524",
   "metadata": {},
   "outputs": [
    {
     "data": {
      "text/html": [
       "<div>\n",
       "<style scoped>\n",
       "    .dataframe tbody tr th:only-of-type {\n",
       "        vertical-align: middle;\n",
       "    }\n",
       "\n",
       "    .dataframe tbody tr th {\n",
       "        vertical-align: top;\n",
       "    }\n",
       "\n",
       "    .dataframe thead th {\n",
       "        text-align: right;\n",
       "    }\n",
       "</style>\n",
       "<table border=\"1\" class=\"dataframe\">\n",
       "  <thead>\n",
       "    <tr style=\"text-align: right;\">\n",
       "      <th>satisfaction_level</th>\n",
       "      <th>number_of_people</th>\n",
       "    </tr>\n",
       "    <tr>\n",
       "      <th>left</th>\n",
       "      <th></th>\n",
       "    </tr>\n",
       "  </thead>\n",
       "  <tbody>\n",
       "    <tr>\n",
       "      <th>0</th>\n",
       "      <td>11428.0</td>\n",
       "    </tr>\n",
       "    <tr>\n",
       "      <th>1</th>\n",
       "      <td>3571.0</td>\n",
       "    </tr>\n",
       "  </tbody>\n",
       "</table>\n",
       "</div>"
      ],
      "text/plain": [
       "satisfaction_level  number_of_people\n",
       "left                                \n",
       "0                            11428.0\n",
       "1                             3571.0"
      ]
     },
     "execution_count": 505,
     "metadata": {},
     "output_type": "execute_result"
    }
   ],
   "source": [
    "# Для наглядности уменьшаем наш датафрейм, оставляя только количество людей в разрезе условия (уволился (1) или не уволился(0))\n",
    "df_HR_left_satisfied_pivot_filtered = df_HR_left_satisfied_pivot.filter(items=['left','number_of_people'])\n",
    "df_HR_left_satisfied_pivot_filtered"
   ]
  },
  {
   "cell_type": "code",
   "execution_count": 506,
   "id": "f9ad3387",
   "metadata": {},
   "outputs": [
    {
     "data": {
      "text/html": [
       "<div>\n",
       "<style scoped>\n",
       "    .dataframe tbody tr th:only-of-type {\n",
       "        vertical-align: middle;\n",
       "    }\n",
       "\n",
       "    .dataframe tbody tr th {\n",
       "        vertical-align: top;\n",
       "    }\n",
       "\n",
       "    .dataframe thead th {\n",
       "        text-align: right;\n",
       "    }\n",
       "</style>\n",
       "<table border=\"1\" class=\"dataframe\">\n",
       "  <thead>\n",
       "    <tr style=\"text-align: right;\">\n",
       "      <th></th>\n",
       "      <th>1</th>\n",
       "      <th>number_of_people</th>\n",
       "    </tr>\n",
       "    <tr>\n",
       "      <th>left</th>\n",
       "      <th></th>\n",
       "      <th></th>\n",
       "    </tr>\n",
       "  </thead>\n",
       "  <tbody>\n",
       "    <tr>\n",
       "      <th>0</th>\n",
       "      <td>7620.30</td>\n",
       "      <td>11428.0</td>\n",
       "    </tr>\n",
       "    <tr>\n",
       "      <th>1</th>\n",
       "      <td>1571.59</td>\n",
       "      <td>3571.0</td>\n",
       "    </tr>\n",
       "  </tbody>\n",
       "</table>\n",
       "</div>"
      ],
      "text/plain": [
       "            1  number_of_people\n",
       "left                           \n",
       "0     7620.30           11428.0\n",
       "1     1571.59            3571.0"
      ]
     },
     "execution_count": 506,
     "metadata": {},
     "output_type": "execute_result"
    }
   ],
   "source": [
    "# Объединяем 2 получившихся датафрейма\n",
    "df_HR_left_satisfied_all= df_HR_left_pivot.merge(df_HR_left_satisfied_pivot_filtered, how ='left', on ='left')\n",
    "df_HR_left_satisfied_all"
   ]
  },
  {
   "cell_type": "code",
   "execution_count": 507,
   "id": "12168621",
   "metadata": {},
   "outputs": [
    {
     "data": {
      "text/html": [
       "<div>\n",
       "<style scoped>\n",
       "    .dataframe tbody tr th:only-of-type {\n",
       "        vertical-align: middle;\n",
       "    }\n",
       "\n",
       "    .dataframe tbody tr th {\n",
       "        vertical-align: top;\n",
       "    }\n",
       "\n",
       "    .dataframe thead th {\n",
       "        text-align: right;\n",
       "    }\n",
       "</style>\n",
       "<table border=\"1\" class=\"dataframe\">\n",
       "  <thead>\n",
       "    <tr style=\"text-align: right;\">\n",
       "      <th></th>\n",
       "      <th>number</th>\n",
       "      <th>number_of_people</th>\n",
       "    </tr>\n",
       "    <tr>\n",
       "      <th>left</th>\n",
       "      <th></th>\n",
       "      <th></th>\n",
       "    </tr>\n",
       "  </thead>\n",
       "  <tbody>\n",
       "    <tr>\n",
       "      <th>0</th>\n",
       "      <td>7620.30</td>\n",
       "      <td>11428.0</td>\n",
       "    </tr>\n",
       "    <tr>\n",
       "      <th>1</th>\n",
       "      <td>1571.59</td>\n",
       "      <td>3571.0</td>\n",
       "    </tr>\n",
       "  </tbody>\n",
       "</table>\n",
       "</div>"
      ],
      "text/plain": [
       "       number  number_of_people\n",
       "left                           \n",
       "0     7620.30           11428.0\n",
       "1     1571.59            3571.0"
      ]
     },
     "execution_count": 507,
     "metadata": {},
     "output_type": "execute_result"
    }
   ],
   "source": [
    "# Для облегчения восприятия меняем название столбцов\n",
    "df_HR_left_satisfied_all_2 = df_HR_left_satisfied_all.set_axis(['number','number_of_people' ], axis='columns', inplace=False)\n",
    "df_HR_left_satisfied_all_2"
   ]
  },
  {
   "cell_type": "code",
   "execution_count": 508,
   "id": "eaa01f53",
   "metadata": {},
   "outputs": [],
   "source": [
    "# Разрабатываем простую функцию применимую к 2-м столбцам датафрейма, используем apply\n",
    "def satisfaction_left_or_stayed(row):\n",
    "    return row['number']/row['number_of_people']"
   ]
  },
  {
   "cell_type": "code",
   "execution_count": 509,
   "id": "1f33a750",
   "metadata": {},
   "outputs": [
    {
     "data": {
      "text/html": [
       "<div>\n",
       "<style scoped>\n",
       "    .dataframe tbody tr th:only-of-type {\n",
       "        vertical-align: middle;\n",
       "    }\n",
       "\n",
       "    .dataframe tbody tr th {\n",
       "        vertical-align: top;\n",
       "    }\n",
       "\n",
       "    .dataframe thead th {\n",
       "        text-align: right;\n",
       "    }\n",
       "</style>\n",
       "<table border=\"1\" class=\"dataframe\">\n",
       "  <thead>\n",
       "    <tr style=\"text-align: right;\">\n",
       "      <th></th>\n",
       "      <th>number</th>\n",
       "      <th>number_of_people</th>\n",
       "      <th>satisfaction_percentage</th>\n",
       "    </tr>\n",
       "    <tr>\n",
       "      <th>left</th>\n",
       "      <th></th>\n",
       "      <th></th>\n",
       "      <th></th>\n",
       "    </tr>\n",
       "  </thead>\n",
       "  <tbody>\n",
       "    <tr>\n",
       "      <th>0</th>\n",
       "      <td>7620.30</td>\n",
       "      <td>11428.0</td>\n",
       "      <td>0.666810</td>\n",
       "    </tr>\n",
       "    <tr>\n",
       "      <th>1</th>\n",
       "      <td>1571.59</td>\n",
       "      <td>3571.0</td>\n",
       "      <td>0.440098</td>\n",
       "    </tr>\n",
       "  </tbody>\n",
       "</table>\n",
       "</div>"
      ],
      "text/plain": [
       "       number  number_of_people  satisfaction_percentage\n",
       "left                                                    \n",
       "0     7620.30           11428.0                 0.666810\n",
       "1     1571.59            3571.0                 0.440098"
      ]
     },
     "execution_count": 509,
     "metadata": {},
     "output_type": "execute_result"
    }
   ],
   "source": [
    "# Применяем функцию к датафрейму и получаем необходимые нам данные удовлетворенность в разрезе уводившихся и не уволившихся.\n",
    "df_HR_left_satisfied_all_2['satisfaction_percentage']=df_HR_left_satisfied_all_2.apply(satisfaction_left_or_stayed, axis=1)\n",
    "df_HR_left_satisfied_all_2.head()"
   ]
  },
  {
   "cell_type": "markdown",
   "id": "3fc65ad8",
   "metadata": {},
   "source": [
    "### ТАКИМ ОБРАЗОМ У НАС ПОЛУЧИЛОСЬ:\n",
    "### НЕ УВОЛИВШИЕСЯ: средняя удовлетворенность равна 0.66 (т.е. 66%)\n",
    "### УВОЛИВШИЕСЯ: средняя удовлетворенность равна 0.44 (т.е. 44%)"
   ]
  },
  {
   "cell_type": "code",
   "execution_count": 510,
   "id": "fc87b113",
   "metadata": {},
   "outputs": [
    {
     "data": {
      "text/html": [
       "<div>\n",
       "<style scoped>\n",
       "    .dataframe tbody tr th:only-of-type {\n",
       "        vertical-align: middle;\n",
       "    }\n",
       "\n",
       "    .dataframe tbody tr th {\n",
       "        vertical-align: top;\n",
       "    }\n",
       "\n",
       "    .dataframe thead th {\n",
       "        text-align: right;\n",
       "    }\n",
       "</style>\n",
       "<table border=\"1\" class=\"dataframe\">\n",
       "  <thead>\n",
       "    <tr style=\"text-align: right;\">\n",
       "      <th></th>\n",
       "      <th>satisfaction_level</th>\n",
       "      <th>number_project</th>\n",
       "      <th>left</th>\n",
       "    </tr>\n",
       "  </thead>\n",
       "  <tbody>\n",
       "    <tr>\n",
       "      <th>0</th>\n",
       "      <td>0.38</td>\n",
       "      <td>2</td>\n",
       "      <td>1</td>\n",
       "    </tr>\n",
       "    <tr>\n",
       "      <th>1</th>\n",
       "      <td>0.80</td>\n",
       "      <td>5</td>\n",
       "      <td>1</td>\n",
       "    </tr>\n",
       "    <tr>\n",
       "      <th>2</th>\n",
       "      <td>0.11</td>\n",
       "      <td>7</td>\n",
       "      <td>1</td>\n",
       "    </tr>\n",
       "    <tr>\n",
       "      <th>3</th>\n",
       "      <td>0.72</td>\n",
       "      <td>5</td>\n",
       "      <td>1</td>\n",
       "    </tr>\n",
       "    <tr>\n",
       "      <th>4</th>\n",
       "      <td>0.37</td>\n",
       "      <td>2</td>\n",
       "      <td>1</td>\n",
       "    </tr>\n",
       "  </tbody>\n",
       "</table>\n",
       "</div>"
      ],
      "text/plain": [
       "   satisfaction_level  number_project  left\n",
       "0                0.38               2     1\n",
       "1                0.80               5     1\n",
       "2                0.11               7     1\n",
       "3                0.72               5     1\n",
       "4                0.37               2     1"
      ]
     },
     "execution_count": 510,
     "metadata": {},
     "output_type": "execute_result"
    }
   ],
   "source": [
    "#Чтобы вычислить среднее количество проекто в разрезе уволившихся и не уволившихся надо отобрать необходимые столбцы\n",
    "\n",
    "df_HR_left_projects = df_HR.filter(items=['satisfaction_level','number_project','left'])\n",
    "df_HR_left_projects.head()"
   ]
  },
  {
   "cell_type": "code",
   "execution_count": 511,
   "id": "fda94ca7",
   "metadata": {},
   "outputs": [
    {
     "data": {
      "text/plain": [
       "number_project  left\n",
       "2               0        821\n",
       "                1       1567\n",
       "3               0       3983\n",
       "                1         72\n",
       "4               0       3956\n",
       "                1        409\n",
       "5               0       2149\n",
       "                1        612\n",
       "6               0        519\n",
       "                1        655\n",
       "7               1        256\n",
       "dtype: int64"
      ]
     },
     "execution_count": 511,
     "metadata": {},
     "output_type": "execute_result"
    }
   ],
   "source": [
    "# Среднее количество проектов\n",
    "# Рассчитаем сотрудников по количеству проектов\n",
    "df_HR_left_projects_quantity= df_HR_left_projects.groupby(['number_project','left']).size() \n",
    "df_HR_left_projects_quantity.head(30)"
   ]
  },
  {
   "cell_type": "code",
   "execution_count": 512,
   "id": "edff7491",
   "metadata": {},
   "outputs": [
    {
     "data": {
      "text/html": [
       "<div>\n",
       "<style scoped>\n",
       "    .dataframe tbody tr th:only-of-type {\n",
       "        vertical-align: middle;\n",
       "    }\n",
       "\n",
       "    .dataframe tbody tr th {\n",
       "        vertical-align: top;\n",
       "    }\n",
       "\n",
       "    .dataframe thead th {\n",
       "        text-align: right;\n",
       "    }\n",
       "</style>\n",
       "<table border=\"1\" class=\"dataframe\">\n",
       "  <thead>\n",
       "    <tr style=\"text-align: right;\">\n",
       "      <th></th>\n",
       "      <th>satisfaction_level</th>\n",
       "      <th>number_project</th>\n",
       "      <th>left</th>\n",
       "      <th>counter_projects</th>\n",
       "    </tr>\n",
       "  </thead>\n",
       "  <tbody>\n",
       "    <tr>\n",
       "      <th>0</th>\n",
       "      <td>0.38</td>\n",
       "      <td>2</td>\n",
       "      <td>1</td>\n",
       "      <td>1</td>\n",
       "    </tr>\n",
       "    <tr>\n",
       "      <th>1</th>\n",
       "      <td>0.80</td>\n",
       "      <td>5</td>\n",
       "      <td>1</td>\n",
       "      <td>1</td>\n",
       "    </tr>\n",
       "    <tr>\n",
       "      <th>2</th>\n",
       "      <td>0.11</td>\n",
       "      <td>7</td>\n",
       "      <td>1</td>\n",
       "      <td>1</td>\n",
       "    </tr>\n",
       "    <tr>\n",
       "      <th>3</th>\n",
       "      <td>0.72</td>\n",
       "      <td>5</td>\n",
       "      <td>1</td>\n",
       "      <td>1</td>\n",
       "    </tr>\n",
       "    <tr>\n",
       "      <th>4</th>\n",
       "      <td>0.37</td>\n",
       "      <td>2</td>\n",
       "      <td>1</td>\n",
       "      <td>1</td>\n",
       "    </tr>\n",
       "  </tbody>\n",
       "</table>\n",
       "</div>"
      ],
      "text/plain": [
       "   satisfaction_level  number_project  left  counter_projects\n",
       "0                0.38               2     1                 1\n",
       "1                0.80               5     1                 1\n",
       "2                0.11               7     1                 1\n",
       "3                0.72               5     1                 1\n",
       "4                0.37               2     1                 1"
      ]
     },
     "execution_count": 512,
     "metadata": {},
     "output_type": "execute_result"
    }
   ],
   "source": [
    "# Создаем отдельный счетчик проектов в разрезе уволившихся(1) или не уволившихся(0)\n",
    "df_HR_left_projects['counter_projects'] = 1\n",
    "df_HR_left_projects.head()"
   ]
  },
  {
   "cell_type": "code",
   "execution_count": 513,
   "id": "9e7b171b",
   "metadata": {},
   "outputs": [
    {
     "data": {
      "text/html": [
       "<div>\n",
       "<style scoped>\n",
       "    .dataframe tbody tr th:only-of-type {\n",
       "        vertical-align: middle;\n",
       "    }\n",
       "\n",
       "    .dataframe tbody tr th {\n",
       "        vertical-align: top;\n",
       "    }\n",
       "\n",
       "    .dataframe thead th {\n",
       "        text-align: right;\n",
       "    }\n",
       "</style>\n",
       "<table border=\"1\" class=\"dataframe\">\n",
       "  <thead>\n",
       "    <tr style=\"text-align: right;\">\n",
       "      <th>counter_projects</th>\n",
       "      <th>1</th>\n",
       "    </tr>\n",
       "    <tr>\n",
       "      <th>left</th>\n",
       "      <th></th>\n",
       "    </tr>\n",
       "  </thead>\n",
       "  <tbody>\n",
       "    <tr>\n",
       "      <th>0</th>\n",
       "      <td>43274</td>\n",
       "    </tr>\n",
       "    <tr>\n",
       "      <th>1</th>\n",
       "      <td>13768</td>\n",
       "    </tr>\n",
       "  </tbody>\n",
       "</table>\n",
       "</div>"
      ],
      "text/plain": [
       "counter_projects      1\n",
       "left                   \n",
       "0                 43274\n",
       "1                 13768"
      ]
     },
     "execution_count": 513,
     "metadata": {},
     "output_type": "execute_result"
    }
   ],
   "source": [
    "df_HR_left_projects_pivot = df_HR_left_projects.pivot_table(index='left', columns='counter_projects', values='number_project', aggfunc='sum').fillna(0)\n",
    "df_HR_left_projects_pivot.head(5)"
   ]
  },
  {
   "cell_type": "code",
   "execution_count": 514,
   "id": "c6cfd9c4",
   "metadata": {},
   "outputs": [
    {
     "data": {
      "text/plain": [
       "0    11428\n",
       "1     3571\n",
       "Name: left, dtype: int64"
      ]
     },
     "execution_count": 514,
     "metadata": {},
     "output_type": "execute_result"
    }
   ],
   "source": [
    "# Нам уже изсестно, сколько человек уволилось и сколько не уволилось, но можем повторить рассчеты \n",
    "# Это можно проверить посредством value.counts()\n",
    "df_HR_left_projects['left'].value_counts()"
   ]
  },
  {
   "cell_type": "code",
   "execution_count": 515,
   "id": "4acf04a5",
   "metadata": {},
   "outputs": [
    {
     "data": {
      "text/html": [
       "<div>\n",
       "<style scoped>\n",
       "    .dataframe tbody tr th:only-of-type {\n",
       "        vertical-align: middle;\n",
       "    }\n",
       "\n",
       "    .dataframe tbody tr th {\n",
       "        vertical-align: top;\n",
       "    }\n",
       "\n",
       "    .dataframe thead th {\n",
       "        text-align: right;\n",
       "    }\n",
       "</style>\n",
       "<table border=\"1\" class=\"dataframe\">\n",
       "  <thead>\n",
       "    <tr style=\"text-align: right;\">\n",
       "      <th>satisfaction_level</th>\n",
       "      <th>number_of_people</th>\n",
       "    </tr>\n",
       "    <tr>\n",
       "      <th>left</th>\n",
       "      <th></th>\n",
       "    </tr>\n",
       "  </thead>\n",
       "  <tbody>\n",
       "    <tr>\n",
       "      <th>0</th>\n",
       "      <td>11428.0</td>\n",
       "    </tr>\n",
       "    <tr>\n",
       "      <th>1</th>\n",
       "      <td>3571.0</td>\n",
       "    </tr>\n",
       "  </tbody>\n",
       "</table>\n",
       "</div>"
      ],
      "text/plain": [
       "satisfaction_level  number_of_people\n",
       "left                                \n",
       "0                            11428.0\n",
       "1                             3571.0"
      ]
     },
     "execution_count": 515,
     "metadata": {},
     "output_type": "execute_result"
    }
   ],
   "source": [
    "# И у нас даже уже есть мини-датафрейм с этими данными, вот он:\n",
    "df_HR_left_satisfied_pivot_filtered"
   ]
  },
  {
   "cell_type": "code",
   "execution_count": 516,
   "id": "2f1500a8",
   "metadata": {},
   "outputs": [
    {
     "data": {
      "text/html": [
       "<div>\n",
       "<style scoped>\n",
       "    .dataframe tbody tr th:only-of-type {\n",
       "        vertical-align: middle;\n",
       "    }\n",
       "\n",
       "    .dataframe tbody tr th {\n",
       "        vertical-align: top;\n",
       "    }\n",
       "\n",
       "    .dataframe thead th {\n",
       "        text-align: right;\n",
       "    }\n",
       "</style>\n",
       "<table border=\"1\" class=\"dataframe\">\n",
       "  <thead>\n",
       "    <tr style=\"text-align: right;\">\n",
       "      <th></th>\n",
       "      <th>1</th>\n",
       "      <th>number_of_people</th>\n",
       "    </tr>\n",
       "    <tr>\n",
       "      <th>left</th>\n",
       "      <th></th>\n",
       "      <th></th>\n",
       "    </tr>\n",
       "  </thead>\n",
       "  <tbody>\n",
       "    <tr>\n",
       "      <th>0</th>\n",
       "      <td>43274</td>\n",
       "      <td>11428.0</td>\n",
       "    </tr>\n",
       "    <tr>\n",
       "      <th>1</th>\n",
       "      <td>13768</td>\n",
       "      <td>3571.0</td>\n",
       "    </tr>\n",
       "  </tbody>\n",
       "</table>\n",
       "</div>"
      ],
      "text/plain": [
       "          1  number_of_people\n",
       "left                         \n",
       "0     43274           11428.0\n",
       "1     13768            3571.0"
      ]
     },
     "execution_count": 516,
     "metadata": {},
     "output_type": "execute_result"
    }
   ],
   "source": [
    "# Склеиваем датафреймы:\n",
    "df_HR_left_projects_all= df_HR_left_projects_pivot.merge(df_HR_left_satisfied_pivot_filtered, how ='left', on ='left')\n",
    "df_HR_left_projects_all"
   ]
  },
  {
   "cell_type": "code",
   "execution_count": 517,
   "id": "99244ab9",
   "metadata": {},
   "outputs": [
    {
     "data": {
      "text/html": [
       "<div>\n",
       "<style scoped>\n",
       "    .dataframe tbody tr th:only-of-type {\n",
       "        vertical-align: middle;\n",
       "    }\n",
       "\n",
       "    .dataframe tbody tr th {\n",
       "        vertical-align: top;\n",
       "    }\n",
       "\n",
       "    .dataframe thead th {\n",
       "        text-align: right;\n",
       "    }\n",
       "</style>\n",
       "<table border=\"1\" class=\"dataframe\">\n",
       "  <thead>\n",
       "    <tr style=\"text-align: right;\">\n",
       "      <th></th>\n",
       "      <th>number_of_projects</th>\n",
       "      <th>number_of_people_2</th>\n",
       "    </tr>\n",
       "    <tr>\n",
       "      <th>left</th>\n",
       "      <th></th>\n",
       "      <th></th>\n",
       "    </tr>\n",
       "  </thead>\n",
       "  <tbody>\n",
       "    <tr>\n",
       "      <th>0</th>\n",
       "      <td>43274</td>\n",
       "      <td>11428.0</td>\n",
       "    </tr>\n",
       "    <tr>\n",
       "      <th>1</th>\n",
       "      <td>13768</td>\n",
       "      <td>3571.0</td>\n",
       "    </tr>\n",
       "  </tbody>\n",
       "</table>\n",
       "</div>"
      ],
      "text/plain": [
       "      number_of_projects  number_of_people_2\n",
       "left                                        \n",
       "0                  43274             11428.0\n",
       "1                  13768              3571.0"
      ]
     },
     "execution_count": 517,
     "metadata": {},
     "output_type": "execute_result"
    }
   ],
   "source": [
    "# Для облегчения восприятия меняем название столбцов\n",
    "df_HR_left_projects_all_2 = df_HR_left_projects_all.set_axis(['number_of_projects','number_of_people_2' ], axis='columns', inplace=False)\n",
    "df_HR_left_projects_all_2"
   ]
  },
  {
   "cell_type": "code",
   "execution_count": 518,
   "id": "54a9ce54",
   "metadata": {},
   "outputs": [],
   "source": [
    "# Разрабатываем простую функцию применимую к 2-м столбцам датафрейма, используем apply\n",
    "def projects_left_or_stayed(row):\n",
    "    return row['number_of_projects']/row['number_of_people_2']"
   ]
  },
  {
   "cell_type": "code",
   "execution_count": 519,
   "id": "3263640a",
   "metadata": {},
   "outputs": [
    {
     "data": {
      "text/html": [
       "<div>\n",
       "<style scoped>\n",
       "    .dataframe tbody tr th:only-of-type {\n",
       "        vertical-align: middle;\n",
       "    }\n",
       "\n",
       "    .dataframe tbody tr th {\n",
       "        vertical-align: top;\n",
       "    }\n",
       "\n",
       "    .dataframe thead th {\n",
       "        text-align: right;\n",
       "    }\n",
       "</style>\n",
       "<table border=\"1\" class=\"dataframe\">\n",
       "  <thead>\n",
       "    <tr style=\"text-align: right;\">\n",
       "      <th></th>\n",
       "      <th>number_of_projects</th>\n",
       "      <th>number_of_people_2</th>\n",
       "      <th>average_projects</th>\n",
       "    </tr>\n",
       "    <tr>\n",
       "      <th>left</th>\n",
       "      <th></th>\n",
       "      <th></th>\n",
       "      <th></th>\n",
       "    </tr>\n",
       "  </thead>\n",
       "  <tbody>\n",
       "    <tr>\n",
       "      <th>0</th>\n",
       "      <td>43274</td>\n",
       "      <td>11428.0</td>\n",
       "      <td>3.786664</td>\n",
       "    </tr>\n",
       "    <tr>\n",
       "      <th>1</th>\n",
       "      <td>13768</td>\n",
       "      <td>3571.0</td>\n",
       "      <td>3.855503</td>\n",
       "    </tr>\n",
       "  </tbody>\n",
       "</table>\n",
       "</div>"
      ],
      "text/plain": [
       "      number_of_projects  number_of_people_2  average_projects\n",
       "left                                                          \n",
       "0                  43274             11428.0          3.786664\n",
       "1                  13768              3571.0          3.855503"
      ]
     },
     "execution_count": 519,
     "metadata": {},
     "output_type": "execute_result"
    }
   ],
   "source": [
    "# Применяем функцию к датафрейму и получаем необходимые нам данные среднее колличество проектов в разрезе уволившихся и не уволившихся.\n",
    "df_HR_left_projects_all_2['average_projects']=df_HR_left_projects_all_2.apply(projects_left_or_stayed, axis=1)\n",
    "df_HR_left_projects_all_2.head()"
   ]
  },
  {
   "cell_type": "markdown",
   "id": "9c1b9fe8",
   "metadata": {},
   "source": [
    "### ТАКИМ ОБРАЗОМ У НАС ПОЛУЧИЛОСЬ:\n",
    "### НЕ УВОЛИВШИЕСЯ: среднее количество проектов на одного сотрудника равно 3,78 проекта\n",
    "### УВОЛИВШИЕСЯ: среднее количество проектов на одного сотрудника равно 3,85 проекта"
   ]
  },
  {
   "cell_type": "markdown",
   "id": "41bb84e8",
   "metadata": {},
   "source": [
    "# Разделим данные на тестовую и обучающую выборки\n",
    "# Построить модель LDA, предсказывающую уволился ли сотрудник на основе имеющихся факторов (кроме department и salary) \n",
    "# Оценим качество модели на тестовой выборки (20 баллов)"
   ]
  },
  {
   "cell_type": "code",
   "execution_count": 520,
   "id": "d11aa9d5",
   "metadata": {},
   "outputs": [
    {
     "name": "stdout",
     "output_type": "stream",
     "text": [
      "<class 'pandas.core.frame.DataFrame'>\n",
      "RangeIndex: 14999 entries, 0 to 14998\n",
      "Data columns (total 11 columns):\n",
      " #   Column                 Non-Null Count  Dtype  \n",
      "---  ------                 --------------  -----  \n",
      " 0   satisfaction_level     14999 non-null  float64\n",
      " 1   last_evaluation        14999 non-null  float64\n",
      " 2   number_project         14999 non-null  int64  \n",
      " 3   average_montly_hours   14999 non-null  int64  \n",
      " 4   time_spend_company     14999 non-null  int64  \n",
      " 5   Work_accident          14999 non-null  int64  \n",
      " 6   left                   14999 non-null  int64  \n",
      " 7   promotion_last_5years  14999 non-null  int64  \n",
      " 8   department             14999 non-null  object \n",
      " 9   salary                 14999 non-null  object \n",
      " 10  collegue               14999 non-null  int64  \n",
      "dtypes: float64(2), int64(7), object(2)\n",
      "memory usage: 1.3+ MB\n"
     ]
    }
   ],
   "source": [
    "# Еще раз вспомним, какие метрики у нас есть:\n",
    "df_HR.info()"
   ]
  },
  {
   "cell_type": "code",
   "execution_count": 521,
   "id": "06b36112",
   "metadata": {},
   "outputs": [
    {
     "name": "stdout",
     "output_type": "stream",
     "text": [
      "Уникальные значения - уволился или нет: 0 остался, 1 - уволился: [1 0]\n",
      "Уникальные значения - уровень удовлетворенности: [0.38 0.8  0.11 0.72 0.37 0.41 0.1  0.92 0.89 0.42 0.45 0.84 0.36 0.78\n",
      " 0.76 0.09 0.46 0.4  0.82 0.87 0.57 0.43 0.13 0.44 0.39 0.85 0.81 0.9\n",
      " 0.74 0.79 0.17 0.24 0.91 0.71 0.86 0.14 0.75 0.7  0.31 0.73 0.83 0.32\n",
      " 0.54 0.27 0.77 0.88 0.48 0.19 0.6  0.12 0.61 0.33 0.56 0.47 0.28 0.55\n",
      " 0.53 0.59 0.66 0.25 0.34 0.58 0.51 0.35 0.64 0.5  0.23 0.15 0.49 0.3\n",
      " 0.63 0.21 0.62 0.29 0.2  0.16 0.65 0.68 0.67 0.22 0.26 0.99 0.98 1.\n",
      " 0.52 0.93 0.97 0.69 0.94 0.96 0.18 0.95]\n",
      "Уникальные значения - последняя проверка (в годах): [0.53 0.86 0.88 0.87 0.52 0.5  0.77 0.85 1.   0.54 0.81 0.92 0.55 0.56\n",
      " 0.47 0.99 0.51 0.89 0.83 0.95 0.57 0.49 0.46 0.62 0.94 0.48 0.8  0.74\n",
      " 0.7  0.78 0.91 0.93 0.98 0.97 0.79 0.59 0.84 0.45 0.96 0.68 0.82 0.9\n",
      " 0.71 0.6  0.65 0.58 0.72 0.67 0.75 0.73 0.63 0.61 0.76 0.66 0.69 0.37\n",
      " 0.64 0.39 0.41 0.43 0.44 0.36 0.38 0.4  0.42]\n",
      "Уникальные значения - количество проектов на человека: [2 5 7 6 4 3]\n",
      "Уникальные значения - количество лет в компании: [ 3  6  4  5  2  8 10  7]\n",
      "Уникальные значения - 0 не было инцидентов на работе, 1 - были инциденты на работе: [0 1]\n",
      "Уникальные значения - количество рабочих часов в месяц: [157 262 272 223 159 153 247 259 224 142 135 305 234 148 137 143 160 255\n",
      " 282 147 304 139 158 242 239 128 132 294 134 145 140 246 126 306 152 269\n",
      " 127 281 276 182 273 307 309 225 226 308 244 286 161 264 277 275 149 295\n",
      " 151 249 291 232 130 129 155 265 279 284 221 154 150 267 257 177 144 289\n",
      " 258 263 251 133 216 300 138 260 183 250 292 283 245 256 278 240 136 301\n",
      " 243 296 274 164 146 261 285 141 297 156 287 219 254 228 131 252 236 270\n",
      " 298 192 248 266 238 229 233 268 231 253 302 271 290 235 293 241 218 199\n",
      " 180 195 237 227 172 206 181 217 310 214 198 211 222 213 202 184 204 288\n",
      " 220 299 303 212 196 179 205 230 203 280 169 188 178 175 166 163 168 165\n",
      " 189 162 215 193 176 191 174 201 208 171 111 104 106 100 194 209 185 200\n",
      " 207 187 210 186 167 108 122 110 115 197 102 109 190  99 101  97 173 121\n",
      " 170 105 118 119 117 114  96  98 107 123 116 125 113 120 112 124 103]\n",
      "Уникальные значения - 0 не было повышения, 1 - было повышение: [0 1]\n"
     ]
    }
   ],
   "source": [
    "# Знакомлюсь со всеми уникальными значениями столбцов (просто так, для себя):\n",
    "print('Уникальные значения - уволился или нет: 0 остался, 1 - уволился:', df_HR_LDA['left'].unique())\n",
    "print('Уникальные значения - уровень удовлетворенности:',df_HR_LDA['satisfaction_level'].unique())\n",
    "print('Уникальные значения - последняя проверка (в годах):',df_HR_LDA['last_evaluation'].unique())\n",
    "print('Уникальные значения - количество проектов на человека:',df_HR_LDA['number_project'].unique())\n",
    "print('Уникальные значения - количество лет в компании:',df_HR_LDA['time_spend_company'].unique()) \n",
    "print('Уникальные значения - 0 не было инцидентов на работе, 1 - были инциденты на работе:',df_HR_LDA['Work_accident'].unique())\n",
    "print('Уникальные значения - количество рабочих часов в месяц:',df_HR_LDA['average_montly_hours'].unique())\n",
    "print('Уникальные значения - 0 не было повышения, 1 - было повышение:',df_HR_LDA['promotion_last_5years'].unique())"
   ]
  },
  {
   "cell_type": "code",
   "execution_count": 522,
   "id": "8c945cc0",
   "metadata": {},
   "outputs": [
    {
     "data": {
      "text/html": [
       "<div>\n",
       "<style scoped>\n",
       "    .dataframe tbody tr th:only-of-type {\n",
       "        vertical-align: middle;\n",
       "    }\n",
       "\n",
       "    .dataframe tbody tr th {\n",
       "        vertical-align: top;\n",
       "    }\n",
       "\n",
       "    .dataframe thead th {\n",
       "        text-align: right;\n",
       "    }\n",
       "</style>\n",
       "<table border=\"1\" class=\"dataframe\">\n",
       "  <thead>\n",
       "    <tr style=\"text-align: right;\">\n",
       "      <th></th>\n",
       "      <th>satisfaction_level</th>\n",
       "      <th>last_evaluation</th>\n",
       "      <th>number_project</th>\n",
       "      <th>average_montly_hours</th>\n",
       "      <th>time_spend_company</th>\n",
       "      <th>Work_accident</th>\n",
       "      <th>left</th>\n",
       "      <th>promotion_last_5years</th>\n",
       "    </tr>\n",
       "  </thead>\n",
       "  <tbody>\n",
       "    <tr>\n",
       "      <th>0</th>\n",
       "      <td>0.38</td>\n",
       "      <td>0.53</td>\n",
       "      <td>2</td>\n",
       "      <td>157</td>\n",
       "      <td>3</td>\n",
       "      <td>0</td>\n",
       "      <td>1</td>\n",
       "      <td>0</td>\n",
       "    </tr>\n",
       "    <tr>\n",
       "      <th>1</th>\n",
       "      <td>0.80</td>\n",
       "      <td>0.86</td>\n",
       "      <td>5</td>\n",
       "      <td>262</td>\n",
       "      <td>6</td>\n",
       "      <td>0</td>\n",
       "      <td>1</td>\n",
       "      <td>0</td>\n",
       "    </tr>\n",
       "    <tr>\n",
       "      <th>2</th>\n",
       "      <td>0.11</td>\n",
       "      <td>0.88</td>\n",
       "      <td>7</td>\n",
       "      <td>272</td>\n",
       "      <td>4</td>\n",
       "      <td>0</td>\n",
       "      <td>1</td>\n",
       "      <td>0</td>\n",
       "    </tr>\n",
       "    <tr>\n",
       "      <th>3</th>\n",
       "      <td>0.72</td>\n",
       "      <td>0.87</td>\n",
       "      <td>5</td>\n",
       "      <td>223</td>\n",
       "      <td>5</td>\n",
       "      <td>0</td>\n",
       "      <td>1</td>\n",
       "      <td>0</td>\n",
       "    </tr>\n",
       "    <tr>\n",
       "      <th>4</th>\n",
       "      <td>0.37</td>\n",
       "      <td>0.52</td>\n",
       "      <td>2</td>\n",
       "      <td>159</td>\n",
       "      <td>3</td>\n",
       "      <td>0</td>\n",
       "      <td>1</td>\n",
       "      <td>0</td>\n",
       "    </tr>\n",
       "  </tbody>\n",
       "</table>\n",
       "</div>"
      ],
      "text/plain": [
       "   satisfaction_level  last_evaluation  number_project  average_montly_hours  \\\n",
       "0                0.38             0.53               2                   157   \n",
       "1                0.80             0.86               5                   262   \n",
       "2                0.11             0.88               7                   272   \n",
       "3                0.72             0.87               5                   223   \n",
       "4                0.37             0.52               2                   159   \n",
       "\n",
       "   time_spend_company  Work_accident  left  promotion_last_5years  \n",
       "0                   3              0     1                      0  \n",
       "1                   6              0     1                      0  \n",
       "2                   4              0     1                      0  \n",
       "3                   5              0     1                      0  \n",
       "4                   3              0     1                      0  "
      ]
     },
     "execution_count": 522,
     "metadata": {},
     "output_type": "execute_result"
    }
   ],
   "source": [
    "# создадим более удобный датасет для будущего построения модели lda\n",
    "data_lda = df_HR.drop(['department', 'salary','collegue'], axis=1)\n",
    "data_lda.head()"
   ]
  },
  {
   "cell_type": "code",
   "execution_count": 523,
   "id": "0d1f1db8",
   "metadata": {},
   "outputs": [],
   "source": [
    "from sklearn.linear_model import LogisticRegression\n",
    "from sklearn.model_selection import train_test_split\n",
    "from sklearn.discriminant_analysis import LinearDiscriminantAnalysis"
   ]
  },
  {
   "cell_type": "code",
   "execution_count": 524,
   "id": "3b0f98ea",
   "metadata": {},
   "outputs": [],
   "source": [
    "data_train, data_test = train_test_split(data_lda, test_size=0.2)\n",
    "lda = LinearDiscriminantAnalysis()"
   ]
  },
  {
   "cell_type": "code",
   "execution_count": 525,
   "id": "df4022cb",
   "metadata": {},
   "outputs": [
    {
     "data": {
      "text/html": [
       "<div>\n",
       "<style scoped>\n",
       "    .dataframe tbody tr th:only-of-type {\n",
       "        vertical-align: middle;\n",
       "    }\n",
       "\n",
       "    .dataframe tbody tr th {\n",
       "        vertical-align: top;\n",
       "    }\n",
       "\n",
       "    .dataframe thead th {\n",
       "        text-align: right;\n",
       "    }\n",
       "</style>\n",
       "<table border=\"1\" class=\"dataframe\">\n",
       "  <thead>\n",
       "    <tr style=\"text-align: right;\">\n",
       "      <th></th>\n",
       "      <th>satisfaction_level</th>\n",
       "      <th>last_evaluation</th>\n",
       "      <th>number_project</th>\n",
       "      <th>average_montly_hours</th>\n",
       "      <th>time_spend_company</th>\n",
       "      <th>Work_accident</th>\n",
       "      <th>left</th>\n",
       "      <th>promotion_last_5years</th>\n",
       "    </tr>\n",
       "  </thead>\n",
       "  <tbody>\n",
       "    <tr>\n",
       "      <th>7666</th>\n",
       "      <td>0.88</td>\n",
       "      <td>0.59</td>\n",
       "      <td>3</td>\n",
       "      <td>224</td>\n",
       "      <td>2</td>\n",
       "      <td>0</td>\n",
       "      <td>0</td>\n",
       "      <td>0</td>\n",
       "    </tr>\n",
       "    <tr>\n",
       "      <th>13172</th>\n",
       "      <td>0.94</td>\n",
       "      <td>0.52</td>\n",
       "      <td>5</td>\n",
       "      <td>133</td>\n",
       "      <td>3</td>\n",
       "      <td>0</td>\n",
       "      <td>0</td>\n",
       "      <td>0</td>\n",
       "    </tr>\n",
       "    <tr>\n",
       "      <th>10345</th>\n",
       "      <td>0.91</td>\n",
       "      <td>0.82</td>\n",
       "      <td>6</td>\n",
       "      <td>280</td>\n",
       "      <td>3</td>\n",
       "      <td>0</td>\n",
       "      <td>0</td>\n",
       "      <td>0</td>\n",
       "    </tr>\n",
       "    <tr>\n",
       "      <th>14654</th>\n",
       "      <td>0.81</td>\n",
       "      <td>0.98</td>\n",
       "      <td>5</td>\n",
       "      <td>245</td>\n",
       "      <td>5</td>\n",
       "      <td>0</td>\n",
       "      <td>1</td>\n",
       "      <td>0</td>\n",
       "    </tr>\n",
       "    <tr>\n",
       "      <th>5021</th>\n",
       "      <td>0.66</td>\n",
       "      <td>0.99</td>\n",
       "      <td>4</td>\n",
       "      <td>195</td>\n",
       "      <td>3</td>\n",
       "      <td>0</td>\n",
       "      <td>0</td>\n",
       "      <td>0</td>\n",
       "    </tr>\n",
       "    <tr>\n",
       "      <th>...</th>\n",
       "      <td>...</td>\n",
       "      <td>...</td>\n",
       "      <td>...</td>\n",
       "      <td>...</td>\n",
       "      <td>...</td>\n",
       "      <td>...</td>\n",
       "      <td>...</td>\n",
       "      <td>...</td>\n",
       "    </tr>\n",
       "    <tr>\n",
       "      <th>4292</th>\n",
       "      <td>0.50</td>\n",
       "      <td>0.97</td>\n",
       "      <td>4</td>\n",
       "      <td>269</td>\n",
       "      <td>3</td>\n",
       "      <td>0</td>\n",
       "      <td>0</td>\n",
       "      <td>0</td>\n",
       "    </tr>\n",
       "    <tr>\n",
       "      <th>7857</th>\n",
       "      <td>0.36</td>\n",
       "      <td>0.63</td>\n",
       "      <td>2</td>\n",
       "      <td>278</td>\n",
       "      <td>4</td>\n",
       "      <td>0</td>\n",
       "      <td>0</td>\n",
       "      <td>0</td>\n",
       "    </tr>\n",
       "    <tr>\n",
       "      <th>6280</th>\n",
       "      <td>0.77</td>\n",
       "      <td>0.48</td>\n",
       "      <td>4</td>\n",
       "      <td>258</td>\n",
       "      <td>4</td>\n",
       "      <td>1</td>\n",
       "      <td>0</td>\n",
       "      <td>0</td>\n",
       "    </tr>\n",
       "    <tr>\n",
       "      <th>6320</th>\n",
       "      <td>0.64</td>\n",
       "      <td>0.81</td>\n",
       "      <td>2</td>\n",
       "      <td>226</td>\n",
       "      <td>2</td>\n",
       "      <td>0</td>\n",
       "      <td>0</td>\n",
       "      <td>0</td>\n",
       "    </tr>\n",
       "    <tr>\n",
       "      <th>9920</th>\n",
       "      <td>0.54</td>\n",
       "      <td>0.83</td>\n",
       "      <td>3</td>\n",
       "      <td>201</td>\n",
       "      <td>3</td>\n",
       "      <td>0</td>\n",
       "      <td>0</td>\n",
       "      <td>0</td>\n",
       "    </tr>\n",
       "  </tbody>\n",
       "</table>\n",
       "<p>11999 rows × 8 columns</p>\n",
       "</div>"
      ],
      "text/plain": [
       "       satisfaction_level  last_evaluation  number_project  \\\n",
       "7666                 0.88             0.59               3   \n",
       "13172                0.94             0.52               5   \n",
       "10345                0.91             0.82               6   \n",
       "14654                0.81             0.98               5   \n",
       "5021                 0.66             0.99               4   \n",
       "...                   ...              ...             ...   \n",
       "4292                 0.50             0.97               4   \n",
       "7857                 0.36             0.63               2   \n",
       "6280                 0.77             0.48               4   \n",
       "6320                 0.64             0.81               2   \n",
       "9920                 0.54             0.83               3   \n",
       "\n",
       "       average_montly_hours  time_spend_company  Work_accident  left  \\\n",
       "7666                    224                   2              0     0   \n",
       "13172                   133                   3              0     0   \n",
       "10345                   280                   3              0     0   \n",
       "14654                   245                   5              0     1   \n",
       "5021                    195                   3              0     0   \n",
       "...                     ...                 ...            ...   ...   \n",
       "4292                    269                   3              0     0   \n",
       "7857                    278                   4              0     0   \n",
       "6280                    258                   4              1     0   \n",
       "6320                    226                   2              0     0   \n",
       "9920                    201                   3              0     0   \n",
       "\n",
       "       promotion_last_5years  \n",
       "7666                       0  \n",
       "13172                      0  \n",
       "10345                      0  \n",
       "14654                      0  \n",
       "5021                       0  \n",
       "...                      ...  \n",
       "4292                       0  \n",
       "7857                       0  \n",
       "6280                       0  \n",
       "6320                       0  \n",
       "9920                       0  \n",
       "\n",
       "[11999 rows x 8 columns]"
      ]
     },
     "execution_count": 525,
     "metadata": {},
     "output_type": "execute_result"
    }
   ],
   "source": [
    "data_train"
   ]
  },
  {
   "cell_type": "code",
   "execution_count": 526,
   "id": "ba0e90aa",
   "metadata": {},
   "outputs": [
    {
     "data": {
      "text/html": [
       "<div>\n",
       "<style scoped>\n",
       "    .dataframe tbody tr th:only-of-type {\n",
       "        vertical-align: middle;\n",
       "    }\n",
       "\n",
       "    .dataframe tbody tr th {\n",
       "        vertical-align: top;\n",
       "    }\n",
       "\n",
       "    .dataframe thead th {\n",
       "        text-align: right;\n",
       "    }\n",
       "</style>\n",
       "<table border=\"1\" class=\"dataframe\">\n",
       "  <thead>\n",
       "    <tr style=\"text-align: right;\">\n",
       "      <th></th>\n",
       "      <th>satisfaction_level</th>\n",
       "      <th>last_evaluation</th>\n",
       "      <th>number_project</th>\n",
       "      <th>average_montly_hours</th>\n",
       "      <th>time_spend_company</th>\n",
       "      <th>Work_accident</th>\n",
       "      <th>left</th>\n",
       "      <th>promotion_last_5years</th>\n",
       "    </tr>\n",
       "  </thead>\n",
       "  <tbody>\n",
       "    <tr>\n",
       "      <th>13278</th>\n",
       "      <td>0.51</td>\n",
       "      <td>0.62</td>\n",
       "      <td>4</td>\n",
       "      <td>185</td>\n",
       "      <td>3</td>\n",
       "      <td>0</td>\n",
       "      <td>0</td>\n",
       "      <td>0</td>\n",
       "    </tr>\n",
       "    <tr>\n",
       "      <th>10716</th>\n",
       "      <td>0.98</td>\n",
       "      <td>0.91</td>\n",
       "      <td>3</td>\n",
       "      <td>165</td>\n",
       "      <td>2</td>\n",
       "      <td>1</td>\n",
       "      <td>0</td>\n",
       "      <td>0</td>\n",
       "    </tr>\n",
       "    <tr>\n",
       "      <th>13551</th>\n",
       "      <td>0.77</td>\n",
       "      <td>0.54</td>\n",
       "      <td>4</td>\n",
       "      <td>139</td>\n",
       "      <td>3</td>\n",
       "      <td>1</td>\n",
       "      <td>0</td>\n",
       "      <td>0</td>\n",
       "    </tr>\n",
       "    <tr>\n",
       "      <th>2477</th>\n",
       "      <td>0.81</td>\n",
       "      <td>0.83</td>\n",
       "      <td>3</td>\n",
       "      <td>196</td>\n",
       "      <td>2</td>\n",
       "      <td>0</td>\n",
       "      <td>0</td>\n",
       "      <td>0</td>\n",
       "    </tr>\n",
       "    <tr>\n",
       "      <th>9911</th>\n",
       "      <td>0.96</td>\n",
       "      <td>0.58</td>\n",
       "      <td>5</td>\n",
       "      <td>197</td>\n",
       "      <td>4</td>\n",
       "      <td>1</td>\n",
       "      <td>0</td>\n",
       "      <td>0</td>\n",
       "    </tr>\n",
       "    <tr>\n",
       "      <th>...</th>\n",
       "      <td>...</td>\n",
       "      <td>...</td>\n",
       "      <td>...</td>\n",
       "      <td>...</td>\n",
       "      <td>...</td>\n",
       "      <td>...</td>\n",
       "      <td>...</td>\n",
       "      <td>...</td>\n",
       "    </tr>\n",
       "    <tr>\n",
       "      <th>1678</th>\n",
       "      <td>0.75</td>\n",
       "      <td>0.89</td>\n",
       "      <td>5</td>\n",
       "      <td>276</td>\n",
       "      <td>5</td>\n",
       "      <td>0</td>\n",
       "      <td>1</td>\n",
       "      <td>0</td>\n",
       "    </tr>\n",
       "    <tr>\n",
       "      <th>8043</th>\n",
       "      <td>0.49</td>\n",
       "      <td>0.42</td>\n",
       "      <td>2</td>\n",
       "      <td>266</td>\n",
       "      <td>3</td>\n",
       "      <td>0</td>\n",
       "      <td>0</td>\n",
       "      <td>0</td>\n",
       "    </tr>\n",
       "    <tr>\n",
       "      <th>13742</th>\n",
       "      <td>0.67</td>\n",
       "      <td>0.72</td>\n",
       "      <td>2</td>\n",
       "      <td>134</td>\n",
       "      <td>10</td>\n",
       "      <td>0</td>\n",
       "      <td>0</td>\n",
       "      <td>0</td>\n",
       "    </tr>\n",
       "    <tr>\n",
       "      <th>6210</th>\n",
       "      <td>0.98</td>\n",
       "      <td>0.96</td>\n",
       "      <td>5</td>\n",
       "      <td>183</td>\n",
       "      <td>3</td>\n",
       "      <td>1</td>\n",
       "      <td>0</td>\n",
       "      <td>0</td>\n",
       "    </tr>\n",
       "    <tr>\n",
       "      <th>11944</th>\n",
       "      <td>0.99</td>\n",
       "      <td>0.68</td>\n",
       "      <td>5</td>\n",
       "      <td>264</td>\n",
       "      <td>10</td>\n",
       "      <td>1</td>\n",
       "      <td>0</td>\n",
       "      <td>0</td>\n",
       "    </tr>\n",
       "  </tbody>\n",
       "</table>\n",
       "<p>3000 rows × 8 columns</p>\n",
       "</div>"
      ],
      "text/plain": [
       "       satisfaction_level  last_evaluation  number_project  \\\n",
       "13278                0.51             0.62               4   \n",
       "10716                0.98             0.91               3   \n",
       "13551                0.77             0.54               4   \n",
       "2477                 0.81             0.83               3   \n",
       "9911                 0.96             0.58               5   \n",
       "...                   ...              ...             ...   \n",
       "1678                 0.75             0.89               5   \n",
       "8043                 0.49             0.42               2   \n",
       "13742                0.67             0.72               2   \n",
       "6210                 0.98             0.96               5   \n",
       "11944                0.99             0.68               5   \n",
       "\n",
       "       average_montly_hours  time_spend_company  Work_accident  left  \\\n",
       "13278                   185                   3              0     0   \n",
       "10716                   165                   2              1     0   \n",
       "13551                   139                   3              1     0   \n",
       "2477                    196                   2              0     0   \n",
       "9911                    197                   4              1     0   \n",
       "...                     ...                 ...            ...   ...   \n",
       "1678                    276                   5              0     1   \n",
       "8043                    266                   3              0     0   \n",
       "13742                   134                  10              0     0   \n",
       "6210                    183                   3              1     0   \n",
       "11944                   264                  10              1     0   \n",
       "\n",
       "       promotion_last_5years  \n",
       "13278                      0  \n",
       "10716                      0  \n",
       "13551                      0  \n",
       "2477                       0  \n",
       "9911                       0  \n",
       "...                      ...  \n",
       "1678                       0  \n",
       "8043                       0  \n",
       "13742                      0  \n",
       "6210                       0  \n",
       "11944                      0  \n",
       "\n",
       "[3000 rows x 8 columns]"
      ]
     },
     "execution_count": 526,
     "metadata": {},
     "output_type": "execute_result"
    }
   ],
   "source": [
    "data_test"
   ]
  },
  {
   "cell_type": "code",
   "execution_count": 527,
   "id": "af39f7b7",
   "metadata": {},
   "outputs": [],
   "source": [
    "y_train, y_test = data_train['left'], data_test['left']\n",
    "del data_train['left']\n",
    "del data_test['left']"
   ]
  },
  {
   "cell_type": "code",
   "execution_count": 528,
   "id": "6d230ef2",
   "metadata": {},
   "outputs": [
    {
     "data": {
      "text/html": [
       "<div>\n",
       "<style scoped>\n",
       "    .dataframe tbody tr th:only-of-type {\n",
       "        vertical-align: middle;\n",
       "    }\n",
       "\n",
       "    .dataframe tbody tr th {\n",
       "        vertical-align: top;\n",
       "    }\n",
       "\n",
       "    .dataframe thead th {\n",
       "        text-align: right;\n",
       "    }\n",
       "</style>\n",
       "<table border=\"1\" class=\"dataframe\">\n",
       "  <thead>\n",
       "    <tr style=\"text-align: right;\">\n",
       "      <th></th>\n",
       "      <th>satisfaction_level</th>\n",
       "      <th>last_evaluation</th>\n",
       "      <th>number_project</th>\n",
       "      <th>average_montly_hours</th>\n",
       "      <th>time_spend_company</th>\n",
       "      <th>Work_accident</th>\n",
       "      <th>promotion_last_5years</th>\n",
       "    </tr>\n",
       "  </thead>\n",
       "  <tbody>\n",
       "    <tr>\n",
       "      <th>7666</th>\n",
       "      <td>0.88</td>\n",
       "      <td>0.59</td>\n",
       "      <td>3</td>\n",
       "      <td>224</td>\n",
       "      <td>2</td>\n",
       "      <td>0</td>\n",
       "      <td>0</td>\n",
       "    </tr>\n",
       "    <tr>\n",
       "      <th>13172</th>\n",
       "      <td>0.94</td>\n",
       "      <td>0.52</td>\n",
       "      <td>5</td>\n",
       "      <td>133</td>\n",
       "      <td>3</td>\n",
       "      <td>0</td>\n",
       "      <td>0</td>\n",
       "    </tr>\n",
       "    <tr>\n",
       "      <th>10345</th>\n",
       "      <td>0.91</td>\n",
       "      <td>0.82</td>\n",
       "      <td>6</td>\n",
       "      <td>280</td>\n",
       "      <td>3</td>\n",
       "      <td>0</td>\n",
       "      <td>0</td>\n",
       "    </tr>\n",
       "    <tr>\n",
       "      <th>14654</th>\n",
       "      <td>0.81</td>\n",
       "      <td>0.98</td>\n",
       "      <td>5</td>\n",
       "      <td>245</td>\n",
       "      <td>5</td>\n",
       "      <td>0</td>\n",
       "      <td>0</td>\n",
       "    </tr>\n",
       "    <tr>\n",
       "      <th>5021</th>\n",
       "      <td>0.66</td>\n",
       "      <td>0.99</td>\n",
       "      <td>4</td>\n",
       "      <td>195</td>\n",
       "      <td>3</td>\n",
       "      <td>0</td>\n",
       "      <td>0</td>\n",
       "    </tr>\n",
       "    <tr>\n",
       "      <th>...</th>\n",
       "      <td>...</td>\n",
       "      <td>...</td>\n",
       "      <td>...</td>\n",
       "      <td>...</td>\n",
       "      <td>...</td>\n",
       "      <td>...</td>\n",
       "      <td>...</td>\n",
       "    </tr>\n",
       "    <tr>\n",
       "      <th>4292</th>\n",
       "      <td>0.50</td>\n",
       "      <td>0.97</td>\n",
       "      <td>4</td>\n",
       "      <td>269</td>\n",
       "      <td>3</td>\n",
       "      <td>0</td>\n",
       "      <td>0</td>\n",
       "    </tr>\n",
       "    <tr>\n",
       "      <th>7857</th>\n",
       "      <td>0.36</td>\n",
       "      <td>0.63</td>\n",
       "      <td>2</td>\n",
       "      <td>278</td>\n",
       "      <td>4</td>\n",
       "      <td>0</td>\n",
       "      <td>0</td>\n",
       "    </tr>\n",
       "    <tr>\n",
       "      <th>6280</th>\n",
       "      <td>0.77</td>\n",
       "      <td>0.48</td>\n",
       "      <td>4</td>\n",
       "      <td>258</td>\n",
       "      <td>4</td>\n",
       "      <td>1</td>\n",
       "      <td>0</td>\n",
       "    </tr>\n",
       "    <tr>\n",
       "      <th>6320</th>\n",
       "      <td>0.64</td>\n",
       "      <td>0.81</td>\n",
       "      <td>2</td>\n",
       "      <td>226</td>\n",
       "      <td>2</td>\n",
       "      <td>0</td>\n",
       "      <td>0</td>\n",
       "    </tr>\n",
       "    <tr>\n",
       "      <th>9920</th>\n",
       "      <td>0.54</td>\n",
       "      <td>0.83</td>\n",
       "      <td>3</td>\n",
       "      <td>201</td>\n",
       "      <td>3</td>\n",
       "      <td>0</td>\n",
       "      <td>0</td>\n",
       "    </tr>\n",
       "  </tbody>\n",
       "</table>\n",
       "<p>11999 rows × 7 columns</p>\n",
       "</div>"
      ],
      "text/plain": [
       "       satisfaction_level  last_evaluation  number_project  \\\n",
       "7666                 0.88             0.59               3   \n",
       "13172                0.94             0.52               5   \n",
       "10345                0.91             0.82               6   \n",
       "14654                0.81             0.98               5   \n",
       "5021                 0.66             0.99               4   \n",
       "...                   ...              ...             ...   \n",
       "4292                 0.50             0.97               4   \n",
       "7857                 0.36             0.63               2   \n",
       "6280                 0.77             0.48               4   \n",
       "6320                 0.64             0.81               2   \n",
       "9920                 0.54             0.83               3   \n",
       "\n",
       "       average_montly_hours  time_spend_company  Work_accident  \\\n",
       "7666                    224                   2              0   \n",
       "13172                   133                   3              0   \n",
       "10345                   280                   3              0   \n",
       "14654                   245                   5              0   \n",
       "5021                    195                   3              0   \n",
       "...                     ...                 ...            ...   \n",
       "4292                    269                   3              0   \n",
       "7857                    278                   4              0   \n",
       "6280                    258                   4              1   \n",
       "6320                    226                   2              0   \n",
       "9920                    201                   3              0   \n",
       "\n",
       "       promotion_last_5years  \n",
       "7666                       0  \n",
       "13172                      0  \n",
       "10345                      0  \n",
       "14654                      0  \n",
       "5021                       0  \n",
       "...                      ...  \n",
       "4292                       0  \n",
       "7857                       0  \n",
       "6280                       0  \n",
       "6320                       0  \n",
       "9920                       0  \n",
       "\n",
       "[11999 rows x 7 columns]"
      ]
     },
     "execution_count": 528,
     "metadata": {},
     "output_type": "execute_result"
    }
   ],
   "source": [
    "data_train"
   ]
  },
  {
   "cell_type": "code",
   "execution_count": 529,
   "id": "08bf4edc",
   "metadata": {},
   "outputs": [
    {
     "data": {
      "text/html": [
       "<div>\n",
       "<style scoped>\n",
       "    .dataframe tbody tr th:only-of-type {\n",
       "        vertical-align: middle;\n",
       "    }\n",
       "\n",
       "    .dataframe tbody tr th {\n",
       "        vertical-align: top;\n",
       "    }\n",
       "\n",
       "    .dataframe thead th {\n",
       "        text-align: right;\n",
       "    }\n",
       "</style>\n",
       "<table border=\"1\" class=\"dataframe\">\n",
       "  <thead>\n",
       "    <tr style=\"text-align: right;\">\n",
       "      <th></th>\n",
       "      <th>satisfaction_level</th>\n",
       "      <th>last_evaluation</th>\n",
       "      <th>number_project</th>\n",
       "      <th>average_montly_hours</th>\n",
       "      <th>time_spend_company</th>\n",
       "      <th>Work_accident</th>\n",
       "      <th>promotion_last_5years</th>\n",
       "    </tr>\n",
       "  </thead>\n",
       "  <tbody>\n",
       "    <tr>\n",
       "      <th>13278</th>\n",
       "      <td>0.51</td>\n",
       "      <td>0.62</td>\n",
       "      <td>4</td>\n",
       "      <td>185</td>\n",
       "      <td>3</td>\n",
       "      <td>0</td>\n",
       "      <td>0</td>\n",
       "    </tr>\n",
       "    <tr>\n",
       "      <th>10716</th>\n",
       "      <td>0.98</td>\n",
       "      <td>0.91</td>\n",
       "      <td>3</td>\n",
       "      <td>165</td>\n",
       "      <td>2</td>\n",
       "      <td>1</td>\n",
       "      <td>0</td>\n",
       "    </tr>\n",
       "    <tr>\n",
       "      <th>13551</th>\n",
       "      <td>0.77</td>\n",
       "      <td>0.54</td>\n",
       "      <td>4</td>\n",
       "      <td>139</td>\n",
       "      <td>3</td>\n",
       "      <td>1</td>\n",
       "      <td>0</td>\n",
       "    </tr>\n",
       "    <tr>\n",
       "      <th>2477</th>\n",
       "      <td>0.81</td>\n",
       "      <td>0.83</td>\n",
       "      <td>3</td>\n",
       "      <td>196</td>\n",
       "      <td>2</td>\n",
       "      <td>0</td>\n",
       "      <td>0</td>\n",
       "    </tr>\n",
       "    <tr>\n",
       "      <th>9911</th>\n",
       "      <td>0.96</td>\n",
       "      <td>0.58</td>\n",
       "      <td>5</td>\n",
       "      <td>197</td>\n",
       "      <td>4</td>\n",
       "      <td>1</td>\n",
       "      <td>0</td>\n",
       "    </tr>\n",
       "    <tr>\n",
       "      <th>...</th>\n",
       "      <td>...</td>\n",
       "      <td>...</td>\n",
       "      <td>...</td>\n",
       "      <td>...</td>\n",
       "      <td>...</td>\n",
       "      <td>...</td>\n",
       "      <td>...</td>\n",
       "    </tr>\n",
       "    <tr>\n",
       "      <th>1678</th>\n",
       "      <td>0.75</td>\n",
       "      <td>0.89</td>\n",
       "      <td>5</td>\n",
       "      <td>276</td>\n",
       "      <td>5</td>\n",
       "      <td>0</td>\n",
       "      <td>0</td>\n",
       "    </tr>\n",
       "    <tr>\n",
       "      <th>8043</th>\n",
       "      <td>0.49</td>\n",
       "      <td>0.42</td>\n",
       "      <td>2</td>\n",
       "      <td>266</td>\n",
       "      <td>3</td>\n",
       "      <td>0</td>\n",
       "      <td>0</td>\n",
       "    </tr>\n",
       "    <tr>\n",
       "      <th>13742</th>\n",
       "      <td>0.67</td>\n",
       "      <td>0.72</td>\n",
       "      <td>2</td>\n",
       "      <td>134</td>\n",
       "      <td>10</td>\n",
       "      <td>0</td>\n",
       "      <td>0</td>\n",
       "    </tr>\n",
       "    <tr>\n",
       "      <th>6210</th>\n",
       "      <td>0.98</td>\n",
       "      <td>0.96</td>\n",
       "      <td>5</td>\n",
       "      <td>183</td>\n",
       "      <td>3</td>\n",
       "      <td>1</td>\n",
       "      <td>0</td>\n",
       "    </tr>\n",
       "    <tr>\n",
       "      <th>11944</th>\n",
       "      <td>0.99</td>\n",
       "      <td>0.68</td>\n",
       "      <td>5</td>\n",
       "      <td>264</td>\n",
       "      <td>10</td>\n",
       "      <td>1</td>\n",
       "      <td>0</td>\n",
       "    </tr>\n",
       "  </tbody>\n",
       "</table>\n",
       "<p>3000 rows × 7 columns</p>\n",
       "</div>"
      ],
      "text/plain": [
       "       satisfaction_level  last_evaluation  number_project  \\\n",
       "13278                0.51             0.62               4   \n",
       "10716                0.98             0.91               3   \n",
       "13551                0.77             0.54               4   \n",
       "2477                 0.81             0.83               3   \n",
       "9911                 0.96             0.58               5   \n",
       "...                   ...              ...             ...   \n",
       "1678                 0.75             0.89               5   \n",
       "8043                 0.49             0.42               2   \n",
       "13742                0.67             0.72               2   \n",
       "6210                 0.98             0.96               5   \n",
       "11944                0.99             0.68               5   \n",
       "\n",
       "       average_montly_hours  time_spend_company  Work_accident  \\\n",
       "13278                   185                   3              0   \n",
       "10716                   165                   2              1   \n",
       "13551                   139                   3              1   \n",
       "2477                    196                   2              0   \n",
       "9911                    197                   4              1   \n",
       "...                     ...                 ...            ...   \n",
       "1678                    276                   5              0   \n",
       "8043                    266                   3              0   \n",
       "13742                   134                  10              0   \n",
       "6210                    183                   3              1   \n",
       "11944                   264                  10              1   \n",
       "\n",
       "       promotion_last_5years  \n",
       "13278                      0  \n",
       "10716                      0  \n",
       "13551                      0  \n",
       "2477                       0  \n",
       "9911                       0  \n",
       "...                      ...  \n",
       "1678                       0  \n",
       "8043                       0  \n",
       "13742                      0  \n",
       "6210                       0  \n",
       "11944                      0  \n",
       "\n",
       "[3000 rows x 7 columns]"
      ]
     },
     "execution_count": 529,
     "metadata": {},
     "output_type": "execute_result"
    }
   ],
   "source": [
    "data_test"
   ]
  },
  {
   "cell_type": "code",
   "execution_count": 530,
   "id": "14c16478",
   "metadata": {},
   "outputs": [
    {
     "data": {
      "text/plain": [
       "LinearDiscriminantAnalysis()"
      ]
     },
     "execution_count": 530,
     "metadata": {},
     "output_type": "execute_result"
    }
   ],
   "source": [
    "lda.fit(data_train, y_train)"
   ]
  },
  {
   "cell_type": "code",
   "execution_count": 531,
   "id": "ef9d2c4d",
   "metadata": {},
   "outputs": [
    {
     "data": {
      "text/plain": [
       "array([0, 0, 0, ..., 0, 0, 0], dtype=int64)"
      ]
     },
     "execution_count": 531,
     "metadata": {},
     "output_type": "execute_result"
    }
   ],
   "source": [
    "lda.predict(data_test)"
   ]
  },
  {
   "cell_type": "code",
   "execution_count": 532,
   "id": "a9f9559a",
   "metadata": {},
   "outputs": [
    {
     "data": {
      "text/html": [
       "<div>\n",
       "<style scoped>\n",
       "    .dataframe tbody tr th:only-of-type {\n",
       "        vertical-align: middle;\n",
       "    }\n",
       "\n",
       "    .dataframe tbody tr th {\n",
       "        vertical-align: top;\n",
       "    }\n",
       "\n",
       "    .dataframe thead th {\n",
       "        text-align: right;\n",
       "    }\n",
       "</style>\n",
       "<table border=\"1\" class=\"dataframe\">\n",
       "  <thead>\n",
       "    <tr style=\"text-align: right;\">\n",
       "      <th></th>\n",
       "      <th>0</th>\n",
       "      <th>1</th>\n",
       "    </tr>\n",
       "  </thead>\n",
       "  <tbody>\n",
       "    <tr>\n",
       "      <th>0</th>\n",
       "      <td>0</td>\n",
       "      <td>0</td>\n",
       "    </tr>\n",
       "    <tr>\n",
       "      <th>1</th>\n",
       "      <td>0</td>\n",
       "      <td>0</td>\n",
       "    </tr>\n",
       "    <tr>\n",
       "      <th>2</th>\n",
       "      <td>0</td>\n",
       "      <td>0</td>\n",
       "    </tr>\n",
       "    <tr>\n",
       "      <th>3</th>\n",
       "      <td>0</td>\n",
       "      <td>0</td>\n",
       "    </tr>\n",
       "    <tr>\n",
       "      <th>4</th>\n",
       "      <td>0</td>\n",
       "      <td>0</td>\n",
       "    </tr>\n",
       "    <tr>\n",
       "      <th>...</th>\n",
       "      <td>...</td>\n",
       "      <td>...</td>\n",
       "    </tr>\n",
       "    <tr>\n",
       "      <th>2995</th>\n",
       "      <td>1</td>\n",
       "      <td>0</td>\n",
       "    </tr>\n",
       "    <tr>\n",
       "      <th>2996</th>\n",
       "      <td>0</td>\n",
       "      <td>0</td>\n",
       "    </tr>\n",
       "    <tr>\n",
       "      <th>2997</th>\n",
       "      <td>0</td>\n",
       "      <td>0</td>\n",
       "    </tr>\n",
       "    <tr>\n",
       "      <th>2998</th>\n",
       "      <td>0</td>\n",
       "      <td>0</td>\n",
       "    </tr>\n",
       "    <tr>\n",
       "      <th>2999</th>\n",
       "      <td>0</td>\n",
       "      <td>0</td>\n",
       "    </tr>\n",
       "  </tbody>\n",
       "</table>\n",
       "<p>3000 rows × 2 columns</p>\n",
       "</div>"
      ],
      "text/plain": [
       "      0  1\n",
       "0     0  0\n",
       "1     0  0\n",
       "2     0  0\n",
       "3     0  0\n",
       "4     0  0\n",
       "...  .. ..\n",
       "2995  1  0\n",
       "2996  0  0\n",
       "2997  0  0\n",
       "2998  0  0\n",
       "2999  0  0\n",
       "\n",
       "[3000 rows x 2 columns]"
      ]
     },
     "execution_count": 532,
     "metadata": {},
     "output_type": "execute_result"
    }
   ],
   "source": [
    "result = pd.DataFrame([y_test.values, lda.predict(data_test)]).T\n",
    "result"
   ]
  },
  {
   "cell_type": "code",
   "execution_count": 533,
   "id": "753c61f1",
   "metadata": {},
   "outputs": [],
   "source": [
    "#Оценим качество модели на тестовой выборке"
   ]
  },
  {
   "cell_type": "code",
   "execution_count": 534,
   "id": "6450477f",
   "metadata": {},
   "outputs": [],
   "source": [
    "from sklearn.metrics import accuracy_score"
   ]
  },
  {
   "cell_type": "code",
   "execution_count": 535,
   "id": "6d43b5e2",
   "metadata": {},
   "outputs": [
    {
     "data": {
      "text/plain": [
       "0.7613333333333333"
      ]
     },
     "execution_count": 535,
     "metadata": {},
     "output_type": "execute_result"
    }
   ],
   "source": [
    "accuracy_score(y_test, lda.predict(data_test))"
   ]
  },
  {
   "cell_type": "markdown",
   "id": "5413c1e6",
   "metadata": {},
   "source": [
    "### ТОЧНОСТЬ МОДЕЛИ: 76,1 %"
   ]
  },
  {
   "cell_type": "markdown",
   "id": "5594b5fc",
   "metadata": {},
   "source": [
    "# Строим точечные графики на все, что сможем построить"
   ]
  },
  {
   "cell_type": "code",
   "execution_count": 284,
   "id": "93e42626",
   "metadata": {},
   "outputs": [
    {
     "data": {
      "text/plain": [
       "<AxesSubplot:xlabel='satisfaction_level', ylabel='left'>"
      ]
     },
     "execution_count": 284,
     "metadata": {},
     "output_type": "execute_result"
    },
    {
     "data": {
      "image/png": "[encoded data removed]",
      "text/plain": [
       "<Figure size 432x288 with 1 Axes>"
      ]
     },
     "metadata": {
      "needs_background": "light"
     },
     "output_type": "display_data"
    }
   ],
   "source": [
    "# Отвечаем на вопрос: есть ли связь между увольнением left и удовлетворенностью satisfaction_level?\n",
    "df_HR_LDA.plot(kind='scatter', x='satisfaction_level', y='left')\n",
    "# Построим точечный график\n",
    "# ВЫВОД-ПРЕДПОЛОЖЕНИЕ: ТОТ, КТО НЕ УВОЛЬНЯЛСЯ БЫЛ В СРЕДНЕМ ЧУТЬ-ЧУТЬ БОЛЕЕ УДОВЛЕТВОРЕННЫМ, ЧЕМ ТОТ,\n",
    "# КТО УВОЛЬНЯЛСЯ, но не критично"
   ]
  },
  {
   "cell_type": "code",
   "execution_count": 295,
   "id": "3f617657",
   "metadata": {},
   "outputs": [
    {
     "data": {
      "text/html": [
       "<div>\n",
       "<style scoped>\n",
       "    .dataframe tbody tr th:only-of-type {\n",
       "        vertical-align: middle;\n",
       "    }\n",
       "\n",
       "    .dataframe tbody tr th {\n",
       "        vertical-align: top;\n",
       "    }\n",
       "\n",
       "    .dataframe thead th {\n",
       "        text-align: right;\n",
       "    }\n",
       "</style>\n",
       "<table border=\"1\" class=\"dataframe\">\n",
       "  <thead>\n",
       "    <tr style=\"text-align: right;\">\n",
       "      <th></th>\n",
       "      <th>satisfaction_level</th>\n",
       "      <th>left</th>\n",
       "    </tr>\n",
       "  </thead>\n",
       "  <tbody>\n",
       "    <tr>\n",
       "      <th>satisfaction_level</th>\n",
       "      <td>1.000000</td>\n",
       "      <td>-0.365842</td>\n",
       "    </tr>\n",
       "    <tr>\n",
       "      <th>left</th>\n",
       "      <td>-0.365842</td>\n",
       "      <td>1.000000</td>\n",
       "    </tr>\n",
       "  </tbody>\n",
       "</table>\n",
       "</div>"
      ],
      "text/plain": [
       "                    satisfaction_level      left\n",
       "satisfaction_level            1.000000 -0.365842\n",
       "left                         -0.365842  1.000000"
      ]
     },
     "execution_count": 295,
     "metadata": {},
     "output_type": "execute_result"
    }
   ],
   "source": [
    "# Определим, влияет ли один параметр на другой\n",
    "df_HR_LDA[['satisfaction_level', 'left']].corr(method='spearman') # коэффициент Спирмена\n",
    "# Вывод - есть ниже среднего корреляция по Спирмену"
   ]
  },
  {
   "cell_type": "code",
   "execution_count": 285,
   "id": "b7f3f433",
   "metadata": {},
   "outputs": [
    {
     "data": {
      "text/plain": [
       "<AxesSubplot:xlabel='last_evaluation', ylabel='left'>"
      ]
     },
     "execution_count": 285,
     "metadata": {},
     "output_type": "execute_result"
    },
    {
     "data": {
      "image/png": "[encoded data removed]",
      "text/plain": [
       "<Figure size 432x288 with 1 Axes>"
      ]
     },
     "metadata": {
      "needs_background": "light"
     },
     "output_type": "display_data"
    }
   ],
   "source": [
    "# Отвечаем на вопрос: есть ли связь между увольнением left и эвалюацией last_evaluation?\n",
    "df_HR_LDA.plot(kind='scatter', x='last_evaluation', y='left')\n",
    "# Построим точечный график\n",
    "# ВЫВОД-ПРЕДПОЛОЖЕНИЕ: ТЕ, КТО УХОДИЛ НЕМНОГО ДОЛЬШЕ ЖДАЛИ ОЦЕНКИ (ЭВАЛЮАЦИИ), ЧЕМ ТЕ, ЧТО ОСТАЛИСЬ"
   ]
  },
  {
   "cell_type": "code",
   "execution_count": 287,
   "id": "0616ecb0",
   "metadata": {},
   "outputs": [
    {
     "data": {
      "text/plain": [
       "<AxesSubplot:xlabel='number_project', ylabel='left'>"
      ]
     },
     "execution_count": 287,
     "metadata": {},
     "output_type": "execute_result"
    },
    {
     "data": {
      "image/png": "[encoded data removed]",
      "text/plain": [
       "<Figure size 432x288 with 1 Axes>"
      ]
     },
     "metadata": {
      "needs_background": "light"
     },
     "output_type": "display_data"
    }
   ],
   "source": [
    "# Отвечаем на вопрос: есть ли связь между увольнением left и количеством проектов number_project?\n",
    "df_HR_LDA.plot(kind='scatter', x='number_project', y='left')\n",
    "# Построим точечный график\n",
    "# ВЫВОД-ПРЕДПОЛОЖЕНИЕ: ТОТ, КТО УХОДИЛ ИМЕЛ ЧУТЬ БОЛЬШЕ ПРОЕКТОВ, ЧЕМ ТОТ, КТО ОСТАЛСЯ (ЭТОТ ЖЕ ВЫВОД-ПРЕДПОЛОЖЕНИЕ МЫ СДЕЛАЛИ РАНЕЕ\n",
    "# НА ОСНОВЕ СРЕДНЕГО КОЛИЧЕСТВА ПРОЕКТОВ НА 1 УВОЛИВШЕГОСЯ СОТРУДНИКА)"
   ]
  },
  {
   "cell_type": "code",
   "execution_count": 288,
   "id": "7b710b05",
   "metadata": {},
   "outputs": [
    {
     "data": {
      "text/plain": [
       "<AxesSubplot:xlabel='time_spend_company', ylabel='left'>"
      ]
     },
     "execution_count": 288,
     "metadata": {},
     "output_type": "execute_result"
    },
    {
     "data": {
      "image/png": "[encoded data removed]",
      "text/plain": [
       "<Figure size 432x288 with 1 Axes>"
      ]
     },
     "metadata": {
      "needs_background": "light"
     },
     "output_type": "display_data"
    }
   ],
   "source": [
    "# Отвечаем на вопрос: есть ли связь между увольнением left и стажем в компании time_spend_company?\n",
    "df_HR_LDA.plot(kind='scatter', x='time_spend_company', y='left')\n",
    "# Построим точечный график\n",
    "# ВЫВОД-ПРЕДПОЛОЖЕНИЕ: ТОТ, КТО УХОДИЛ ИМЕЛ МЕНЬШИЙ ОПЫТ РАБОТЫ В КОМПАНИИ, ЧЕМ ТОТ, КТО ПРОДОЛЖАЛ РАБОТАТЬ)"
   ]
  },
  {
   "cell_type": "code",
   "execution_count": 299,
   "id": "5a146883",
   "metadata": {},
   "outputs": [
    {
     "data": {
      "text/html": [
       "<div>\n",
       "<style scoped>\n",
       "    .dataframe tbody tr th:only-of-type {\n",
       "        vertical-align: middle;\n",
       "    }\n",
       "\n",
       "    .dataframe tbody tr th {\n",
       "        vertical-align: top;\n",
       "    }\n",
       "\n",
       "    .dataframe thead th {\n",
       "        text-align: right;\n",
       "    }\n",
       "</style>\n",
       "<table border=\"1\" class=\"dataframe\">\n",
       "  <thead>\n",
       "    <tr style=\"text-align: right;\">\n",
       "      <th></th>\n",
       "      <th>time_spend_company</th>\n",
       "      <th>left</th>\n",
       "    </tr>\n",
       "  </thead>\n",
       "  <tbody>\n",
       "    <tr>\n",
       "      <th>time_spend_company</th>\n",
       "      <td>1.000000</td>\n",
       "      <td>0.268876</td>\n",
       "    </tr>\n",
       "    <tr>\n",
       "      <th>left</th>\n",
       "      <td>0.268876</td>\n",
       "      <td>1.000000</td>\n",
       "    </tr>\n",
       "  </tbody>\n",
       "</table>\n",
       "</div>"
      ],
      "text/plain": [
       "                    time_spend_company      left\n",
       "time_spend_company            1.000000  0.268876\n",
       "left                          0.268876  1.000000"
      ]
     },
     "execution_count": 299,
     "metadata": {},
     "output_type": "execute_result"
    }
   ],
   "source": [
    "# Определим, влияет ли один параметр на другой\n",
    "df_HR_LDA[['time_spend_company', 'left']].corr(method='spearman') # коэффициент Спирмена\n",
    "# Вывод - есть совсем небольшая корреляция по Спирмену"
   ]
  },
  {
   "cell_type": "code",
   "execution_count": 289,
   "id": "e89dfdd4",
   "metadata": {},
   "outputs": [
    {
     "data": {
      "text/plain": [
       "<AxesSubplot:xlabel='Work_accident', ylabel='left'>"
      ]
     },
     "execution_count": 289,
     "metadata": {},
     "output_type": "execute_result"
    },
    {
     "data": {
      "image/png": "[encoded data removed]",
      "text/plain": [
       "<Figure size 432x288 with 1 Axes>"
      ]
     },
     "metadata": {
      "needs_background": "light"
     },
     "output_type": "display_data"
    }
   ],
   "source": [
    "# Отвечаем на вопрос: есть ли связь между увольнением left и наличием инцидентов в компании Work_accident?\n",
    "df_HR_LDA.plot(kind='scatter', x='Work_accident', y='left')\n",
    "# Построим точечный график\n",
    "# ВЫВОД-ПРЕДПОЛОЖЕНИЕ: НЕВОЗМОЖНО ТОЧНО ОТВЕТИТЬ НА ЗАДАННЫЙ ВОПРОС ТОЛЬКО С ПОМОЩЬЮ ОДНОЙ ВИЗУАЛИЗАЦИИ."
   ]
  },
  {
   "cell_type": "code",
   "execution_count": 290,
   "id": "aef7945a",
   "metadata": {},
   "outputs": [
    {
     "data": {
      "text/plain": [
       "<AxesSubplot:xlabel='average_montly_hours', ylabel='left'>"
      ]
     },
     "execution_count": 290,
     "metadata": {},
     "output_type": "execute_result"
    },
    {
     "data": {
      "image/png": "[encoded data removed]",
      "text/plain": [
       "<Figure size 432x288 with 1 Axes>"
      ]
     },
     "metadata": {
      "needs_background": "light"
     },
     "output_type": "display_data"
    }
   ],
   "source": [
    "# Отвечаем на вопрос: есть ли связь между увольнением left и количеством часов работы в месяц average_montly_hours?\n",
    "df_HR_LDA.plot(kind='scatter', x='average_montly_hours', y='left')\n",
    "# Построим точечный график\n",
    "# ВЫВОД-ПРЕДПОЛОЖЕНИЕ: ОЧЕВИДНО, ЧТО ТЕ, КТО УВОЛЬНЯЛСЯ РАБОТАЛ БОЛЬШЕ И ПРАКТИЧЕСКИ НЕ ИМЕЛ НЕБОЛЬШОЙ ЗАНЯТОСТИ"
   ]
  },
  {
   "cell_type": "code",
   "execution_count": 291,
   "id": "31641721",
   "metadata": {},
   "outputs": [
    {
     "data": {
      "text/plain": [
       "<AxesSubplot:xlabel='promotion_last_5years', ylabel='left'>"
      ]
     },
     "execution_count": 291,
     "metadata": {},
     "output_type": "execute_result"
    },
    {
     "data": {
      "image/png": "[encoded data removed]",
      "text/plain": [
       "<Figure size 432x288 with 1 Axes>"
      ]
     },
     "metadata": {
      "needs_background": "light"
     },
     "output_type": "display_data"
    }
   ],
   "source": [
    "# Отвечаем на вопрос: есть ли связь между увольнением left и продвижением/отсутствием продвижения по службе promotion_last_5years?\n",
    "df_HR_LDA.plot(kind='scatter', x='promotion_last_5years', y='left')\n",
    "# Построим точечный график\n",
    "# ВЫВОД-ПРЕДПОЛОЖЕНИЕ: НЕВОЗМОЖНО ТОЧНО ОТВЕТИТЬ НА ЗАДАННЫЙ ВОПРОС ТОЛЬКО С ПОМОЩЬЮ ОДНОЙ ВИЗУАЛИЗАЦИИ."
   ]
  },
  {
   "cell_type": "markdown",
   "id": "076ed821",
   "metadata": {},
   "source": [
    "# Загрузить jupyter notebook с решение на github и прислать ссылку (5 баллов)"
   ]
  }
 ],
 "metadata": {
  "kernelspec": {
   "display_name": "Python 3",
   "language": "python",
   "name": "python3"
  },
  "language_info": {
   "codemirror_mode": {
    "name": "ipython",
    "version": 3
   },
   "file_extension": ".py",
   "mimetype": "text/x-python",
   "name": "python",
   "nbconvert_exporter": "python",
   "pygments_lexer": "ipython3",
   "version": "3.8.8"
  }
 },
 "nbformat": 4,
 "nbformat_minor": 5
}
