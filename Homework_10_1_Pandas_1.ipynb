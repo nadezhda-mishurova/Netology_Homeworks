{
 "cells": [
  {
   "cell_type": "code",
   "execution_count": null,
   "id": "937628af",
   "metadata": {},
   "outputs": [],
   "source": [
    "import pandas as pd\n",
    "movies = pd.read_csv('movies.csv')\n",
    "ratings = pd.read_csv('ratings.csv')\n",
    "joined = ratings.merge(movies, on = 'movieId', how = 'left')\n",
    "five_stars_movies = joined[joined.rating == 5.0]\n",
    "five_stars_movies['title'].value_counts().head(1)"
   ]
  }
 ],
 "metadata": {
  "kernelspec": {
   "display_name": "Python 3",
   "language": "python",
   "name": "python3"
  },
  "language_info": {
   "codemirror_mode": {
    "name": "ipython",
    "version": 3
   },
   "file_extension": ".py",
   "mimetype": "text/x-python",
   "name": "python",
   "nbconvert_exporter": "python",
   "pygments_lexer": "ipython3",
   "version": "3.8.8"
  }
 },
 "nbformat": 4,
 "nbformat_minor": 5
}
